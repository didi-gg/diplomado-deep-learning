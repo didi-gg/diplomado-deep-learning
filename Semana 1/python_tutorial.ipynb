{
 "cells": [
  {
   "cell_type": "markdown",
   "metadata": {
    "id": "eYoVPqp58EAA"
   },
   "source": [
    "[Link a Tutorial de Google Colab](https://colab.research.google.com/drive/14f-Ysk23HikabHpIgr4wpAL1PwlQqHe6?usp=sharing)\n"
   ]
  },
  {
   "cell_type": "markdown",
   "metadata": {
    "id": "juxsdVgb45cy"
   },
   "source": [
    "# Tutorial de Python\n",
    "\n",
    "Ajustado: Msc. Jorge Castellanos Rivillas.\n",
    "\n",
    "Docente en el Departamento de Sistemas Mecánicos e Infrastructura de la Universidad de La Sabana Colombia.\n",
    "\n",
    "mail jorge.castellanos@unisabana.edu.co\n",
    "\n",
    "Con este espacio se busca que se familiarice con el uso python con Google Colab.\n",
    "\n",
    "Autor: Dr. Federico Sevlever."
   ]
  },
  {
   "cell_type": "markdown",
   "metadata": {
    "id": "z6_bOKFN5KNn"
   },
   "source": [
    "## 1. Conceptos Básicos\n",
    "\n",
    "Antes de empezar vamos a recorrer algunos conceptos básicos y operaciones que aparecerán en casi todos los códigos que realicen."
   ]
  },
  {
   "cell_type": "code",
   "execution_count": null,
   "metadata": {
    "colab": {
     "base_uri": "https://localhost:8080/"
    },
    "executionInfo": {
     "elapsed": 238,
     "status": "ok",
     "timestamp": 1737405946461,
     "user": {
      "displayName": "Jorge Castellanos",
      "userId": "03164686543966604211"
     },
     "user_tz": 300
    },
    "id": "q7v0zroN5KNr",
    "outputId": "3ac96bc1-d0eb-4089-8011-2479da9df9f0"
   },
   "outputs": [
    {
     "name": "stdout",
     "output_type": "stream",
     "text": [
      "5\n",
      "11\n",
      "17\n"
     ]
    }
   ],
   "source": [
    "# Definimos una variable numérica\n",
    "x = 5\n",
    "# La función 'print()' la escribe en la pantalla\n",
    "print(x)\n",
    "\n",
    "y = 6\n",
    "print(y + 5)\n",
    "\n",
    "# Podemos hacer cuentas, el '*' es el producto\n",
    "z = x + 2*y\n",
    "print(z)"
   ]
  },
  {
   "cell_type": "code",
   "execution_count": 2,
   "metadata": {
    "colab": {
     "base_uri": "https://localhost:8080/",
     "height": 176
    },
    "executionInfo": {
     "elapsed": 206,
     "status": "error",
     "timestamp": 1737052328256,
     "user": {
      "displayName": "Jorge Castellanos",
      "userId": "03164686543966604211"
     },
     "user_tz": 300
    },
    "id": "aGeggUoa5KNz",
    "outputId": "e4fcbbb5-7dd7-4751-8594-7eb030a38e5c"
   },
   "outputs": [
    {
     "ename": "NameError",
     "evalue": "name 'z' is not defined",
     "output_type": "error",
     "traceback": [
      "\u001b[0;31m---------------------------------------------------------------------------\u001b[0m",
      "\u001b[0;31mNameError\u001b[0m                                 Traceback (most recent call last)",
      "Cell \u001b[0;32mIn[2], line 5\u001b[0m\n\u001b[1;32m      2\u001b[0m \u001b[38;5;28;01mdel\u001b[39;00m z\n\u001b[1;32m      4\u001b[0m \u001b[38;5;66;03m# Error! (z ya no existe porque la eliminamos)\u001b[39;00m\n\u001b[0;32m----> 5\u001b[0m \u001b[38;5;28mprint\u001b[39m(\u001b[43mz\u001b[49m)\n",
      "\u001b[0;31mNameError\u001b[0m: name 'z' is not defined"
     ]
    }
   ],
   "source": [
    "# La función 'del' elimina la variable\n",
    "del z\n",
    "\n",
    "# Error! (z ya no existe porque la eliminamos)\n",
    "print(z)"
   ]
  },
  {
   "cell_type": "markdown",
   "metadata": {
    "id": "_fTJJTvs5KN-"
   },
   "source": [
    "## 1. Tipos de variables\n",
    "\n",
    "1. type() función para saber el tipo de dato de una variable."
   ]
  },
  {
   "cell_type": "code",
   "execution_count": 1,
   "metadata": {
    "colab": {
     "base_uri": "https://localhost:8080/"
    },
    "executionInfo": {
     "elapsed": 201,
     "status": "ok",
     "timestamp": 1737052334904,
     "user": {
      "displayName": "Jorge Castellanos",
      "userId": "03164686543966604211"
     },
     "user_tz": 300
    },
    "id": "0bEZWlr35KOA",
    "outputId": "c302ae5c-1c87-4475-9702-7196889b0655"
   },
   "outputs": [
    {
     "name": "stdout",
     "output_type": "stream",
     "text": [
      "<class 'int'>\n",
      "<class 'float'>\n",
      "<class 'bool'>\n",
      "<class 'NoneType'>\n",
      "<class 'str'>\n",
      "<class 'str'>\n",
      "<class 'list'>\n",
      "<class 'builtin_function_or_method'>\n"
     ]
    }
   ],
   "source": [
    "print(type(7))       # int (entero)\n",
    "print(type(7.0))     # float (numero de punto flotante, número con coma, décimal)\n",
    "print(type(False))   # boolean (booleana, binaria, True o False, 0 o 1)\n",
    "print(type(None))    # NoneType (variable vacía, no tiene nada)\n",
    "print(type('f'))     # str (secuencia de caracteres)\n",
    "print(type(\"Hello\")) # str (secuencia de caracteres)\n",
    "print(type([]))      # list (lista, conjunto ordenado de elementos)\n",
    "print(type(print))   # builtin_function_or_method (función, serie de procesos, algoritmo)"
   ]
  },
  {
   "cell_type": "markdown",
   "metadata": {
    "id": "YOUY4kjZ5KOF"
   },
   "source": [
    "### Convierto numeros a strings y viceversa"
   ]
  },
  {
   "cell_type": "code",
   "execution_count": null,
   "metadata": {
    "colab": {
     "base_uri": "https://localhost:8080/"
    },
    "executionInfo": {
     "elapsed": 209,
     "status": "ok",
     "timestamp": 1737052346491,
     "user": {
      "displayName": "Jorge Castellanos",
      "userId": "03164686543966604211"
     },
     "user_tz": 300
    },
    "id": "ZBUFaw5O5KOG",
    "outputId": "0bc9a911-1e9c-4939-a230-d635a2f22b18"
   },
   "outputs": [
    {
     "name": "stdout",
     "output_type": "stream",
     "text": [
      "<class 'int'>\n",
      "<class 'str'>\n",
      "24\n",
      "888\n",
      "El resultado es 8\n"
     ]
    }
   ],
   "source": [
    "entero = 8\n",
    "string = str(entero) # convierte el numero a string (carácter)\n",
    "print(type(entero))  # imprime el tipo de variable que es entero\n",
    "print(type(string))  # imprime el tipo de variable que es string\n",
    "\n",
    "print(entero+entero+entero) # puedo sumar números\n",
    "print(string+string+string) # no puedo sumar strings, los concateno\n",
    "\n",
    "print('El resultado es '+ str(entero)) # puedo imprimir una variable numérica en un mensaje el signo '+' las une"
   ]
  },
  {
   "cell_type": "code",
   "execution_count": null,
   "metadata": {
    "colab": {
     "base_uri": "https://localhost:8080/"
    },
    "executionInfo": {
     "elapsed": 216,
     "status": "ok",
     "timestamp": 1737052358391,
     "user": {
      "displayName": "Jorge Castellanos",
      "userId": "03164686543966604211"
     },
     "user_tz": 300
    },
    "id": "8fZm_xGK5KOL",
    "outputId": "05d9b7d5-ca35-462f-d933-5c66e05efebe"
   },
   "outputs": [
    {
     "name": "stdout",
     "output_type": "stream",
     "text": [
      "16\n"
     ]
    }
   ],
   "source": [
    "print(int(string)+int(string)) # convierte el string a entero"
   ]
  },
  {
   "cell_type": "code",
   "execution_count": null,
   "metadata": {
    "colab": {
     "base_uri": "https://localhost:8080/"
    },
    "executionInfo": {
     "elapsed": 224,
     "status": "ok",
     "timestamp": 1737052365671,
     "user": {
      "displayName": "Jorge Castellanos",
      "userId": "03164686543966604211"
     },
     "user_tz": 300
    },
    "id": "7XyuTq9Z5KOO",
    "outputId": "3813a026-2a5c-4a16-bcf3-e668546c0006"
   },
   "outputs": [
    {
     "data": {
      "text/plain": [
       "5.2"
      ]
     },
     "execution_count": 22,
     "metadata": {},
     "output_type": "execute_result"
    }
   ],
   "source": [
    "flotante=float(\"2.6\") # idem con números con coma\n",
    "flotante+flotante"
   ]
  },
  {
   "cell_type": "markdown",
   "metadata": {
    "collapsed": true,
    "id": "KPccKkFk5KOS"
   },
   "source": [
    "### Listas\n",
    "\n",
    "Una lista es una variable donde puedo ir guardando cualquier tipo de variables adentro, en el orden que quiera"
   ]
  },
  {
   "cell_type": "code",
   "execution_count": null,
   "metadata": {
    "colab": {
     "base_uri": "https://localhost:8080/"
    },
    "executionInfo": {
     "elapsed": 196,
     "status": "ok",
     "timestamp": 1737052441636,
     "user": {
      "displayName": "Jorge Castellanos",
      "userId": "03164686543966604211"
     },
     "user_tz": 300
    },
    "id": "KF8-9Vzn5KOS",
    "outputId": "1b9c406f-e142-4cba-b2b8-a181db737f3f"
   },
   "outputs": [
    {
     "name": "stdout",
     "output_type": "stream",
     "text": [
      "[]\n",
      "[0]\n",
      "['Jorge', 38]\n"
     ]
    }
   ],
   "source": [
    "lista = [] # creo una lista vacía\n",
    "lista = list() # lista vacía. o bien para convertir otro tipo de dato en lista.\n",
    "print(lista)\n",
    "\n",
    "lista = [0] # lista con un único elemento, el numero 0\n",
    "print(lista)\n",
    "\n",
    "# cada elemento va separado por una coma\n",
    "lista = ['Jorge', 38] # lista con dos elementos, el string 'Pepe' y el numero 8\n",
    "print(lista)"
   ]
  },
  {
   "cell_type": "code",
   "execution_count": null,
   "metadata": {
    "colab": {
     "base_uri": "https://localhost:8080/"
    },
    "executionInfo": {
     "elapsed": 237,
     "status": "ok",
     "timestamp": 1737052491853,
     "user": {
      "displayName": "Jorge Castellanos",
      "userId": "03164686543966604211"
     },
     "user_tz": 300
    },
    "id": "Q4VNJquxnRRt",
    "outputId": "dfb4dcad-47bf-400b-fd1e-0ca067294f99"
   },
   "outputs": [
    {
     "name": "stdout",
     "output_type": "stream",
     "text": [
      "5\n",
      "0\n"
     ]
    }
   ],
   "source": [
    "lista_super=['Alto','Ancho','Area','Volumen','Densidad']\n",
    "print(len(lista_super)) # devuelve la cantidad de elementos de la lista\n",
    "\n",
    "print(len([])) # una lista vacía tiene 0 cantidad de elementos"
   ]
  },
  {
   "cell_type": "markdown",
   "metadata": {
    "id": "aDZTY7Sk5KOV"
   },
   "source": [
    "Otras formas de crear listas:"
   ]
  },
  {
   "cell_type": "code",
   "execution_count": null,
   "metadata": {
    "colab": {
     "base_uri": "https://localhost:8080/"
    },
    "executionInfo": {
     "elapsed": 207,
     "status": "ok",
     "timestamp": 1737052529568,
     "user": {
      "displayName": "Jorge Castellanos",
      "userId": "03164686543966604211"
     },
     "user_tz": 300
    },
    "id": "DjnDJc8L5KOW",
    "outputId": "2785c83c-a529-409c-a829-b92d1834dc71"
   },
   "outputs": [
    {
     "name": "stdout",
     "output_type": "stream",
     "text": [
      "[20, 20, 20, 20, 20]\n"
     ]
    }
   ],
   "source": [
    "elemento = 20\n",
    "cantidad_repeticiones = 5\n",
    "lista_repetida = [elemento]*cantidad_repeticiones # Crea una lista con la cantidad de veces elegida el elemento elegido\n",
    "print(lista_repetida)"
   ]
  },
  {
   "cell_type": "markdown",
   "metadata": {
    "id": "tZfS9T-d5KOa"
   },
   "source": [
    "**Operaciones** con listas"
   ]
  },
  {
   "cell_type": "code",
   "execution_count": null,
   "metadata": {
    "colab": {
     "base_uri": "https://localhost:8080/"
    },
    "executionInfo": {
     "elapsed": 213,
     "status": "ok",
     "timestamp": 1737052726678,
     "user": {
      "displayName": "Jorge Castellanos",
      "userId": "03164686543966604211"
     },
     "user_tz": 300
    },
    "id": "O5I6Mc6t5KOb",
    "outputId": "59db7bd5-583b-48d8-b5c8-3965a2d86890"
   },
   "outputs": [
    {
     "name": "stdout",
     "output_type": "stream",
     "text": [
      "['3', '3', '5', '5', '5', '5']\n",
      "lista tipo string\n"
     ]
    }
   ],
   "source": [
    "lista_a = [\"3\"] * 2 # tipo de dato string\n",
    "lista_b = [\"5\"] * 4 # tipo de dato string\n",
    "\n",
    "lista_suma = lista_a+lista_b\n",
    "# la suma concatena los elementos de las listas sumadas en una única lista\n",
    "print(lista_suma)\n",
    "print('lista tipo string')"
   ]
  },
  {
   "cell_type": "code",
   "execution_count": null,
   "metadata": {
    "colab": {
     "base_uri": "https://localhost:8080/"
    },
    "executionInfo": {
     "elapsed": 212,
     "status": "ok",
     "timestamp": 1737052792652,
     "user": {
      "displayName": "Jorge Castellanos",
      "userId": "03164686543966604211"
     },
     "user_tz": 300
    },
    "id": "HaoPHvOdpL4H",
    "outputId": "11dfaf87-6146-4b98-b3e1-d87eb010eed1"
   },
   "outputs": [
    {
     "name": "stdout",
     "output_type": "stream",
     "text": [
      "['Alto', 'Ancho', 'Area', 'Volumen', 'Densidad']\n",
      "['Alto', 'Ancho', 'Area', 'Volumen', 'Densidad', 'Peso']\n"
     ]
    }
   ],
   "source": [
    "lista_caract=['Alto','Largo','Volumen','Densidad']\n",
    "elemento_para_agregar = 'Peso'\n",
    "\n",
    "# con la funcion nombre_lista.append(nombre_elemento) le agrego a la lista el elemento al final\n",
    "print(lista_super)\n",
    "lista_super.append(elemento_para_agregar)\n",
    "print(lista_super)"
   ]
  },
  {
   "cell_type": "code",
   "execution_count": null,
   "metadata": {
    "colab": {
     "base_uri": "https://localhost:8080/"
    },
    "executionInfo": {
     "elapsed": 185,
     "status": "ok",
     "timestamp": 1737052919949,
     "user": {
      "displayName": "Jorge Castellanos",
      "userId": "03164686543966604211"
     },
     "user_tz": 300
    },
    "id": "NP7F1OqaqQvQ",
    "outputId": "4e6d8051-858e-4460-fd28-b4b30b897457"
   },
   "outputs": [
    {
     "name": "stdout",
     "output_type": "stream",
     "text": [
      "Alto\n",
      "Ancho\n",
      "Peso\n",
      "Peso\n"
     ]
    }
   ],
   "source": [
    "# Con nombre_lista[n] accedo al elemento n de la lista pedida, donde 'n' es un número entero\n",
    "print(lista_super[0]) # notar que el primer elemento es el de número 0,\n",
    "print(lista_super[1]) # entonces el elemento [1] es el segundo\n",
    "print(lista_super[len(lista_super)-1]) # Si quiero el ultimo elemento entonces pido la cantidad de elementos -1\n",
    "print(lista_super[-1]) # O mas fácil, solo con -1"
   ]
  },
  {
   "cell_type": "markdown",
   "metadata": {
    "id": "I5VhK8525KOe"
   },
   "source": [
    "Acceder a elementos de una lista: la numeración comienza en 0 y va hasta length-1"
   ]
  },
  {
   "cell_type": "code",
   "execution_count": null,
   "metadata": {
    "colab": {
     "base_uri": "https://localhost:8080/"
    },
    "executionInfo": {
     "elapsed": 216,
     "status": "ok",
     "timestamp": 1737053982219,
     "user": {
      "displayName": "Jorge Castellanos",
      "userId": "03164686543966604211"
     },
     "user_tz": 300
    },
    "id": "PWGZhZHA5KOf",
    "outputId": "fc584cbd-b051-46f1-fc42-259447e49e23"
   },
   "outputs": [
    {
     "name": "stdout",
     "output_type": "stream",
     "text": [
      "['Santiago', 'esta', 'aprendiendo', 'a', 'programar', 'machine', 'learning']\n"
     ]
    }
   ],
   "source": [
    "frase = \"Santiago esta aprendiendo a programar machine learning\"\n",
    "lista_frase = frase.split(\" \") # divide al string en los elementos que separen el separador introducido, en este caso un espacio\n",
    "print(lista_frase)"
   ]
  },
  {
   "cell_type": "code",
   "execution_count": null,
   "metadata": {
    "colab": {
     "base_uri": "https://localhost:8080/"
    },
    "executionInfo": {
     "elapsed": 246,
     "status": "ok",
     "timestamp": 1737053844408,
     "user": {
      "displayName": "Jorge Castellanos",
      "userId": "03164686543966604211"
     },
     "user_tz": 300
    },
    "id": "uaz8sKO0sY-L",
    "outputId": "b918beb6-2ce1-4b3c-f17c-e879d8685df4"
   },
   "outputs": [
    {
     "name": "stdout",
     "output_type": "stream",
     "text": [
      "['esta', 'aprendiendo']\n",
      "['esta', 'aprendiendo', 'a', 'programar', 'machine', 'learning']\n",
      "['Santiago', 'esta', 'aprendiendo']\n"
     ]
    }
   ],
   "source": [
    "inicio_intervalo = 1\n",
    "fin_intervalo = 3\n",
    "print(lista_frase[inicio_intervalo:fin_intervalo]) # puedo pedir todos los elementos en un intervalo tener en cuenta que el ultimo valor no se toma\n",
    "print(lista_frase[inicio_intervalo:]) # o desde un lugar en adelante\n",
    "print(lista_frase[:fin_intervalo]) # o desde el primero hasta un lugar"
   ]
  },
  {
   "cell_type": "code",
   "execution_count": null,
   "metadata": {
    "colab": {
     "base_uri": "https://localhost:8080/"
    },
    "executionInfo": {
     "elapsed": 220,
     "status": "ok",
     "timestamp": 1737054048453,
     "user": {
      "displayName": "Jorge Castellanos",
      "userId": "03164686543966604211"
     },
     "user_tz": 300
    },
    "id": "kySc4EAl5KO0",
    "outputId": "2d3e2e4f-3459-434c-9bb4-051e628f5d1a"
   },
   "outputs": [
    {
     "name": "stdout",
     "output_type": "stream",
     "text": [
      "['Santiago', 'a', 'learning']\n",
      "['Santiago', 'a', 'learning']\n",
      "['learning', 'machine', 'programar', 'a', 'aprendiendo', 'esta']\n"
     ]
    }
   ],
   "source": [
    "paso = 3\n",
    "print(lista_frase[0:7:paso]) # Puedo ir salteando elementos también\n",
    "print(lista_frase[::paso]) # Si no pongo nada entiende que va de principio a fin\n",
    "print(lista_frase[-1:0:-1]) # También puedo ir para atrás"
   ]
  },
  {
   "cell_type": "code",
   "execution_count": null,
   "metadata": {
    "colab": {
     "base_uri": "https://localhost:8080/"
    },
    "executionInfo": {
     "elapsed": 196,
     "status": "ok",
     "timestamp": 1737054078839,
     "user": {
      "displayName": "Jorge Castellanos",
      "userId": "03164686543966604211"
     },
     "user_tz": 300
    },
    "id": "q7HqFXad5KO_",
    "outputId": "e8895e82-5032-42a7-e551-f78708e8812f"
   },
   "outputs": [
    {
     "name": "stdout",
     "output_type": "stream",
     "text": [
      "7.2\n"
     ]
    }
   ],
   "source": [
    "print(sum([1,4,2.2])) # puedo sumar los elementos de una lista"
   ]
  },
  {
   "cell_type": "markdown",
   "metadata": {
    "id": "p02kQaQ65KPC"
   },
   "source": [
    "### Dicionarios\n",
    "\n",
    "En vez de acceder por índice como en las listas, se accede por una palabra o clave, llamada 'key'."
   ]
  },
  {
   "cell_type": "code",
   "execution_count": null,
   "metadata": {
    "id": "DAhOvJin5KPD"
   },
   "outputs": [],
   "source": [
    "# Dos maneras de crear un diccionario\n",
    "diccionario_pasteles = dict()\n",
    "diccionario_pasteles = {} # se usan llaves"
   ]
  },
  {
   "cell_type": "code",
   "execution_count": null,
   "metadata": {
    "colab": {
     "base_uri": "https://localhost:8080/"
    },
    "executionInfo": {
     "elapsed": 219,
     "status": "ok",
     "timestamp": 1737054262048,
     "user": {
      "displayName": "Jorge Castellanos",
      "userId": "03164686543966604211"
     },
     "user_tz": 300
    },
    "id": "OPcMc7wbghPu",
    "outputId": "4a8841d6-ff91-492a-a8eb-d2d181264be3"
   },
   "outputs": [
    {
     "name": "stdout",
     "output_type": "stream",
     "text": [
      "{'Pollo': 5, 'Carne': 4, 'Mixto': 8}\n"
     ]
    }
   ],
   "source": [
    "# Le puedo asignar una variable (en este caso la cantidad de pasteles) a cada \"key\"\n",
    "diccionario_pasteles['Pollo'] = 5\n",
    "diccionario_pasteles['Carne'] = 4\n",
    "diccionario_pasteles['Mixto'] = 8\n",
    "\n",
    "print(diccionario_pasteles)"
   ]
  },
  {
   "cell_type": "code",
   "execution_count": null,
   "metadata": {
    "colab": {
     "base_uri": "https://localhost:8080/"
    },
    "executionInfo": {
     "elapsed": 189,
     "status": "ok",
     "timestamp": 1737054328594,
     "user": {
      "displayName": "Jorge Castellanos",
      "userId": "03164686543966604211"
     },
     "user_tz": 300
    },
    "id": "pE2dk12J5KPG",
    "outputId": "b605795d-d52f-4835-f50d-d9c95974669a"
   },
   "outputs": [
    {
     "data": {
      "text/plain": [
       "8"
      ]
     },
     "execution_count": 70,
     "metadata": {},
     "output_type": "execute_result"
    }
   ],
   "source": [
    "# Así accedo a lo que contiene el key 'Mixto'\n",
    "diccionario_pasteles['Mixto']"
   ]
  },
  {
   "cell_type": "code",
   "execution_count": null,
   "metadata": {
    "colab": {
     "base_uri": "https://localhost:8080/"
    },
    "executionInfo": {
     "elapsed": 210,
     "status": "ok",
     "timestamp": 1737054372193,
     "user": {
      "displayName": "Jorge Castellanos",
      "userId": "03164686543966604211"
     },
     "user_tz": 300
    },
    "id": "b5iGyYNY5KPI",
    "outputId": "f205a30c-8519-4b49-b760-6eb0e05c5be7"
   },
   "outputs": [
    {
     "name": "stdout",
     "output_type": "stream",
     "text": [
      "dict_values([5, 4, 8])\n",
      "dict_keys(['Pollo', 'Carne', 'Mixto'])\n",
      "dict_items([('Pollo', 5), ('Carne', 4), ('Mixto', 8)])\n"
     ]
    }
   ],
   "source": [
    "# Así puedo ver los valores y keys que existen dentro del diccionario\n",
    "print(diccionario_pasteles.values())\n",
    "print(diccionario_pasteles.keys())\n",
    "print(diccionario_pasteles.items())\n"
   ]
  },
  {
   "cell_type": "markdown",
   "metadata": {
    "id": "ZUPGCerf5KN4"
   },
   "source": [
    "## 2. Comparaciones lógicas y condicionales\n",
    "\n",
    "Se pueden usar los operadores usuales <, >, <=, >=, ==(igualdad) and != (desigualdad). Las comparaciones devuelven una variable booleana que puede ser: True o False."
   ]
  },
  {
   "cell_type": "code",
   "execution_count": null,
   "metadata": {
    "colab": {
     "base_uri": "https://localhost:8080/"
    },
    "executionInfo": {
     "elapsed": 201,
     "status": "ok",
     "timestamp": 1737054427727,
     "user": {
      "displayName": "Jorge Castellanos",
      "userId": "03164686543966604211"
     },
     "user_tz": 300
    },
    "id": "VNTRR9Ki5KN5",
    "outputId": "7b37059f-37b1-4f3d-a16c-c5edbede4296"
   },
   "outputs": [
    {
     "name": "stdout",
     "output_type": "stream",
     "text": [
      "True\n",
      "False\n",
      "False\n",
      "True\n",
      "False\n",
      "True\n"
     ]
    }
   ],
   "source": [
    "\n",
    "print(4==4)   # '==' devuelve un True o un False de acuerdo a si ambos lados son iguales o no\n",
    "print(1!=1)   # '!=' devuelve un True o un False de acuerdo a si ambos lados son distintos o no\n",
    "\n",
    "\n",
    "x=6 # Experimenta cambiando los valores de X y Y\n",
    "y=4\n",
    "print(x < y) # '<=' devuelve un True o un False de acuerdo a si x es menor a y o no\n",
    "print(x > y) # '<=' devuelve un True o un False de acuerdo a si x es menor a y o no\n",
    "print(x <= y) # '<=' devuelve un True o un False de acuerdo a si x es menor o igual a y o no\n",
    "print(x >= y) # '<=' devuelve un True o un False de acuerdo a si x es menor o igual a y o no"
   ]
  },
  {
   "cell_type": "markdown",
   "metadata": {
    "id": "3X0jgI0e5KPm"
   },
   "source": [
    "### **if** (si, condicional)\n",
    "\n",
    "Cuando queremos que un proceso se realice solamente si se cumple alguna condicion. Si (condicion verdadera) entonces (proceso)."
   ]
  },
  {
   "cell_type": "code",
   "execution_count": null,
   "metadata": {
    "colab": {
     "base_uri": "https://localhost:8080/"
    },
    "executionInfo": {
     "elapsed": 6,
     "status": "ok",
     "timestamp": 1737054478317,
     "user": {
      "displayName": "Jorge Castellanos",
      "userId": "03164686543966604211"
     },
     "user_tz": 300
    },
    "id": "qh0iiBPXrJEq",
    "outputId": "7dd7b764-ed18-4396-c3b5-e4461aff5512"
   },
   "outputs": [
    {
     "name": "stdout",
     "output_type": "stream",
     "text": [
      "x es mayor a y\n"
     ]
    }
   ],
   "source": [
    "x=3 # Experimenta cambiando los valores de X y Y\n",
    "y=2\n",
    "if x > y:\n",
    "  print('x es mayor a y') # identación la tabulación antes incluye todo lo que afecta el if"
   ]
  },
  {
   "cell_type": "code",
   "execution_count": null,
   "metadata": {
    "colab": {
     "base_uri": "https://localhost:8080/"
    },
    "executionInfo": {
     "elapsed": 184,
     "status": "ok",
     "timestamp": 1737054548608,
     "user": {
      "displayName": "Jorge Castellanos",
      "userId": "03164686543966604211"
     },
     "user_tz": 300
    },
    "id": "LXQWzXbr5KPr",
    "outputId": "690972af-bd9d-4669-ef8b-16685a6d3f15"
   },
   "outputs": [
    {
     "name": "stdout",
     "output_type": "stream",
     "text": [
      "esto esta fuera del if porque no esta espaciado \"identado\"\n"
     ]
    }
   ],
   "source": [
    "# Si la condición es falsa, nunca se ejecutan los procesos dentro del 'if'lo que esta identado\n",
    "x=1 # Experimenta cambiando los valores de X y Y\n",
    "y=2\n",
    "if x > y:\n",
    "  print('x es mayor a y')\n",
    "print('esto esta fuera del if porque no esta espaciado \"identado\"')"
   ]
  },
  {
   "cell_type": "markdown",
   "metadata": {
    "id": "tKGpbEejtCPb"
   },
   "source": [
    "### **else** (si no)\n",
    "\n",
    "Si (condicion verdadera), entonces (proceso).\n",
    "Si no (la condicion era falsa), entonces (otro proceso)"
   ]
  },
  {
   "cell_type": "code",
   "execution_count": 2,
   "metadata": {
    "colab": {
     "base_uri": "https://localhost:8080/"
    },
    "executionInfo": {
     "elapsed": 245,
     "status": "ok",
     "timestamp": 1737054886780,
     "user": {
      "displayName": "Jorge Castellanos",
      "userId": "03164686543966604211"
     },
     "user_tz": 300
    },
    "id": "Cv_7jngRs3C2",
    "outputId": "6f88d457-b8ad-4e5b-cac9-04e9d6537571"
   },
   "outputs": [
    {
     "name": "stdout",
     "output_type": "stream",
     "text": [
      "x NO es mayor a y\n"
     ]
    }
   ],
   "source": [
    "x=1 # Experimenta cambiando los valores de X y Y\n",
    "y=2\n",
    "if x > y:\n",
    "  print('x es mayor a y')\n",
    "else: # podemos pedirle que si la condición en el 'if' era falsa, que realice lo que pongamos dentro del else\n",
    "  print('x NO es mayor a y')"
   ]
  },
  {
   "cell_type": "markdown",
   "metadata": {
    "id": "dC0uZMdztpKF"
   },
   "source": [
    "### **elif** (o si)\n",
    "\n",
    "Se usa cuando queremos dividir en mas condiciones\n",
    "Si (condicion), entonces (proceso).\n",
    "Si (otra condicion), entonces (proceso)."
   ]
  },
  {
   "cell_type": "code",
   "execution_count": 3,
   "metadata": {
    "colab": {
     "base_uri": "https://localhost:8080/"
    },
    "executionInfo": {
     "elapsed": 486,
     "status": "ok",
     "timestamp": 1660863906823,
     "user": {
      "displayName": "Fede Sevlever",
      "userId": "01554547954040861714"
     },
     "user_tz": 180
    },
    "id": "GyasRAjVuDCU",
    "outputId": "ccc9a39f-25f4-4247-a95f-44f2abcc5013"
   },
   "outputs": [
    {
     "name": "stdout",
     "output_type": "stream",
     "text": [
      "x es igual a y\n"
     ]
    }
   ],
   "source": [
    "x=2 # Experimenta cambiando los valores de X y Y\n",
    "y=2\n",
    "if x > y:\n",
    "  print('x es mayor a y')\n",
    "elif x == y: # Va a realizar la condición verdadera, si ambas (la del 'if' y la del 'elif') lo son, va a realizar el else\n",
    "  print('x es igual a y')\n",
    "else:\n",
    "  print('x es menor a y')"
   ]
  },
  {
   "cell_type": "markdown",
   "metadata": {
    "id": "3mM_AGBVquRi"
   },
   "source": [
    "## 3. Loops o Ciclos\n",
    "\n",
    "Son la herramienta más importante en la programación. Permiten repetir una serie de procesos una cantidad de veces o hasta que se cumpla alguna condición.\n",
    "\n",
    "Entre los que encontramos **For** y **while**"
   ]
  },
  {
   "cell_type": "markdown",
   "metadata": {
    "id": "4xQdqIM0kLxd"
   },
   "source": [
    "### **For**\n",
    "Es un ciclo, se utiliza cuando queremos repetir una serie de procesos una cantidad dada de veces.\n",
    "\n",
    "1. _for_ elemento *in* lista:\n",
    "> Recorre cada elemento de la lista y para cada uno realiza las acciones que están tabuladas (corridas con sangría).\n"
   ]
  },
  {
   "cell_type": "code",
   "execution_count": 4,
   "metadata": {
    "colab": {
     "base_uri": "https://localhost:8080/"
    },
    "executionInfo": {
     "elapsed": 286,
     "status": "ok",
     "timestamp": 1660864000806,
     "user": {
      "displayName": "Fede Sevlever",
      "userId": "01554547954040861714"
     },
     "user_tz": 180
    },
    "id": "lqTWrUOF5KPm",
    "outputId": "f396bf53-089c-4538-a891-eefa7a99c24c"
   },
   "outputs": [
    {
     "name": "stdout",
     "output_type": "stream",
     "text": [
      "0\n",
      "1\n",
      "2\n",
      "3\n",
      "4\n",
      "5\n",
      "6\n",
      "7\n",
      "8\n",
      "nueve\n"
     ]
    }
   ],
   "source": [
    "# imprimo los números enteros del 0 al 9\n",
    "enteros=[0,1,2,3,4,5,6,7,8,'nueve']\n",
    "for i in enteros:\n",
    "    print(i) # 'i' es, en cada repetición, el elemento siguiente de la lista 'enteros'"
   ]
  },
  {
   "cell_type": "code",
   "execution_count": null,
   "metadata": {
    "colab": {
     "base_uri": "https://localhost:8080/"
    },
    "executionInfo": {
     "elapsed": 306,
     "status": "ok",
     "timestamp": 1660864044203,
     "user": {
      "displayName": "Fede Sevlever",
      "userId": "01554547954040861714"
     },
     "user_tz": 180
    },
    "id": "-CzJ0QQC5KPo",
    "outputId": "2b3c8fa9-b2b3-448f-dc95-a339d7bc640d"
   },
   "outputs": [
    {
     "name": "stdout",
     "output_type": "stream",
     "text": [
      "0 0\n",
      "1 1\n",
      "2 2\n",
      "3 3\n",
      "4 4\n",
      "5 5\n",
      "6 6\n",
      "7 7\n",
      "8 8\n",
      "9 nueve\n"
     ]
    }
   ],
   "source": [
    "# La función range(numero_final) me da directamente los enteros desde 0 hasta numero_final-1\n",
    "numero_final=10\n",
    "for i in range(numero_final):\n",
    "    print(i, enteros[i])"
   ]
  },
  {
   "cell_type": "code",
   "execution_count": null,
   "metadata": {
    "colab": {
     "base_uri": "https://localhost:8080/"
    },
    "executionInfo": {
     "elapsed": 327,
     "status": "ok",
     "timestamp": 1660864082769,
     "user": {
      "displayName": "Fede Sevlever",
      "userId": "01554547954040861714"
     },
     "user_tz": 180
    },
    "id": "T2xm0GVX5KPp",
    "outputId": "590c1aa4-adb9-4132-ae18-aad495f58e69"
   },
   "outputs": [
    {
     "name": "stdout",
     "output_type": "stream",
     "text": [
      "5\n",
      "6\n",
      "7\n",
      "8\n",
      "9\n"
     ]
    }
   ],
   "source": [
    "# si pongo range(numero_inicial,numero_final) me da los enteros desde numero_inicial hasta numero_final-1\n",
    "numero_final=10\n",
    "numero_inicial=5\n",
    "for i in range(numero_inicial,numero_final):\n",
    "    print(i)"
   ]
  },
  {
   "cell_type": "code",
   "execution_count": null,
   "metadata": {
    "colab": {
     "base_uri": "https://localhost:8080/"
    },
    "executionInfo": {
     "elapsed": 281,
     "status": "ok",
     "timestamp": 1660864098075,
     "user": {
      "displayName": "Fede Sevlever",
      "userId": "01554547954040861714"
     },
     "user_tz": 180
    },
    "id": "axK50tYRoOSt",
    "outputId": "85bbf9f1-f3bd-4fa4-c01b-2de549c6dbb8"
   },
   "outputs": [
    {
     "name": "stdout",
     "output_type": "stream",
     "text": [
      "5\n",
      "7\n",
      "9\n"
     ]
    }
   ],
   "source": [
    "# si pongo range(numero_inicial,numero_final,paso) me da los enteros desde numero_inicial hasta numero_final-1\n",
    "numero_final=10\n",
    "numero_inicial=5\n",
    "paso=2\n",
    "for i in range(numero_inicial,numero_final,paso):\n",
    "    print(i)"
   ]
  },
  {
   "cell_type": "code",
   "execution_count": null,
   "metadata": {
    "colab": {
     "base_uri": "https://localhost:8080/"
    },
    "executionInfo": {
     "elapsed": 292,
     "status": "ok",
     "timestamp": 1737058509259,
     "user": {
      "displayName": "Jorge Castellanos",
      "userId": "03164686543966604211"
     },
     "user_tz": 300
    },
    "id": "VptZ4p8ZohSZ",
    "outputId": "bed24a1d-7e45-47ad-80db-a66397ce9056"
   },
   "outputs": [
    {
     "name": "stdout",
     "output_type": "stream",
     "text": [
      "cabeza\n",
      "mano\n",
      "pies\n",
      "codo\n",
      "ojo\n"
     ]
    }
   ],
   "source": [
    "# puedo ir recorriendo los elementos de una lista\n",
    "lista_cuerpo=['cabeza','mano','pies','codo','ojo']\n",
    "for parte in lista_cuerpo:\n",
    "    print(parte)"
   ]
  },
  {
   "cell_type": "markdown",
   "metadata": {
    "id": "vCx30KX5ZGB1"
   },
   "source": [
    "### **while**\n",
    "Es un ciclo, se utiliza cuando queremos repetir una serie de procesos, como el **for**. La diferencia es que la cantidad de repeticiones no esta fija sino que se repetirá siempre y cuando se cumpla una condición (TRUE).\n",
    "\n",
    "1. _while_ (condición):\n",
    "> Siempre que la condición sea verdadera realiza las acciones que están tabuladas (indentadas) y vuelve a analizar la **condición**.\n",
    "\n",
    "Mientras (condición verdadera), ejecuta lo siguiente:\n"
   ]
  },
  {
   "cell_type": "code",
   "execution_count": null,
   "metadata": {
    "colab": {
     "base_uri": "https://localhost:8080/"
    },
    "executionInfo": {
     "elapsed": 212,
     "status": "ok",
     "timestamp": 1737058810671,
     "user": {
      "displayName": "Jorge Castellanos",
      "userId": "03164686543966604211"
     },
     "user_tz": 300
    },
    "id": "ZMOEOMyp5KPu",
    "outputId": "fdeca1fd-6302-4a04-b730-c55589f7c6d6"
   },
   "outputs": [
    {
     "name": "stdout",
     "output_type": "stream",
     "text": [
      "0\n",
      "1\n",
      "2\n",
      "3\n",
      "4\n",
      "5\n",
      "6\n",
      "7\n",
      "8\n",
      "9\n"
     ]
    }
   ],
   "source": [
    "# Hacemos un contador, donde definimos i=0 y le sumamos uno en cada repeticion\n",
    "i = 0\n",
    "x=10 # cambie el valor de x\n",
    "while i<x: # el 'while' terminará cuando i=x, y saldrá del ciclo\n",
    "  print(i)\n",
    "  i = i + 1"
   ]
  },
  {
   "cell_type": "markdown",
   "metadata": {
    "id": "yMsPfVnnbBfO"
   },
   "source": [
    "### **break**\n",
    "Quebrar. Sirve para romper un ciclo.\n",
    "\n",
    "1. _while_ (condición) ó _for_ elemento _in_ lista:\n",
    "> _if_ (condición):\n",
    "> break\n",
    "\n",
    "Si (condición verdadera), entonces rompe el ciclo"
   ]
  },
  {
   "cell_type": "code",
   "execution_count": 5,
   "metadata": {
    "colab": {
     "base_uri": "https://localhost:8080/"
    },
    "executionInfo": {
     "elapsed": 189,
     "status": "ok",
     "timestamp": 1737058974079,
     "user": {
      "displayName": "Jorge Castellanos",
      "userId": "03164686543966604211"
     },
     "user_tz": 300
    },
    "id": "PZ8K-97d5KPx",
    "outputId": "4047e65f-c50b-40af-d201-50e7490e2023"
   },
   "outputs": [
    {
     "name": "stdout",
     "output_type": "stream",
     "text": [
      "manos es el elemento 2 de la lista\n",
      "2\n",
      "manos\n"
     ]
    }
   ],
   "source": [
    "# Hacemos un buscador, queremos ver si un elemento dado pertenece a una lista\n",
    "lista_cuerpo = ['cabeza','pies','manos','ojos','brazo']\n",
    "parte = 'manos'\n",
    "for i in range(len(lista_cuerpo)): # hace que el for recorra el tamaño de la lista\n",
    "    if parte==lista_cuerpo[i]: # Si encuentra el elemento\n",
    "      print(parte + ' es el elemento ' + str(i) + ' de la lista')\n",
    "      break # Corta el 'for' y la variable 'i' sera la posición del elemento\n",
    "print(i)\n",
    "print(lista_cuerpo[i])"
   ]
  },
  {
   "cell_type": "markdown",
   "metadata": {
    "id": "8qSjpzgl5KQG"
   },
   "source": [
    "## 4. ***try*** y ***except***\n",
    "\n",
    "---\n",
    "\n",
    "_try_:\n",
    "\n",
    "\n",
    "> (Ejecuta lo que sigue si no hay error)\n",
    "\n",
    "_except_:\n",
    "\n",
    "> (Si hay error, ejecuta la excepción)\n",
    "\n",
    "\n",
    "---\n",
    "\n",
    "\n",
    "Dos comandos que nos permiten que el programa no se detenga por un error pero nos avise.\n",
    "Proba (serie de comandos), excepto error (serie de comandos)."
   ]
  },
  {
   "cell_type": "code",
   "execution_count": null,
   "metadata": {
    "colab": {
     "base_uri": "https://localhost:8080/"
    },
    "executionInfo": {
     "elapsed": 265,
     "status": "ok",
     "timestamp": 1660864541259,
     "user": {
      "displayName": "Fede Sevlever",
      "userId": "01554547954040861714"
     },
     "user_tz": 180
    },
    "id": "5FKlBUz95KQG",
    "outputId": "e7e5f897-c100-40e7-8141-d12666992ea3"
   },
   "outputs": [
    {
     "name": "stdout",
     "output_type": "stream",
     "text": [
      "-1.0\n",
      "-2.0\n",
      "Dividiste por 0!\n",
      "2.0\n",
      "1.0\n"
     ]
    }
   ],
   "source": [
    "for i in range(-2,3):\n",
    "  try: # Ejecuta lo que sigue si no hay error\n",
    "      print(2/i)\n",
    "  except: # Si hay error, ejecuta la excepción\n",
    "      print(\"Dividiste por 0!\")"
   ]
  },
  {
   "cell_type": "markdown",
   "metadata": {
    "id": "ggiwi2xt5KQA"
   },
   "source": [
    "# 2. Funciones\n",
    "---\n",
    "_def_ nombre_funcion(input_1,input_2,...):\n",
    "\n",
    "\n",
    "> (procesos de la función)\n",
    "\n",
    "\n",
    "> (usan los input y calculan un output)\n",
    "\n",
    "\n",
    "> _return_ output\n",
    "\n",
    "---\n",
    "\n",
    "Cuando un trozo de codigo lo necesitamos utilizar muchas veces se vuelve engorroso tener que escribirlo una y otra vez, y si además queremos cambiar algo tenemos que hacerlo sobre todos las partes donde colocamos el código. Para ello se suele agrupar en una función que puede utilizarse cada vez que sea necesario."
   ]
  },
  {
   "cell_type": "code",
   "execution_count": null,
   "metadata": {
    "colab": {
     "base_uri": "https://localhost:8080/"
    },
    "executionInfo": {
     "elapsed": 237,
     "status": "ok",
     "timestamp": 1737059778608,
     "user": {
      "displayName": "Jorge Castellanos",
      "userId": "03164686543966604211"
     },
     "user_tz": 300
    },
    "id": "P_hek2SI5KQB",
    "outputId": "8fb964c5-1221-42cc-b894-cede9abd4565"
   },
   "outputs": [
    {
     "name": "stdout",
     "output_type": "stream",
     "text": [
      "14\n"
     ]
    }
   ],
   "source": [
    "#Definamos una función que tome dos números y los sume\n",
    "def funcion_que_suma(input_1, input_2): # Esta linea define la función, NO la ejecuta\n",
    "  output = input_1 + input_2\n",
    "  #las variables input solo existirán dentro de la función y cuando termine se borran\n",
    "  return output #la única variable que sobrevive es el output\n",
    "\n",
    "input_1 = 5 # cambiar los valor input_1 y input_2\n",
    "input_2 = 9\n",
    "output = funcion_que_suma(input_1,input_2) # Acá ejecuto la función\n",
    "print(output)"
   ]
  },
  {
   "cell_type": "code",
   "execution_count": null,
   "metadata": {
    "colab": {
     "base_uri": "https://localhost:8080/",
     "height": 35
    },
    "executionInfo": {
     "elapsed": 265,
     "status": "ok",
     "timestamp": 1737059819990,
     "user": {
      "displayName": "Jorge Castellanos",
      "userId": "03164686543966604211"
     },
     "user_tz": 300
    },
    "id": "NfYVuN7cQI95",
    "outputId": "931e85b7-7d16-4afa-bc0b-ce02fa76e8e6"
   },
   "outputs": [
    {
     "data": {
      "application/vnd.google.colaboratory.intrinsic+json": {
       "type": "string"
      },
      "text/plain": [
       "'1002'"
      ]
     },
     "execution_count": 98,
     "metadata": {},
     "output_type": "execute_result"
    }
   ],
   "source": [
    "funcion_que_suma('100','2') # los numero entran como string y los concatena"
   ]
  },
  {
   "cell_type": "markdown",
   "metadata": {
    "id": "lKaEm1QB5KQA"
   },
   "source": [
    "Una funcion puede cambiar un input y no devolver output"
   ]
  },
  {
   "cell_type": "code",
   "execution_count": null,
   "metadata": {
    "colab": {
     "base_uri": "https://localhost:8080/"
    },
    "executionInfo": {
     "elapsed": 280,
     "status": "ok",
     "timestamp": 1737059895992,
     "user": {
      "displayName": "Jorge Castellanos",
      "userId": "03164686543966604211"
     },
     "user_tz": 300
    },
    "id": "RuB9rjjy5KQC",
    "outputId": "9164589d-74ba-4b84-b8df-6aafcec7ef99"
   },
   "outputs": [
    {
     "name": "stdout",
     "output_type": "stream",
     "text": [
      "['chocolate', 'galletitas', 'cafe', 'pan', 'arroz']\n"
     ]
    }
   ],
   "source": [
    "def intercambiar_primero_y_ultimo(input_1):\n",
    "  primer_elemento=input_1[0]\n",
    "  ultimo_elemento=input_1[-1]\n",
    "  input_1[-1]=primer_elemento\n",
    "  input_1[0]=ultimo_elemento\n",
    "  # Es una función sin 'return', solamente cambia la lista de entrada\n",
    "\n",
    "lista_super=['arroz','galletitas','cafe','pan','chocolate']\n",
    "intercambiar_primero_y_ultimo(lista_super) # Acá ejecuto la función\n",
    "# Notar que no se define ninguna nueva variable al output de la función, que no tiene\n",
    "print(lista_super)"
   ]
  },
  {
   "cell_type": "markdown",
   "metadata": {
    "id": "nIc4UUY-3v0b"
   },
   "source": [
    "# 3. Librerias\n",
    "\n",
    "\n",
    "---\n",
    "\n",
    "\n",
    "_import_ nombre_libreria\n",
    "\n",
    "\n",
    "---\n",
    "\n",
    "\n",
    "A veces uno quiere utilizar funciones específicas que no vienen con el default de python. Para ello están las **librerías** de funciones, que incluso uno mismo puede crear y que vienen con funciones específicas.\n",
    "\n",
    "\n",
    "A estas funciones específicas, se las llama como\n",
    "\n",
    "\n",
    "nombre_libreria.nombre_funcion"
   ]
  },
  {
   "cell_type": "markdown",
   "metadata": {
    "id": "V0cDrj7mr6Lm"
   },
   "source": [
    "## 1. Importar\n",
    "\n",
    "Para poder usar estas funciones, hay que importar la librería."
   ]
  },
  {
   "cell_type": "code",
   "execution_count": null,
   "metadata": {
    "colab": {
     "base_uri": "https://localhost:8080/"
    },
    "executionInfo": {
     "elapsed": 1200,
     "status": "ok",
     "timestamp": 1737060079995,
     "user": {
      "displayName": "Jorge Castellanos",
      "userId": "03164686543966604211"
     },
     "user_tz": 300
    },
    "id": "qYCRaZRm3v0c",
    "outputId": "8284fc36-7972-4f9b-9835-7f6d8b635e02"
   },
   "outputs": [
    {
     "name": "stdout",
     "output_type": "stream",
     "text": [
      "1.000422716140747\n"
     ]
    }
   ],
   "source": [
    "import time           #importo la librería de funciones para manejo de tiempo\n",
    "\n",
    "tiempo_inicial = time.time()          # toma el tiempo de la maquina\n",
    "time.sleep(1)                         # deja esperando 1 segundo\n",
    "tiempo_final = time.time()            # toma el tiempo de la maquina\n",
    "print(tiempo_final - tiempo_inicial)  # tiempo transcurrido en segundos"
   ]
  },
  {
   "cell_type": "code",
   "execution_count": null,
   "metadata": {
    "colab": {
     "base_uri": "https://localhost:8080/"
    },
    "executionInfo": {
     "elapsed": 304,
     "status": "ok",
     "timestamp": 1737060186077,
     "user": {
      "displayName": "Jorge Castellanos",
      "userId": "03164686543966604211"
     },
     "user_tz": 300
    },
    "id": "npB681qh3v0d",
    "outputId": "02a08868-388c-43cb-b41a-3bf28b194147"
   },
   "outputs": [
    {
     "name": "stdout",
     "output_type": "stream",
     "text": [
      "/content\n"
     ]
    }
   ],
   "source": [
    "import os   # librería para manejo de path, files, folders etc\n",
    "\n",
    "# devuelve la dirección del directorio actual (get Current Working Directory)\n",
    "directorio = os.getcwd()\n",
    "print(directorio)"
   ]
  },
  {
   "cell_type": "markdown",
   "metadata": {
    "id": "aBQ-SwTosOHX"
   },
   "source": [
    "Puedo importar abreviando el nombre de la librería\n",
    "\n",
    "---\n",
    "\n",
    "\n",
    "***_import_*** nombre_libreria ***as*** abreviación\n",
    "\n",
    "\n",
    "---"
   ]
  },
  {
   "cell_type": "code",
   "execution_count": null,
   "metadata": {
    "colab": {
     "base_uri": "https://localhost:8080/"
    },
    "executionInfo": {
     "elapsed": 1278,
     "status": "ok",
     "timestamp": 1737060213184,
     "user": {
      "displayName": "Jorge Castellanos",
      "userId": "03164686543966604211"
     },
     "user_tz": 300
    },
    "id": "CHiZoAS3sbqt",
    "outputId": "94bda071-ced5-4940-a037-7a5eb449daeb"
   },
   "outputs": [
    {
     "name": "stdout",
     "output_type": "stream",
     "text": [
      "1.0006043910980225\n"
     ]
    }
   ],
   "source": [
    "import time as t     #importo la librería de funciones para manejo de tiempo\n",
    "\n",
    "tiempo_inicial = t.time()          # toma el tiempo de la maquina\n",
    "t.sleep(1)                         # deja esperando 1 segundo\n",
    "tiempo_final = t.time()            # toma el tiempo de la maquina\n",
    "print(tiempo_final - tiempo_inicial)  # tiempo transcurrido en segundos"
   ]
  },
  {
   "cell_type": "markdown",
   "metadata": {
    "id": "o45gycvH3v0i"
   },
   "source": [
    "También puedo importar una sola función de una librería\n",
    "\n",
    "---\n",
    "\n",
    "\n",
    "***_from_*** nombre_libreria ***_import_*** nombre_funcion\n",
    "\n",
    "\n",
    "---"
   ]
  },
  {
   "cell_type": "code",
   "execution_count": null,
   "metadata": {
    "colab": {
     "base_uri": "https://localhost:8080/"
    },
    "executionInfo": {
     "elapsed": 1354,
     "status": "ok",
     "timestamp": 1737060352070,
     "user": {
      "displayName": "Jorge Castellanos",
      "userId": "03164686543966604211"
     },
     "user_tz": 300
    },
    "id": "r0H7RXDN3v0i",
    "outputId": "faefd470-de74-42d6-bbb8-2a0fbd2e84b8"
   },
   "outputs": [
    {
     "name": "stdout",
     "output_type": "stream",
     "text": [
      "1.0004961490631104\n"
     ]
    }
   ],
   "source": [
    "from time import time,sleep\n",
    "\n",
    "tiempo_inicial = time()               # toma el tiempo de la maquina\n",
    "sleep(1)                              # deja esperando 1 segundo\n",
    "tiempo_final = time()                 # toma el tiempo de la maquina\n",
    "print(tiempo_final - tiempo_inicial)  # tiempo transcurrido en segundos"
   ]
  },
  {
   "cell_type": "markdown",
   "metadata": {
    "id": "VaBCVD3r3v0m"
   },
   "source": [
    "## 2. Numpy (Hacer cuentas)\n",
    "\n",
    "**NumPy**: La piedra angular de la computación científica en Python\n",
    "---\n",
    "\n",
    "\n",
    "NumPy, abreviatura de \"Numerical Python\", es una biblioteca de Python esencial para realizar cálculos numéricos y operaciones con matrices. Es la base sobre la cual se construyen muchos otros paquetes de ciencia de datos y machine learning en Python.\n",
    "\n",
    "**¿Por qué NumPy es tan importante en Machine Learning?**\n",
    "\n",
    "**Arreglos multidimensionales eficientes:** NumPy introduce el concepto de ndarrays, que son estructuras de datos similares a las listas pero mucho más eficientes para realizar operaciones matemáticas y científicas. Estos arreglos son la columna vertebral de la representación de datos en machine learning, desde imágenes hasta matrices de características.\n",
    "\n",
    "**Operaciones vectoriales y matriciales:** NumPy proporciona funciones altamente optimizadas para realizar operaciones vectoriales y matriciales, como suma, resta, multiplicación, división, productos punto, etc. Estas operaciones son fundamentales en algoritmos de machine learning.\n",
    "\n",
    "**Broadcast:** Permite realizar operaciones entre arreglos de diferentes tamaños, lo que facilita la manipulación de datos en diferentes escalas.\n",
    "\n",
    "**Funciones matemáticas:** NumPy incluye una amplia gama de funciones matemáticas, como trigonometría, exponenciales, logaritmos, etc., que son útiles para realizar cálculos numéricos en machine learning.\n",
    "\n",
    "**Generación de números aleatorios:** NumPy proporciona funciones para generar números aleatorios, lo cual es esencial para inicializar modelos de machine learning y para técnicas como el muestreo aleatorio.\n",
    "\n",
    "## 2.1 Usos comunes de NumPy en Machine Learning:\n",
    "\n",
    "**Representación de datos:** Los datos numéricos, como imágenes, señales o características, se representan típicamente como arreglos NumPy.\n",
    "\n",
    "**Preprocesamiento de datos:** NumPy se utiliza para limpiar, transformar y escalar datos antes de alimentarlos a un modelo de machine learning.\n",
    "\n",
    "**Implementación de algoritmos:** Muchos algoritmos de machine learning se implementan utilizando operaciones de NumPy en arreglos.\n",
    "\n",
    "**Cálculos numéricos:** NumPy se utiliza para realizar cálculos numéricos complejos, como la optimización de funciones de costo.\n",
    "\n",
    "\n",
    "Documentación https://numpy.org/doc/stable/reference/index.html"
   ]
  },
  {
   "cell_type": "code",
   "execution_count": null,
   "metadata": {
    "id": "HMm1Glu43v0n"
   },
   "outputs": [],
   "source": [
    "import numpy as np # agregamos numpy y la asignamos np"
   ]
  },
  {
   "cell_type": "markdown",
   "metadata": {
    "id": "YXUTaIaA3v0q"
   },
   "source": [
    "### Arrays (vectores)"
   ]
  },
  {
   "cell_type": "code",
   "execution_count": null,
   "metadata": {
    "colab": {
     "base_uri": "https://localhost:8080/"
    },
    "executionInfo": {
     "elapsed": 271,
     "status": "ok",
     "timestamp": 1737061582529,
     "user": {
      "displayName": "Jorge Castellanos",
      "userId": "03164686543966604211"
     },
     "user_tz": 300
    },
    "id": "jVOosFe43v0s",
    "outputId": "83077b89-5925-4726-94b8-210025fe353f"
   },
   "outputs": [
    {
     "name": "stdout",
     "output_type": "stream",
     "text": [
      "[1 4 3]\n",
      "[2 4 6 8]\n"
     ]
    }
   ],
   "source": [
    "# Crear un arreglo de NumPy con los números del 1 al 5\n",
    "numeros = np.array([1, 2, 3, 4, 5])\n",
    "\n",
    "a = np.arange(2,10,2) # array de enteros, desde 2 hasta 10 no inclusive, de a 2\n",
    "print(b)\n",
    "print(a)"
   ]
  },
  {
   "cell_type": "code",
   "execution_count": null,
   "metadata": {
    "colab": {
     "base_uri": "https://localhost:8080/",
     "height": 34
    },
    "executionInfo": {
     "elapsed": 915,
     "status": "ok",
     "timestamp": 1586637134446,
     "user": {
      "displayName": "Fede Sevlever",
      "photoUrl": "https://lh3.googleusercontent.com/a-/AOh14GgW5N0oIRGab1E5U5dZBQx18aorwA5JZkEPcF679lE=s64",
      "userId": "01554547954040861714"
     },
     "user_tz": 180
    },
    "id": "NDhts-nx3v0t",
    "outputId": "b20c4448-c20a-4de9-d90d-533b3264e48d"
   },
   "outputs": [
    {
     "name": "stdout",
     "output_type": "stream",
     "text": [
      "[ 2.  4.  6.  8. 10.]\n"
     ]
    }
   ],
   "source": [
    "b = np.linspace(2,10,5) # de 2 a 10 inclusive, 5 elementos linealmente equiespaciados\n",
    "print(b)"
   ]
  },
  {
   "cell_type": "code",
   "execution_count": null,
   "metadata": {
    "colab": {
     "base_uri": "https://localhost:8080/",
     "height": 34
    },
    "executionInfo": {
     "elapsed": 660,
     "status": "ok",
     "timestamp": 1588708381411,
     "user": {
      "displayName": "Fede Sevlever",
      "photoUrl": "https://lh3.googleusercontent.com/a-/AOh14GgW5N0oIRGab1E5U5dZBQx18aorwA5JZkEPcF679lE=s64",
      "userId": "01554547954040861714"
     },
     "user_tz": 180
    },
    "id": "ZEu-fJ0X3v0v",
    "outputId": "63f9c027-eb73-4241-945e-dbbacdec9471"
   },
   "outputs": [
    {
     "name": "stdout",
     "output_type": "stream",
     "text": [
      "[   1.   10.  100. 1000.]\n"
     ]
    }
   ],
   "source": [
    "#equiespaceamiento en escala logarítmica;\n",
    "# base 10, desde potencia 0 hasta potencia 4, 4 elementos\n",
    "log_espaciado = np.logspace(base=10,start=0,stop=3,num=4)\n",
    "print(log_espaciado)"
   ]
  },
  {
   "cell_type": "code",
   "execution_count": null,
   "metadata": {
    "colab": {
     "base_uri": "https://localhost:8080/",
     "height": 51
    },
    "executionInfo": {
     "elapsed": 470,
     "status": "ok",
     "timestamp": 1586637135407,
     "user": {
      "displayName": "Fede Sevlever",
      "photoUrl": "https://lh3.googleusercontent.com/a-/AOh14GgW5N0oIRGab1E5U5dZBQx18aorwA5JZkEPcF679lE=s64",
      "userId": "01554547954040861714"
     },
     "user_tz": 180
    },
    "id": "pP-_YMCS3v01",
    "outputId": "408edba4-84d6-48db-c19b-c4cef10e008c"
   },
   "outputs": [
    {
     "name": "stdout",
     "output_type": "stream",
     "text": [
      "[1. 1. 1. 1. 1.]\n",
      "[0. 0. 0. 0. 0.]\n"
     ]
    }
   ],
   "source": [
    "a = np.ones(5)#crea vector todo de 1\n",
    "b = np.zeros(5)#crea vector todo de 0\n",
    "print(a)\n",
    "print(b)"
   ]
  },
  {
   "cell_type": "code",
   "execution_count": null,
   "metadata": {
    "colab": {
     "base_uri": "https://localhost:8080/"
    },
    "executionInfo": {
     "elapsed": 187,
     "status": "ok",
     "timestamp": 1737380698407,
     "user": {
      "displayName": "Jorge Castellanos",
      "userId": "03164686543966604211"
     },
     "user_tz": 300
    },
    "id": "_okJYuN1-ozA",
    "outputId": "52046c71-6772-42eb-d30d-96ee5ad6a696"
   },
   "outputs": [
    {
     "name": "stdout",
     "output_type": "stream",
     "text": [
      "La media es: 3.0\n",
      "La desviación estándar es: 1.4142135623730951\n",
      "La matriz es:\n",
      " [[1 2 3]\n",
      " [4 5 6]]\n",
      "El elemento en la posición (1, 2) es: 6\n",
      "La matriz sumada es:\n",
      " [[2 3 4]\n",
      " [5 6 7]]\n",
      "La matriz multiplicada por 2 es:\n",
      " [[ 2  4  6]\n",
      " [ 8 10 12]]\n",
      "El producto de las matrices es:\n",
      " [[19 22]\n",
      " [43 50]]\n"
     ]
    }
   ],
   "source": [
    "# Crear un arreglo de NumPy con los números del 1 al 5\n",
    "numeros = np.array([1, 2, 3, 4, 5])\n",
    "\n",
    "# Calcular la media de los números\n",
    "media = np.mean(numeros)\n",
    "print(\"La media es:\", media)\n",
    "\n",
    "# Calcular la desviación estándar\n",
    "desviacion_estandar = np.std(numeros)\n",
    "print(\"La desviación estándar es:\", desviacion_estandar)\n",
    "\n",
    "# Crear una matriz de 2x3\n",
    "matriz = np.array([[1, 2, 3], [4, 5, 6]])\n",
    "print(\"La matriz es:\\n\", matriz)\n",
    "\n",
    "# Acceder a un elemento específico de la matriz\n",
    "elemento = matriz[1, 2]  # Acceder a la fila 1 (segunda fila), columna 2 (tercer columna)\n",
    "print(\"El elemento en la posición (1, 2) es:\", elemento)\n",
    "\n",
    "# Realizar operaciones entre matrices\n",
    "matriz_suma = matriz + 1  # Suma 1 a cada elemento de la matriz\n",
    "print(\"La matriz sumada es:\\n\", matriz_suma)\n",
    "\n",
    "# Multiplicar la matriz por un escalar\n",
    "matriz_multiplicada = matriz * 2\n",
    "print(\"La matriz multiplicada por 2 es:\\n\", matriz_multiplicada)\n",
    "\n",
    "# Multiplicar dos matrices (si son compatibles)\n",
    "matriz_A = np.array([[1, 2], [3, 4]])\n",
    "matriz_B = np.array([[5, 6], [7, 8]])\n",
    "producto = np.dot(matriz_A, matriz_B) #Realizamos la multiplicación de matrices utilizando la función np.dot().\n",
    "print(\"El producto de las matrices es:\\n\", producto)"
   ]
  },
  {
   "cell_type": "markdown",
   "metadata": {
    "collapsed": true,
    "id": "cRjW3nHD3v01"
   },
   "source": [
    "### Operaciones Matemáticas"
   ]
  },
  {
   "cell_type": "code",
   "execution_count": null,
   "metadata": {
    "colab": {
     "base_uri": "https://localhost:8080/"
    },
    "executionInfo": {
     "elapsed": 201,
     "status": "ok",
     "timestamp": 1737380717750,
     "user": {
      "displayName": "Jorge Castellanos",
      "userId": "03164686543966604211"
     },
     "user_tz": 300
    },
    "id": "gYuhc8px3v04",
    "outputId": "d66bbfde-a113-49af-ad0e-547c8cd199be"
   },
   "outputs": [
    {
     "data": {
      "text/plain": [
       "1.5"
      ]
     },
     "execution_count": 4,
     "metadata": {},
     "output_type": "execute_result"
    }
   ],
   "source": [
    "6/4"
   ]
  },
  {
   "cell_type": "code",
   "execution_count": null,
   "metadata": {
    "colab": {
     "base_uri": "https://localhost:8080/"
    },
    "executionInfo": {
     "elapsed": 290,
     "status": "ok",
     "timestamp": 1737380721665,
     "user": {
      "displayName": "Jorge Castellanos",
      "userId": "03164686543966604211"
     },
     "user_tz": 300
    },
    "id": "NXBIWgeB3v05",
    "outputId": "a9622276-e6af-47df-fd99-f1c6eb3c9022"
   },
   "outputs": [
    {
     "data": {
      "text/plain": [
       "0"
      ]
     },
     "execution_count": 5,
     "metadata": {},
     "output_type": "execute_result"
    }
   ],
   "source": [
    "3//4 # división entera"
   ]
  },
  {
   "cell_type": "code",
   "execution_count": null,
   "metadata": {
    "colab": {
     "base_uri": "https://localhost:8080/"
    },
    "executionInfo": {
     "elapsed": 158,
     "status": "ok",
     "timestamp": 1737380725324,
     "user": {
      "displayName": "Jorge Castellanos",
      "userId": "03164686543966604211"
     },
     "user_tz": 300
    },
    "id": "vo2Sx5Lq3v07",
    "outputId": "9edf8bd1-b0db-490b-ef44-426fce6f53db"
   },
   "outputs": [
    {
     "data": {
      "text/plain": [
       "2"
      ]
     },
     "execution_count": 6,
     "metadata": {},
     "output_type": "execute_result"
    }
   ],
   "source": [
    "116 % 3 # residuo en la division por 3"
   ]
  },
  {
   "cell_type": "code",
   "execution_count": null,
   "metadata": {
    "colab": {
     "base_uri": "https://localhost:8080/"
    },
    "executionInfo": {
     "elapsed": 206,
     "status": "ok",
     "timestamp": 1737380735160,
     "user": {
      "displayName": "Jorge Castellanos",
      "userId": "03164686543966604211"
     },
     "user_tz": 300
    },
    "id": "qVT19zRr3v09",
    "outputId": "3dcb027f-b194-44fb-84e5-a0b58b6770d1"
   },
   "outputs": [
    {
     "name": "stdout",
     "output_type": "stream",
     "text": [
      "[1. 1. 1. 1. 1. 1. 1.]\n"
     ]
    }
   ],
   "source": [
    "a = np.zeros(7)#crea vector todo de 0\n",
    "a=a+1 # sum 1 to all vector\n",
    "print(a)"
   ]
  },
  {
   "cell_type": "code",
   "execution_count": null,
   "metadata": {
    "id": "M3wNr3SX3v0-"
   },
   "outputs": [],
   "source": [
    "a = 2*a\n",
    "b = np.array([-1,0,1,10,100,1000,500])"
   ]
  },
  {
   "cell_type": "code",
   "execution_count": null,
   "metadata": {
    "colab": {
     "base_uri": "https://localhost:8080/"
    },
    "executionInfo": {
     "elapsed": 169,
     "status": "ok",
     "timestamp": 1737380788800,
     "user": {
      "displayName": "Jorge Castellanos",
      "userId": "03164686543966604211"
     },
     "user_tz": 300
    },
    "id": "79NS5W5M3v1D",
    "outputId": "6dd046f5-ca1a-4a4e-ccfd-838e3861e70b"
   },
   "outputs": [
    {
     "data": {
      "text/plain": [
       "array([   7.,    8.,    9.,   18.,  108., 1008.,  508.])"
      ]
     },
     "execution_count": 13,
     "metadata": {},
     "output_type": "execute_result"
    }
   ],
   "source": [
    "b+a #suma vectorial"
   ]
  },
  {
   "cell_type": "code",
   "execution_count": null,
   "metadata": {
    "colab": {
     "base_uri": "https://localhost:8080/"
    },
    "executionInfo": {
     "elapsed": 166,
     "status": "ok",
     "timestamp": 1737380817190,
     "user": {
      "displayName": "Jorge Castellanos",
      "userId": "03164686543966604211"
     },
     "user_tz": 300
    },
    "id": "vswZiCJy3v1G",
    "outputId": "ca8c5622-779b-49ec-a9b0-21ebcb8e0fc8"
   },
   "outputs": [
    {
     "data": {
      "text/plain": [
       "array([  -8.,    0.,    8.,   80.,  800., 8000., 4000.])"
      ]
     },
     "execution_count": 14,
     "metadata": {},
     "output_type": "execute_result"
    }
   ],
   "source": [
    "a*b #producto elemento a elemento"
   ]
  },
  {
   "cell_type": "code",
   "execution_count": null,
   "metadata": {
    "colab": {
     "base_uri": "https://localhost:8080/"
    },
    "executionInfo": {
     "elapsed": 179,
     "status": "ok",
     "timestamp": 1737380836058,
     "user": {
      "displayName": "Jorge Castellanos",
      "userId": "03164686543966604211"
     },
     "user_tz": 300
    },
    "id": "kDyWDiEt3v1I",
    "outputId": "f229f14e-73f8-4f19-c9cc-d804c25ba332"
   },
   "outputs": [
    {
     "data": {
      "text/plain": [
       "array([512., 512., 512., 512., 512., 512., 512.])"
      ]
     },
     "execution_count": 16,
     "metadata": {},
     "output_type": "execute_result"
    }
   ],
   "source": [
    "a**3 #elevar cada elemento al cubo"
   ]
  },
  {
   "cell_type": "code",
   "execution_count": null,
   "metadata": {
    "colab": {
     "base_uri": "https://localhost:8080/"
    },
    "executionInfo": {
     "elapsed": 170,
     "status": "ok",
     "timestamp": 1737380847094,
     "user": {
      "displayName": "Jorge Castellanos",
      "userId": "03164686543966604211"
     },
     "user_tz": 300
    },
    "id": "A8sH1l_J3v1K",
    "outputId": "61746f54-fd0d-4daf-ce4a-263d033a960b"
   },
   "outputs": [
    {
     "name": "stdout",
     "output_type": "stream",
     "text": [
      "[[1.]\n",
      " [1.]\n",
      " [1.]]\n",
      "[[-1  0  2]]\n"
     ]
    }
   ],
   "source": [
    "a = np.ones((3,1))#vector columna\n",
    "b = np.array([[-1,0,2]])#vector fila\n",
    "print(a)\n",
    "print(b)"
   ]
  },
  {
   "cell_type": "code",
   "execution_count": null,
   "metadata": {
    "colab": {
     "base_uri": "https://localhost:8080/"
    },
    "executionInfo": {
     "elapsed": 162,
     "status": "ok",
     "timestamp": 1737380862111,
     "user": {
      "displayName": "Jorge Castellanos",
      "userId": "03164686543966604211"
     },
     "user_tz": 300
    },
    "id": "hR1f6ZEv3v1M",
    "outputId": "00a856d5-52d9-4507-8788-5d2ca33e3d1e"
   },
   "outputs": [
    {
     "data": {
      "text/plain": [
       "array([1.])"
      ]
     },
     "execution_count": 18,
     "metadata": {},
     "output_type": "execute_result"
    }
   ],
   "source": [
    "a[0]"
   ]
  },
  {
   "cell_type": "code",
   "execution_count": null,
   "metadata": {
    "colab": {
     "base_uri": "https://localhost:8080/"
    },
    "executionInfo": {
     "elapsed": 171,
     "status": "ok",
     "timestamp": 1737380864607,
     "user": {
      "displayName": "Jorge Castellanos",
      "userId": "03164686543966604211"
     },
     "user_tz": 300
    },
    "id": "MtPJ0irg3v1O",
    "outputId": "cb9846d6-9e51-49c0-b33d-faffc00d5605"
   },
   "outputs": [
    {
     "data": {
      "text/plain": [
       "array([-1,  0,  2])"
      ]
     },
     "execution_count": 19,
     "metadata": {},
     "output_type": "execute_result"
    }
   ],
   "source": [
    "b[0]"
   ]
  },
  {
   "cell_type": "code",
   "execution_count": null,
   "metadata": {
    "colab": {
     "base_uri": "https://localhost:8080/"
    },
    "executionInfo": {
     "elapsed": 169,
     "status": "ok",
     "timestamp": 1737380867055,
     "user": {
      "displayName": "Jorge Castellanos",
      "userId": "03164686543966604211"
     },
     "user_tz": 300
    },
    "id": "0HpBNjKs3v1P",
    "outputId": "d73eeca0-c0a6-4d30-fb0d-d9077301e05a"
   },
   "outputs": [
    {
     "data": {
      "text/plain": [
       "-1"
      ]
     },
     "execution_count": 20,
     "metadata": {},
     "output_type": "execute_result"
    }
   ],
   "source": [
    "b[0,0]"
   ]
  },
  {
   "cell_type": "code",
   "execution_count": null,
   "metadata": {
    "colab": {
     "base_uri": "https://localhost:8080/"
    },
    "executionInfo": {
     "elapsed": 149,
     "status": "ok",
     "timestamp": 1737380869690,
     "user": {
      "displayName": "Jorge Castellanos",
      "userId": "03164686543966604211"
     },
     "user_tz": 300
    },
    "id": "jrFW2Wct3v1Q",
    "outputId": "76077c55-350a-4265-a2ff-9c1cc29e33c4"
   },
   "outputs": [
    {
     "name": "stdout",
     "output_type": "stream",
     "text": [
      "[[1.]\n",
      " [1.]\n",
      " [1.]]\n",
      "[[1. 1. 1.]]\n",
      "[[1. 1. 1.]]\n"
     ]
    }
   ],
   "source": [
    "# Traspuesta\n",
    "print(a)\n",
    "print(a.T)\n",
    "print(np.transpose(a))"
   ]
  },
  {
   "cell_type": "code",
   "execution_count": null,
   "metadata": {
    "colab": {
     "base_uri": "https://localhost:8080/"
    },
    "executionInfo": {
     "elapsed": 203,
     "status": "ok",
     "timestamp": 1737381081933,
     "user": {
      "displayName": "Jorge Castellanos",
      "userId": "03164686543966604211"
     },
     "user_tz": 300
    },
    "id": "MDMTU09k3v1U",
    "outputId": "96eec3ef-5f6a-4700-ad4a-4aa0c305230f"
   },
   "outputs": [
    {
     "data": {
      "text/plain": [
       "array([[-1.,  0.,  2.],\n",
       "       [-1.,  0.,  2.],\n",
       "       [-1.,  0.,  2.]])"
      ]
     },
     "execution_count": 22,
     "metadata": {},
     "output_type": "execute_result"
    }
   ],
   "source": [
    "np.matmul(a,b)# multiplicación matricial."
   ]
  },
  {
   "cell_type": "code",
   "execution_count": null,
   "metadata": {
    "colab": {
     "base_uri": "https://localhost:8080/"
    },
    "executionInfo": {
     "elapsed": 217,
     "status": "ok",
     "timestamp": 1737381162576,
     "user": {
      "displayName": "Jorge Castellanos",
      "userId": "03164686543966604211"
     },
     "user_tz": 300
    },
    "id": "jI0A2ee13v1W",
    "outputId": "968f3c03-2c2f-4a53-c2ad-d185dc73fbd0"
   },
   "outputs": [
    {
     "data": {
      "text/plain": [
       "array([[1.]])"
      ]
     },
     "execution_count": 23,
     "metadata": {},
     "output_type": "execute_result"
    }
   ],
   "source": [
    "np.matmul(a.T,b.T)"
   ]
  },
  {
   "cell_type": "code",
   "execution_count": null,
   "metadata": {
    "colab": {
     "base_uri": "https://localhost:8080/"
    },
    "executionInfo": {
     "elapsed": 207,
     "status": "ok",
     "timestamp": 1737381165534,
     "user": {
      "displayName": "Jorge Castellanos",
      "userId": "03164686543966604211"
     },
     "user_tz": 300
    },
    "id": "Z7poSPcC3v1Y",
    "outputId": "482943a3-9060-4e84-d45e-765d70617099"
   },
   "outputs": [
    {
     "data": {
      "text/plain": [
       "3.0"
      ]
     },
     "execution_count": 24,
     "metadata": {},
     "output_type": "execute_result"
    }
   ],
   "source": [
    "np.sum(a) #suma los elementos"
   ]
  },
  {
   "cell_type": "code",
   "execution_count": null,
   "metadata": {
    "colab": {
     "base_uri": "https://localhost:8080/"
    },
    "executionInfo": {
     "elapsed": 207,
     "status": "ok",
     "timestamp": 1737381167717,
     "user": {
      "displayName": "Jorge Castellanos",
      "userId": "03164686543966604211"
     },
     "user_tz": 300
    },
    "id": "zUnA1Zew3v1Z",
    "outputId": "5e64f23e-865e-4f38-a856-aa6b25925457"
   },
   "outputs": [
    {
     "data": {
      "text/plain": [
       "1.0"
      ]
     },
     "execution_count": 25,
     "metadata": {},
     "output_type": "execute_result"
    }
   ],
   "source": [
    "np.mean(a) #calcula valor medio"
   ]
  },
  {
   "cell_type": "code",
   "execution_count": null,
   "metadata": {
    "colab": {
     "base_uri": "https://localhost:8080/"
    },
    "executionInfo": {
     "elapsed": 186,
     "status": "ok",
     "timestamp": 1737381169181,
     "user": {
      "displayName": "Jorge Castellanos",
      "userId": "03164686543966604211"
     },
     "user_tz": 300
    },
    "id": "VTheHnZj3v1c",
    "outputId": "ebfd3c16-a20f-4945-eafd-01a27e50934c"
   },
   "outputs": [
    {
     "data": {
      "text/plain": [
       "1.0"
      ]
     },
     "execution_count": 26,
     "metadata": {},
     "output_type": "execute_result"
    }
   ],
   "source": [
    "np.median(a) #calcula mediana"
   ]
  },
  {
   "cell_type": "code",
   "execution_count": null,
   "metadata": {
    "colab": {
     "base_uri": "https://localhost:8080/"
    },
    "executionInfo": {
     "elapsed": 162,
     "status": "ok",
     "timestamp": 1737381170906,
     "user": {
      "displayName": "Jorge Castellanos",
      "userId": "03164686543966604211"
     },
     "user_tz": 300
    },
    "id": "kv2dEQiV3v1f",
    "outputId": "4856e4dc-2126-4ed8-9a57-defd205ca7c8"
   },
   "outputs": [
    {
     "data": {
      "text/plain": [
       "0.0"
      ]
     },
     "execution_count": 27,
     "metadata": {},
     "output_type": "execute_result"
    }
   ],
   "source": [
    "np.std(a) #calcula desvío estándar"
   ]
  },
  {
   "cell_type": "code",
   "execution_count": null,
   "metadata": {
    "colab": {
     "base_uri": "https://localhost:8080/"
    },
    "executionInfo": {
     "elapsed": 228,
     "status": "ok",
     "timestamp": 1737381173805,
     "user": {
      "displayName": "Jorge Castellanos",
      "userId": "03164686543966604211"
     },
     "user_tz": 300
    },
    "id": "aLjMj2wk3v1l",
    "outputId": "d082c8c5-8011-436e-c224-077fd7fe9f66"
   },
   "outputs": [
    {
     "data": {
      "text/plain": [
       "array([[ 1.        , -0.98198051],\n",
       "       [-0.98198051,  1.        ]])"
      ]
     },
     "execution_count": 28,
     "metadata": {},
     "output_type": "execute_result"
    }
   ],
   "source": [
    "np.corrcoef([1,2,3],[3,2,0]) #matriz de correlación"
   ]
  },
  {
   "cell_type": "markdown",
   "metadata": {
    "id": "EGE85mET3v1n"
   },
   "source": [
    "Cuando aparecen nan, las funciones usuales retornan nan (Not a Number); para ello hay que usar otras o resolver el problema de los nan de otro modo."
   ]
  },
  {
   "cell_type": "code",
   "execution_count": null,
   "metadata": {
    "colab": {
     "base_uri": "https://localhost:8080/"
    },
    "executionInfo": {
     "elapsed": 193,
     "status": "ok",
     "timestamp": 1737381214866,
     "user": {
      "displayName": "Jorge Castellanos",
      "userId": "03164686543966604211"
     },
     "user_tz": 300
    },
    "id": "YDS8JI1k3v1n",
    "outputId": "cf3dd1c5-be0e-4e8a-a55d-398bce69eee0"
   },
   "outputs": [
    {
     "data": {
      "text/plain": [
       "nan"
      ]
     },
     "execution_count": 29,
     "metadata": {},
     "output_type": "execute_result"
    }
   ],
   "source": [
    "np.mean([1,5,6,np.nan])"
   ]
  },
  {
   "cell_type": "code",
   "execution_count": null,
   "metadata": {
    "colab": {
     "base_uri": "https://localhost:8080/",
     "height": 51
    },
    "executionInfo": {
     "elapsed": 578,
     "status": "ok",
     "timestamp": 1586637148229,
     "user": {
      "displayName": "Fede Sevlever",
      "photoUrl": "https://lh3.googleusercontent.com/a-/AOh14GgW5N0oIRGab1E5U5dZBQx18aorwA5JZkEPcF679lE=s64",
      "userId": "01554547954040861714"
     },
     "user_tz": 180
    },
    "id": "b2qCLLw53v1p",
    "outputId": "9f31908f-0616-4329-a78c-a81613b38fb5"
   },
   "outputs": [
    {
     "name": "stdout",
     "output_type": "stream",
     "text": [
      "[ 1.  1.  1. nan]\n"
     ]
    },
    {
     "data": {
      "text/plain": [
       "1.0"
      ]
     },
     "execution_count": 61,
     "metadata": {
      "tags": []
     },
     "output_type": "execute_result"
    }
   ],
   "source": [
    "a2 = np.append(a,[np.nan])\n",
    "print(a2)\n",
    "np.nanmean(a2)"
   ]
  },
  {
   "cell_type": "code",
   "execution_count": null,
   "metadata": {
    "colab": {
     "base_uri": "https://localhost:8080/",
     "height": 34
    },
    "executionInfo": {
     "elapsed": 664,
     "status": "ok",
     "timestamp": 1586637148855,
     "user": {
      "displayName": "Fede Sevlever",
      "photoUrl": "https://lh3.googleusercontent.com/a-/AOh14GgW5N0oIRGab1E5U5dZBQx18aorwA5JZkEPcF679lE=s64",
      "userId": "01554547954040861714"
     },
     "user_tz": 180
    },
    "id": "O3jypXlo3v1q",
    "outputId": "387fbb44-408d-4a8c-8826-2cb0a15c3f44"
   },
   "outputs": [
    {
     "data": {
      "text/plain": [
       "0.0"
      ]
     },
     "execution_count": 62,
     "metadata": {
      "tags": []
     },
     "output_type": "execute_result"
    }
   ],
   "source": [
    "np.nanstd(a2)"
   ]
  },
  {
   "cell_type": "markdown",
   "metadata": {
    "id": "XqF2i6IK3v2F"
   },
   "source": [
    "### Generar números aleatorios"
   ]
  },
  {
   "cell_type": "code",
   "execution_count": null,
   "metadata": {
    "colab": {
     "base_uri": "https://localhost:8080/"
    },
    "executionInfo": {
     "elapsed": 258,
     "status": "ok",
     "timestamp": 1660865106002,
     "user": {
      "displayName": "Fede Sevlever",
      "userId": "01554547954040861714"
     },
     "user_tz": 180
    },
    "id": "CkFWB9_5xB0F",
    "outputId": "2b82cfeb-84af-468f-a5cb-a1a5c242da2c"
   },
   "outputs": [
    {
     "data": {
      "text/plain": [
       "0.4059805099722884"
      ]
     },
     "execution_count": 54,
     "metadata": {},
     "output_type": "execute_result"
    }
   ],
   "source": [
    "np.random.random() # Devuelve un número aleatorio entre 0 y 1, distribución uniforme"
   ]
  },
  {
   "cell_type": "code",
   "execution_count": null,
   "metadata": {
    "colab": {
     "base_uri": "https://localhost:8080/"
    },
    "executionInfo": {
     "elapsed": 255,
     "status": "ok",
     "timestamp": 1660865130641,
     "user": {
      "displayName": "Fede Sevlever",
      "userId": "01554547954040861714"
     },
     "user_tz": 180
    },
    "id": "YSnWlcSJ3v2G",
    "outputId": "b24902e6-962c-4a51-a32a-2c0b48210745"
   },
   "outputs": [
    {
     "name": "stdout",
     "output_type": "stream",
     "text": [
      "[3.84825188 7.27260032 4.77676614 6.72823222 3.39078251 9.77433123\n",
      " 8.1653086  4.12498416 6.20769765 8.88976249]\n"
     ]
    }
   ],
   "source": [
    "# Devuelve 'size' números aleatorios entre 'low' y 'high', distribución uniforme\n",
    "random_vector = np.random.uniform(low=0, high=10, size=10)\n",
    "print(random_vector)"
   ]
  },
  {
   "cell_type": "code",
   "execution_count": null,
   "metadata": {
    "colab": {
     "base_uri": "https://localhost:8080/"
    },
    "executionInfo": {
     "elapsed": 284,
     "status": "ok",
     "timestamp": 1660865150511,
     "user": {
      "displayName": "Fede Sevlever",
      "userId": "01554547954040861714"
     },
     "user_tz": 180
    },
    "id": "tAQSYzFuxyGx",
    "outputId": "009a7f3f-20f7-47ba-d7d3-c97e53bf6b58"
   },
   "outputs": [
    {
     "name": "stdout",
     "output_type": "stream",
     "text": [
      "[0.94505225 0.95500089 1.10089587 1.19619553 0.95324512 0.9468742\n",
      " 0.94921266 0.94897274 0.93137992 0.93784321]\n"
     ]
    }
   ],
   "source": [
    "# Devuelve 'size' números aleatorios con distribución gaussiana/normal\n",
    "# 'loc' es el valor medio y 'scale' el sigma\n",
    "random_vector = np.random.normal(loc=1, scale=0.1, size=10)\n",
    "print(random_vector)"
   ]
  },
  {
   "cell_type": "markdown",
   "metadata": {
    "id": "Sci40fCi3v2h"
   },
   "source": [
    "## 3. Matplotlib (Graficar)\n",
    "\n",
    "Librería para hacer graficos.\n",
    "\n",
    "\n",
    "Documentacion\n",
    "https://matplotlib.org/"
   ]
  },
  {
   "cell_type": "code",
   "execution_count": null,
   "metadata": {
    "id": "RJpYefMi3v2i"
   },
   "outputs": [],
   "source": [
    "import matplotlib.pylab as plt"
   ]
  },
  {
   "cell_type": "code",
   "execution_count": null,
   "metadata": {
    "colab": {
     "base_uri": "https://localhost:8080/",
     "height": 430
    },
    "executionInfo": {
     "elapsed": 445,
     "status": "ok",
     "timestamp": 1737381482440,
     "user": {
      "displayName": "Jorge Castellanos",
      "userId": "03164686543966604211"
     },
     "user_tz": 300
    },
    "id": "8-jpoVHq3v2k",
    "outputId": "21dd0670-7acc-4f12-8dca-df6a9903ea9c"
   },
   "outputs": [
    {
     "data": {
      "image/png": "[encoded data removed]",
      "text/plain": [
       "<Figure size 640x480 with 1 Axes>"
      ]
     },
     "metadata": {},
     "output_type": "display_data"
    }
   ],
   "source": [
    "x = np.arange(100) # vector de enteros entre 0 y 100\n",
    "y = x**2           # elevo al cuadrado cada elemento\n",
    "plt.plot(x, y)     # gráfico x vs y\n",
    "plt.show()"
   ]
  },
  {
   "cell_type": "code",
   "execution_count": null,
   "metadata": {
    "colab": {
     "base_uri": "https://localhost:8080/",
     "height": 472
    },
    "executionInfo": {
     "elapsed": 667,
     "status": "ok",
     "timestamp": 1737381622367,
     "user": {
      "displayName": "Jorge Castellanos",
      "userId": "03164686543966604211"
     },
     "user_tz": 300
    },
    "id": "KfpbHQEH3v2l",
    "outputId": "2e2d2620-aac3-4d11-fca9-4a26abf45380"
   },
   "outputs": [
    {
     "data": {
      "image/png": "[encoded data removed]",
      "text/plain": [
       "<Figure size 640x480 with 1 Axes>"
      ]
     },
     "metadata": {},
     "output_type": "display_data"
    }
   ],
   "source": [
    "plt.plot(x, y, 'g.', label=\"Puntos verdes\")\n",
    "#'g' para que grafique en verde (green)\n",
    "#'.' para que grafique con puntos en lugar de una linea\n",
    "#label es la leyenda\n",
    "plt.plot(x, y+1500, 'r*', label = \"Estrellas rojas\")\n",
    "#'r' para que grafique en rojo (red)\n",
    "#'*' para que grafique con estrellas rojas\n",
    "plt.xlabel(\"X\")             # nombre el eje x\n",
    "plt.ylabel(\"X$^2$\")         # nombre el eje y\n",
    "plt.title(\"Parabolas\")      # pongo titulo\n",
    "plt.legend()                # arma la leyenda con los labels\n",
    "plt.show()                  # muestra la imagen"
   ]
  },
  {
   "cell_type": "code",
   "execution_count": null,
   "metadata": {
    "colab": {
     "base_uri": "https://localhost:8080/",
     "height": 602
    },
    "executionInfo": {
     "elapsed": 733,
     "status": "ok",
     "timestamp": 1737381822940,
     "user": {
      "displayName": "Jorge Castellanos",
      "userId": "03164686543966604211"
     },
     "user_tz": 300
    },
    "id": "Ul5RiXlV3v2n",
    "outputId": "73b67894-b7fc-483a-8e0a-b65cbdc369b0"
   },
   "outputs": [
    {
     "data": {
      "image/png": "[encoded data removed]",
      "text/plain": [
       "<Figure size 1200x600 with 2 Axes>"
      ]
     },
     "metadata": {},
     "output_type": "display_data"
    }
   ],
   "source": [
    "y = np.exp(x) # función exponencial\n",
    "\n",
    "#creo subplots:\n",
    "#2 columnas 1 fila -> 2 gráficos.\n",
    "# tamaño de la figura en x e y 12*6\n",
    "fig, ax = plt.subplots(ncols=2, nrows=1, figsize=(12,6))\n",
    "plt.suptitle(\"Representación gráfica 2 columnas\")\n",
    "\n",
    "#primer plot\n",
    "ax[0].plot(x, y, 'g.', label=\"exponencial\")\n",
    "ax[0].set_xlabel(\"x\")\n",
    "ax[0].legend()\n",
    "#segundo plot\n",
    "ax[1].semilogy(x, y, 'r*', label = \"APA! eje y logaritmico\")#rojo con estrellitas\n",
    "ax[1].legend()#usa los labels para armar la legenda.\n",
    "plt.show()"
   ]
  },
  {
   "cell_type": "code",
   "execution_count": null,
   "metadata": {
    "colab": {
     "base_uri": "https://localhost:8080/",
     "height": 457
    },
    "executionInfo": {
     "elapsed": 1004,
     "status": "ok",
     "timestamp": 1737381929522,
     "user": {
      "displayName": "Jorge Castellanos",
      "userId": "03164686543966604211"
     },
     "user_tz": 300
    },
    "id": "0XnsCyce3v2p",
    "outputId": "b0d211e1-2471-410b-fe56-19027e65d857"
   },
   "outputs": [
    {
     "data": {
      "image/png": "[encoded data removed]",
      "text/plain": [
       "<Figure size 640x480 with 1 Axes>"
      ]
     },
     "metadata": {},
     "output_type": "display_data"
    }
   ],
   "source": [
    "color = (0.5,0.2,0.8,0.7)# se crea colores a traves de la mezcla (red,green,blue,alpha) donde alpha es la opacidad\n",
    "x = np.random.exponential(scale=10,size=100)\n",
    "y = x**2\n",
    "\n",
    "plt.loglog(x,y,'o',c=color) # Gráfica con eje x log y y log.\n",
    "plt.title(\"log en ambos ejes\")\n",
    "plt.show()"
   ]
  },
  {
   "cell_type": "code",
   "execution_count": null,
   "metadata": {
    "colab": {
     "base_uri": "https://localhost:8080/",
     "height": 430
    },
    "executionInfo": {
     "elapsed": 299,
     "status": "ok",
     "timestamp": 1737381932892,
     "user": {
      "displayName": "Jorge Castellanos",
      "userId": "03164686543966604211"
     },
     "user_tz": 300
    },
    "id": "GBvMy9X23v2q",
    "outputId": "7e0b3ee3-bbfe-467f-a276-25a4da9350a5"
   },
   "outputs": [
    {
     "data": {
      "image/png": "[encoded data removed]",
      "text/plain": [
       "<Figure size 640x480 with 1 Axes>"
      ]
     },
     "metadata": {},
     "output_type": "display_data"
    }
   ],
   "source": [
    "plt.bar([1,5,8],[2,4,6])\n",
    "plt.show()"
   ]
  },
  {
   "cell_type": "code",
   "execution_count": null,
   "metadata": {
    "colab": {
     "base_uri": "https://localhost:8080/",
     "height": 1000
    },
    "executionInfo": {
     "elapsed": 1352,
     "status": "ok",
     "timestamp": 1737382002071,
     "user": {
      "displayName": "Jorge Castellanos",
      "userId": "03164686543966604211"
     },
     "user_tz": 300
    },
    "id": "6MjSew8q3v2s",
    "outputId": "accdea64-726d-4048-e89e-6e6c06303c12"
   },
   "outputs": [
    {
     "data": {
      "image/png": "[encoded data removed]",
      "text/plain": [
       "<Figure size 640x480 with 1 Axes>"
      ]
     },
     "metadata": {},
     "output_type": "display_data"
    },
    {
     "data": {
      "image/png": "[encoded data removed]",
      "text/plain": [
       "<Figure size 640x480 with 1 Axes>"
      ]
     },
     "metadata": {},
     "output_type": "display_data"
    },
    {
     "data": {
      "image/png": "[encoded data removed]",
      "text/plain": [
       "<Figure size 640x480 with 1 Axes>"
      ]
     },
     "metadata": {},
     "output_type": "display_data"
    },
    {
     "data": {
      "image/png": "[encoded data removed]",
      "text/plain": [
       "<Figure size 640x480 with 1 Axes>"
      ]
     },
     "metadata": {},
     "output_type": "display_data"
    }
   ],
   "source": [
    "for size in [10, 100, 1000, 10000]:\n",
    "    r = np.random.normal(loc=5, scale=3, size=size)\n",
    "    plt.hist(r, bins=int(np.sqrt(size))) # gráfica de histogramas\n",
    "    plt.axvline(5, c=\"red\") # lineas verticales\n",
    "    plt.title(\"size = {}\".format(size))\n",
    "    plt.show()"
   ]
  },
  {
   "cell_type": "markdown",
   "metadata": {
    "id": "NCr5fbiG3v2v"
   },
   "source": [
    "## 4. Scipy (Ajustes y más)\n",
    "\n",
    "Librería para manejo de estadística basada en la librería numpy y cosas útiles como funciones de ajustes (Fit).\n",
    "\n",
    "Documentación\n",
    "https://scipy-cookbook.readthedocs.io/items/FittingData.html"
   ]
  },
  {
   "cell_type": "markdown",
   "metadata": {
    "id": "Mf3YsdVE1l43"
   },
   "source": [
    "Ejemplos de ajustes"
   ]
  },
  {
   "cell_type": "markdown",
   "metadata": {
    "id": "3bn-pouT3v2v"
   },
   "source": [
    "### Minimización"
   ]
  },
  {
   "cell_type": "code",
   "execution_count": null,
   "metadata": {
    "colab": {
     "base_uri": "https://localhost:8080/"
    },
    "executionInfo": {
     "elapsed": 1069,
     "status": "ok",
     "timestamp": 1737382098315,
     "user": {
      "displayName": "Jorge Castellanos",
      "userId": "03164686543966604211"
     },
     "user_tz": 300
    },
    "id": "AUjhYtFY3v2w",
    "outputId": "00209469-6f6a-45f8-9ec1-e178a0e0f248"
   },
   "outputs": [
    {
     "data": {
      "text/plain": [
       "       message: Optimization terminated successfully.\n",
       "       success: True\n",
       "        status: 0\n",
       "           fun: 9.597723895727627e-14\n",
       "             x: [ 5.000e+00  7.000e+00]\n",
       "           nit: 91\n",
       "          nfev: 177\n",
       " final_simplex: (array([[ 5.000e+00,  7.000e+00],\n",
       "                       [ 5.000e+00,  7.000e+00],\n",
       "                       [ 5.000e+00,  7.000e+00]]), array([ 9.598e-14,  2.063e-13,  3.099e-13]))"
      ]
     },
     "execution_count": 44,
     "metadata": {},
     "output_type": "execute_result"
    }
   ],
   "source": [
    "from scipy.optimize import minimize\n",
    "f = lambda X:((X[0]-5)**2)+(X[1]-7)**2 #función a minimizar\n",
    "x0 = [0, 0] #valores iniciales donde empezar a inspeccionar la minimización\n",
    "res = minimize(f, x0, method='Nelder-Mead', tol=1e-6)\n",
    "res #minimos en [5, 7]"
   ]
  },
  {
   "cell_type": "markdown",
   "metadata": {
    "id": "48JxMtC93v2y"
   },
   "source": [
    "### Cuadrados minimos"
   ]
  },
  {
   "cell_type": "code",
   "execution_count": null,
   "metadata": {
    "id": "7pWNfPDx3v2y"
   },
   "outputs": [],
   "source": [
    "import numpy as np\n",
    "from scipy import optimize\n",
    "import matplotlib.pylab as plt\n",
    "%matplotlib inline\n",
    "\n",
    "# genera puntos con ruido\n",
    "num_points = 150\n",
    "x = np.linspace(-20, 5., num_points)\n",
    "y = x**2+5*x-2+np.random.normal(scale=10, size=num_points)"
   ]
  },
  {
   "cell_type": "markdown",
   "metadata": {
    "id": "fqWDDdy13v2z"
   },
   "source": [
    "Aproximación lineal"
   ]
  },
  {
   "cell_type": "code",
   "execution_count": null,
   "metadata": {
    "id": "SX0cstCI3v20"
   },
   "outputs": [],
   "source": [
    "fitfunc = lambda p, x: p[0]*x+p[1]# Función con la que queremos ajustar la data\n",
    "p0 = [1, 1] # Parametros iniciales para ajustar"
   ]
  },
  {
   "cell_type": "code",
   "execution_count": null,
   "metadata": {
    "colab": {
     "base_uri": "https://localhost:8080/",
     "height": 465
    },
    "executionInfo": {
     "elapsed": 404,
     "status": "ok",
     "timestamp": 1737382146422,
     "user": {
      "displayName": "Jorge Castellanos",
      "userId": "03164686543966604211"
     },
     "user_tz": 300
    },
    "id": "W8IUvwou3v21",
    "outputId": "dfd581f5-d33e-41ad-d790-c925437683f5"
   },
   "outputs": [
    {
     "data": {
      "text/plain": [
       "[<matplotlib.lines.Line2D at 0x79d43ecd9010>,\n",
       " <matplotlib.lines.Line2D at 0x79d44ca3a350>]"
      ]
     },
     "execution_count": 47,
     "metadata": {},
     "output_type": "execute_result"
    },
    {
     "data": {
      "image/png": "[encoded data removed]",
      "text/plain": [
       "<Figure size 640x480 with 1 Axes>"
      ]
     },
     "metadata": {},
     "output_type": "display_data"
    }
   ],
   "source": [
    "errfunc = lambda p, x, y: fitfunc(p, x) - y # Distancia a la función objetivo\n",
    "p1, success = optimize.leastsq(errfunc, p0[:], args=(x, y))\n",
    "plt.plot(x, y, \"ro\", x, fitfunc(p1, x), \"k-\", linewidth=3) # Plot of the data and"
   ]
  },
  {
   "cell_type": "markdown",
   "metadata": {
    "id": "v__fAdUh3v23"
   },
   "source": [
    "Aproximación cuadrático"
   ]
  },
  {
   "cell_type": "code",
   "execution_count": null,
   "metadata": {
    "id": "X1NUAF4v3v24"
   },
   "outputs": [],
   "source": [
    "fitfunc = lambda p, x: p[0]*x**2+p[1]*x+p[2]# Función con la que queremos ajustar la data\n",
    "p0 = [1, 1, 1] # Parámetros iniciales para ajustar"
   ]
  },
  {
   "cell_type": "code",
   "execution_count": null,
   "metadata": {
    "colab": {
     "base_uri": "https://localhost:8080/",
     "height": 465
    },
    "executionInfo": {
     "elapsed": 451,
     "status": "ok",
     "timestamp": 1737382156139,
     "user": {
      "displayName": "Jorge Castellanos",
      "userId": "03164686543966604211"
     },
     "user_tz": 300
    },
    "id": "alDUdQQk3v25",
    "outputId": "37149d96-bd73-4a21-ff7a-774b9c216cf8"
   },
   "outputs": [
    {
     "data": {
      "text/plain": [
       "[<matplotlib.lines.Line2D at 0x79d44ca02e90>,\n",
       " <matplotlib.lines.Line2D at 0x79d44ca1ee10>]"
      ]
     },
     "execution_count": 49,
     "metadata": {},
     "output_type": "execute_result"
    },
    {
     "data": {
      "image/png": "[encoded data removed]",
      "text/plain": [
       "<Figure size 640x480 with 1 Axes>"
      ]
     },
     "metadata": {},
     "output_type": "display_data"
    }
   ],
   "source": [
    "errfunc = lambda p, x, y: fitfunc(p, x) - y # Distancia a la función objetivo\n",
    "p1, success = optimize.leastsq(errfunc, p0[:], args=(x, y))\n",
    "plt.plot(x, y, \"ro\", x, fitfunc(p1, x), \"k-\", linewidth=3) # Plot of the data and"
   ]
  },
  {
   "cell_type": "markdown",
   "metadata": {
    "id": "jP4raqQ_3v26"
   },
   "source": [
    "### Ajustando una ley de potencias (Scale-free networks)\n",
    "\n",
    "#### Generación de los datos\n",
    "\n",
    "Genera algunos datos con ruido para demostrar el procedimiento de ajuste. Los datos se generan con una amplitud de 10 y un índice de ley de potencia de -2,0. Observa que todos nuestros datos se comportan bien cuando se toma el logaritmo... puede que tengas que tener más cuidado con esto para datos reales."
   ]
  },
  {
   "cell_type": "code",
   "execution_count": null,
   "metadata": {
    "colab": {
     "base_uri": "https://localhost:8080/",
     "height": 430
    },
    "executionInfo": {
     "elapsed": 210,
     "status": "ok",
     "timestamp": 1737382757727,
     "user": {
      "displayName": "Jorge Castellanos",
      "userId": "03164686543966604211"
     },
     "user_tz": 300
    },
    "id": "4aq_wnuM3v27",
    "outputId": "81c35dc5-ef97-459b-faee-d4861c6e5805"
   },
   "outputs": [
    {
     "data": {
      "image/png": "[encoded data removed]",
      "text/plain": [
       "<Figure size 640x480 with 1 Axes>"
      ]
     },
     "metadata": {},
     "output_type": "display_data"
    }
   ],
   "source": [
    "# Define la función para calcular la función de ley de potencia.\n",
    "powerlaw = lambda x, amp, index: amp * (x**index)\n",
    "\n",
    "##########\n",
    "# Geneacion de puntos con ruido.\n",
    "##########\n",
    "num_points = 20\n",
    "\n",
    "# Nota: Todos son positivos y ninguno en cero\n",
    "xdata = np.linspace(1.1, 10.1, num_points)\n",
    "ydata = powerlaw(xdata, 10.0, -2.0)     # Simulación de datos ajustados\n",
    "yerr = 0.2 * ydata                      # Error simulado de (10%)\n",
    "\n",
    "ydata += np.random.randn(num_points) * yerr       # Ruido simulado\n",
    "\n",
    "plt.plot(xdata,ydata)\n",
    "plt.errorbar(xdata, ydata, yerr=yerr, fmt='k.')\n",
    "plt.show()"
   ]
  }
 ],
 "metadata": {
  "colab": {
   "provenance": [
    {
     "file_id": "1D4pLCHWnsmgGBht6VL7W34KlWakh5ImP",
     "timestamp": 1737037271449
    }
   ]
  },
  "kernelspec": {
   "display_name": "python39",
   "language": "python",
   "name": "python3"
  },
  "language_info": {
   "codemirror_mode": {
    "name": "ipython",
    "version": 3
   },
   "file_extension": ".py",
   "mimetype": "text/x-python",
   "name": "python",
   "nbconvert_exporter": "python",
   "pygments_lexer": "ipython3",
   "version": "3.9.19"
  }
 },
 "nbformat": 4,
 "nbformat_minor": 0
}
