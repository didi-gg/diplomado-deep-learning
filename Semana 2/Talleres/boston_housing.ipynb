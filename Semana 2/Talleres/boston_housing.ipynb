{
 "cells": [
  {
   "cell_type": "markdown",
   "id": "c2251abf",
   "metadata": {},
   "source": [
    "# Preprocesamiento de datos Boston Housing"
   ]
  },
  {
   "cell_type": "code",
   "execution_count": 1,
   "id": "c12b4251",
   "metadata": {},
   "outputs": [],
   "source": [
    "import sys\n",
    "import os\n",
    "import pandas as pd\n",
    "import numpy as np\n",
    "\n",
    "current_dir = os.path.dirname(os.path.abspath('__file__'))\n",
    "project_root = os.path.abspath(os.path.join(current_dir, '..', '..'))\n",
    "if project_root not in sys.path:\n",
    "    sys.path.append(project_root)\n",
    "\n",
    "from preprocess_data import Preprocesador"
   ]
  },
  {
   "cell_type": "code",
   "execution_count": 2,
   "id": "d54f63b1",
   "metadata": {},
   "outputs": [
    {
     "name": "stdout",
     "output_type": "stream",
     "text": [
      "<class 'pandas.core.frame.DataFrame'>\n",
      "RangeIndex: 150 entries, 0 to 149\n",
      "Data columns (total 5 columns):\n",
      " #   Column             Non-Null Count  Dtype  \n",
      "---  ------             --------------  -----  \n",
      " 0   sepal length (cm)  150 non-null    float64\n",
      " 1   sepal width (cm)   150 non-null    float64\n",
      " 2   petal length (cm)  150 non-null    float64\n",
      " 3   petal width (cm)   150 non-null    float64\n",
      " 4   target             150 non-null    int64  \n",
      "dtypes: float64(4), int64(1)\n",
      "memory usage: 6.0 KB\n"
     ]
    }
   ],
   "source": [
    "# Carga el toy dataset iris de sklearn\n",
    "from sklearn.datasets import load_iris\n",
    "iris = load_iris()\n",
    "# Convierte el dataset a un DataFrame de pandas\n",
    "iris_df = pd.DataFrame(data=iris.data, columns=iris.feature_names)\n",
    "# Añade la columna de etiquetas\n",
    "iris_df['target'] = iris.target\n",
    "\n",
    "iris_df.info()"
   ]
  },
  {
   "cell_type": "code",
   "execution_count": 3,
   "id": "03783956",
   "metadata": {},
   "outputs": [
    {
     "name": "stdout",
     "output_type": "stream",
     "text": [
      "<class 'pandas.core.frame.DataFrame'>\n",
      "RangeIndex: 150 entries, 0 to 149\n",
      "Data columns (total 5 columns):\n",
      " #   Column             Non-Null Count  Dtype  \n",
      "---  ------             --------------  -----  \n",
      " 0   sepal length (cm)  150 non-null    float64\n",
      " 1   sepal width (cm)   150 non-null    float64\n",
      " 2   petal length (cm)  150 non-null    float64\n",
      " 3   petal width (cm)   150 non-null    float64\n",
      " 4   target             150 non-null    int64  \n",
      "dtypes: float64(4), int64(1)\n",
      "memory usage: 6.0 KB\n"
     ]
    }
   ],
   "source": [
    "iris_df.info()"
   ]
  },
  {
   "cell_type": "code",
   "execution_count": 4,
   "id": "767d1b5a",
   "metadata": {},
   "outputs": [],
   "source": [
    "data_url = \"https://raw.githubusercontent.com/selva86/datasets/master/BostonHousing.csv\"\n",
    "df_boston = pd.read_csv(data_url)"
   ]
  },
  {
   "cell_type": "code",
   "execution_count": 5,
   "id": "c80b0ea5",
   "metadata": {},
   "outputs": [],
   "source": [
    "data_preprocessor = Preprocesador(df_boston, 'medv')"
   ]
  },
  {
   "cell_type": "markdown",
   "id": "cdede7e0",
   "metadata": {},
   "source": [
    "## 1. Exploración de los datos"
   ]
  },
  {
   "cell_type": "code",
   "execution_count": 6,
   "id": "916bd65c",
   "metadata": {},
   "outputs": [
    {
     "data": {
      "text/html": [
       "<pre style=\"white-space:pre;overflow-x:auto;line-height:normal;font-family:Menlo,'DejaVu Sans Mono',consolas,'Courier New',monospace\">\n",
       "<span style=\"color: #008080; text-decoration-color: #008080; font-weight: bold\"> Primeras filas del dataset:</span>\n",
       "</pre>\n"
      ],
      "text/plain": [
       "\n",
       "\u001b[1;36m Primeras filas del dataset:\u001b[0m\n"
      ]
     },
     "metadata": {},
     "output_type": "display_data"
    },
    {
     "name": "stdout",
     "output_type": "stream",
     "text": [
      "+---+---------+------+-------+------+-------+-------+------+--------+-----+-------+---------+--------+-------+------+\n",
      "|   |  crim   |  zn  | indus | chas |  nox  |  rm   | age  |  dis   | rad |  tax  | ptratio |   b    | lstat | medv |\n",
      "+---+---------+------+-------+------+-------+-------+------+--------+-----+-------+---------+--------+-------+------+\n",
      "| 0 | 0.00632 | 18.0 | 2.31  | 0.0  | 0.538 | 6.575 | 65.2 |  4.09  | 1.0 | 296.0 |  15.3   | 396.9  | 4.98  | 24.0 |\n",
      "| 1 | 0.02731 | 0.0  | 7.07  | 0.0  | 0.469 | 6.421 | 78.9 | 4.9671 | 2.0 | 242.0 |  17.8   | 396.9  | 9.14  | 21.6 |\n",
      "| 2 | 0.02729 | 0.0  | 7.07  | 0.0  | 0.469 | 7.185 | 61.1 | 4.9671 | 2.0 | 242.0 |  17.8   | 392.83 | 4.03  | 34.7 |\n",
      "| 3 | 0.03237 | 0.0  | 2.18  | 0.0  | 0.458 | 6.998 | 45.8 | 6.0622 | 3.0 | 222.0 |  18.7   | 394.63 | 2.94  | 33.4 |\n",
      "| 4 | 0.06905 | 0.0  | 2.18  | 0.0  | 0.458 | 7.147 | 54.2 | 6.0622 | 3.0 | 222.0 |  18.7   | 396.9  | 5.33  | 36.2 |\n",
      "+---+---------+------+-------+------+-------+-------+------+--------+-----+-------+---------+--------+-------+------+\n"
     ]
    },
    {
     "data": {
      "text/html": [
       "<pre style=\"white-space:pre;overflow-x:auto;line-height:normal;font-family:Menlo,'DejaVu Sans Mono',consolas,'Courier New',monospace\">\n",
       "<span style=\"color: #008080; text-decoration-color: #008080; font-weight: bold\"> Info del dataset:</span>\n",
       "</pre>\n"
      ],
      "text/plain": [
       "\n",
       "\u001b[1;36m Info del dataset:\u001b[0m\n"
      ]
     },
     "metadata": {},
     "output_type": "display_data"
    },
    {
     "name": "stdout",
     "output_type": "stream",
     "text": [
      "<class 'pandas.core.frame.DataFrame'>\n",
      "RangeIndex: 506 entries, 0 to 505\n",
      "Data columns (total 14 columns):\n",
      " #   Column   Non-Null Count  Dtype  \n",
      "---  ------   --------------  -----  \n",
      " 0   crim     506 non-null    float64\n",
      " 1   zn       506 non-null    float64\n",
      " 2   indus    506 non-null    float64\n",
      " 3   chas     506 non-null    int64  \n",
      " 4   nox      506 non-null    float64\n",
      " 5   rm       506 non-null    float64\n",
      " 6   age      506 non-null    float64\n",
      " 7   dis      506 non-null    float64\n",
      " 8   rad      506 non-null    int64  \n",
      " 9   tax      506 non-null    int64  \n",
      " 10  ptratio  506 non-null    float64\n",
      " 11  b        506 non-null    float64\n",
      " 12  lstat    506 non-null    float64\n",
      " 13  medv     506 non-null    float64\n",
      "dtypes: float64(11), int64(3)\n",
      "memory usage: 55.5 KB\n",
      "\n"
     ]
    },
    {
     "data": {
      "text/html": [
       "<pre style=\"white-space:pre;overflow-x:auto;line-height:normal;font-family:Menlo,'DejaVu Sans Mono',consolas,'Courier New',monospace\">\n",
       "<span style=\"color: #008080; text-decoration-color: #008080; font-weight: bold\"> Estadísticas descriptivas:</span>\n",
       "</pre>\n"
      ],
      "text/plain": [
       "\n",
       "\u001b[1;36m Estadísticas descriptivas:\u001b[0m\n"
      ]
     },
     "metadata": {},
     "output_type": "display_data"
    },
    {
     "name": "stdout",
     "output_type": "stream",
     "text": [
      "+-------+---------------------+--------------------+-------------------+---------------------+---------------------+--------------------+--------------------+--------------------+-------------------+--------------------+--------------------+-------------------+--------------------+--------------------+\n",
      "|       |        crim         |         zn         |       indus       |        chas         |         nox         |         rm         |        age         |        dis         |        rad        |        tax         |      ptratio       |         b         |       lstat        |        medv        |\n",
      "+-------+---------------------+--------------------+-------------------+---------------------+---------------------+--------------------+--------------------+--------------------+-------------------+--------------------+--------------------+-------------------+--------------------+--------------------+\n",
      "| count |        506.0        |       506.0        |       506.0       |        506.0        |        506.0        |       506.0        |       506.0        |       506.0        |       506.0       |       506.0        |       506.0        |       506.0       |       506.0        |       506.0        |\n",
      "| mean  |  3.613523557312254  | 11.363636363636363 | 11.13677865612648 | 0.0691699604743083  | 0.5546950592885376  | 6.284634387351779  | 68.57490118577076  | 3.795042687747036  | 9.549407114624506 | 408.2371541501976  | 18.455533596837945 | 356.6740316205534 | 12.653063241106722 | 22.532806324110677 |\n",
      "|  std  |  8.60154510533249   | 23.32245299451514  | 6.860352940897585 | 0.25399404134041037 | 0.11587767566755595 | 0.7026171434153233 | 28.148861406903617 | 2.105710126627611  | 8.707259384239366 | 168.53711605495903 | 2.1649455237144406 | 91.29486438415783 | 7.141061511348571  | 9.197104087379818  |\n",
      "|  min  |       0.00632       |        0.0         |       0.46        |         0.0         |        0.385        |       3.561        |        2.9         |       1.1296       |        1.0        |       187.0        |        12.6        |       0.32        |        1.73        |        5.0         |\n",
      "|  25%  | 0.08204499999999999 |        0.0         |       5.19        |         0.0         |        0.449        | 5.8854999999999995 |       45.025       |      2.100175      |        4.0        |       279.0        |        17.4        |     375.3775      | 6.949999999999999  |       17.025       |\n",
      "|  50%  |       0.25651       |        0.0         |       9.69        |         0.0         |        0.538        |       6.2085       |        77.5        | 3.2074499999999997 |        5.0        |       330.0        |       19.05        |      391.44       |       11.36        |        21.2        |\n",
      "|  75%  |      3.6770825      |        12.5        |       18.1        |         0.0         |        0.624        |       6.6235       | 94.07499999999999  | 5.1884250000000005 |       24.0        |       666.0        |        20.2        |      396.225      | 16.955000000000002 |        25.0        |\n",
      "|  max  |       88.9762       |       100.0        |       27.74       |         1.0         |        0.871        |        8.78        |       100.0        |      12.1265       |       24.0        |       711.0        |        22.0        |       396.9       |       37.97        |        50.0        |\n",
      "+-------+---------------------+--------------------+-------------------+---------------------+---------------------+--------------------+--------------------+--------------------+-------------------+--------------------+--------------------+-------------------+--------------------+--------------------+\n"
     ]
    },
    {
     "data": {
      "text/html": [
       "<pre style=\"white-space:pre;overflow-x:auto;line-height:normal;font-family:Menlo,'DejaVu Sans Mono',consolas,'Courier New',monospace\">\n",
       "<span style=\"color: #008080; text-decoration-color: #008080; font-weight: bold\"> Valores nulos por columna:</span>\n",
       "</pre>\n"
      ],
      "text/plain": [
       "\n",
       "\u001b[1;36m Valores nulos por columna:\u001b[0m\n"
      ]
     },
     "metadata": {},
     "output_type": "display_data"
    },
    {
     "name": "stdout",
     "output_type": "stream",
     "text": [
      "+---------+---------------+\n",
      "|         | Valores nulos |\n",
      "+---------+---------------+\n",
      "|  crim   |       0       |\n",
      "|   zn    |       0       |\n",
      "|  indus  |       0       |\n",
      "|  chas   |       0       |\n",
      "|   nox   |       0       |\n",
      "|   rm    |       0       |\n",
      "|   age   |       0       |\n",
      "|   dis   |       0       |\n",
      "|   rad   |       0       |\n",
      "|   tax   |       0       |\n",
      "| ptratio |       0       |\n",
      "|    b    |       0       |\n",
      "|  lstat  |       0       |\n",
      "|  medv   |       0       |\n",
      "+---------+---------------+\n"
     ]
    },
    {
     "data": {
      "text/html": [
       "<pre style=\"white-space:pre;overflow-x:auto;line-height:normal;font-family:Menlo,'DejaVu Sans Mono',consolas,'Courier New',monospace\">\n",
       "<span style=\"color: #008080; text-decoration-color: #008080; font-weight: bold\"> Valores duplicados:</span>\n",
       "</pre>\n"
      ],
      "text/plain": [
       "\n",
       "\u001b[1;36m Valores duplicados:\u001b[0m\n"
      ]
     },
     "metadata": {},
     "output_type": "display_data"
    },
    {
     "name": "stdout",
     "output_type": "stream",
     "text": [
      "Duplicados: 0\n"
     ]
    },
    {
     "data": {
      "image/png": "[encoded data removed]",
      "text/plain": [
       "<Figure size 1000x400 with 1 Axes>"
      ]
     },
     "metadata": {},
     "output_type": "display_data"
    },
    {
     "data": {
      "text/html": [
       "<pre style=\"white-space:pre;overflow-x:auto;line-height:normal;font-family:Menlo,'DejaVu Sans Mono',consolas,'Courier New',monospace\">\n",
       "<span style=\"color: #808000; text-decoration-color: #808000; font-weight: bold\"> Columnas categóricas:</span>\n",
       "</pre>\n"
      ],
      "text/plain": [
       "\n",
       "\u001b[1;33m Columnas categóricas:\u001b[0m\n"
      ]
     },
     "metadata": {},
     "output_type": "display_data"
    },
    {
     "name": "stdout",
     "output_type": "stream",
     "text": [
      "[]\n"
     ]
    },
    {
     "data": {
      "text/html": [
       "<pre style=\"white-space:pre;overflow-x:auto;line-height:normal;font-family:Menlo,'DejaVu Sans Mono',consolas,'Courier New',monospace\">\n",
       "<span style=\"color: #008000; text-decoration-color: #008000; font-weight: bold\"> Columnas numéricas:</span>\n",
       "</pre>\n"
      ],
      "text/plain": [
       "\n",
       "\u001b[1;32m Columnas numéricas:\u001b[0m\n"
      ]
     },
     "metadata": {},
     "output_type": "display_data"
    },
    {
     "name": "stdout",
     "output_type": "stream",
     "text": [
      "['crim', 'zn', 'indus', 'chas', 'nox', 'rm', 'age', 'dis', 'rad', 'tax', 'ptratio', 'b', 'lstat']\n"
     ]
    },
    {
     "data": {
      "image/png": "[encoded data removed]",
      "text/plain": [
       "<Figure size 1500x1000 with 16 Axes>"
      ]
     },
     "metadata": {},
     "output_type": "display_data"
    },
    {
     "data": {
      "text/html": [
       "<pre style=\"white-space:pre;overflow-x:auto;line-height:normal;font-family:Menlo,'DejaVu Sans Mono',consolas,'Courier New',monospace\">\n",
       "<span style=\"color: #008080; text-decoration-color: #008080; font-weight: bold\"> Outliers detectados por z-score (&gt;</span><span style=\"color: #008080; text-decoration-color: #008080; font-weight: bold\">3</span><span style=\"color: #008080; text-decoration-color: #008080; font-weight: bold\">):</span>\n",
       "</pre>\n"
      ],
      "text/plain": [
       "\n",
       "\u001b[1;36m Outliers detectados por z-score \u001b[0m\u001b[1;36m(\u001b[0m\u001b[1;36m>\u001b[0m\u001b[1;36m3\u001b[0m\u001b[1;36m)\u001b[0m\u001b[1;36m:\u001b[0m\n"
      ]
     },
     "metadata": {},
     "output_type": "display_data"
    },
    {
     "name": "stdout",
     "output_type": "stream",
     "text": [
      "+---------+----------------+\n",
      "|         | Outliers (z>3) |\n",
      "+---------+----------------+\n",
      "|  crim   |       8        |\n",
      "|   zn    |       14       |\n",
      "|  indus  |       0        |\n",
      "|  chas   |       35       |\n",
      "|   nox   |       0        |\n",
      "|   rm    |       8        |\n",
      "|   age   |       0        |\n",
      "|   dis   |       5        |\n",
      "|   rad   |       0        |\n",
      "|   tax   |       0        |\n",
      "| ptratio |       0        |\n",
      "|    b    |       25       |\n",
      "|  lstat  |       5        |\n",
      "+---------+----------------+\n"
     ]
    },
    {
     "data": {
      "image/png": "[encoded data removed]",
      "text/plain": [
       "<Figure size 1500x1000 with 16 Axes>"
      ]
     },
     "metadata": {},
     "output_type": "display_data"
    }
   ],
   "source": [
    "data_preprocessor.explorar_datos()"
   ]
  },
  {
   "cell_type": "code",
   "execution_count": 7,
   "id": "ac8f173c",
   "metadata": {},
   "outputs": [
    {
     "data": {
      "text/html": [
       "<pre style=\"white-space:pre;overflow-x:auto;line-height:normal;font-family:Menlo,'DejaVu Sans Mono',consolas,'Courier New',monospace\">\n",
       "<span style=\"color: #808000; text-decoration-color: #808000; font-weight: bold\"> Columnas categóricas:</span>\n",
       "</pre>\n"
      ],
      "text/plain": [
       "\n",
       "\u001b[1;33m Columnas categóricas:\u001b[0m\n"
      ]
     },
     "metadata": {},
     "output_type": "display_data"
    },
    {
     "name": "stdout",
     "output_type": "stream",
     "text": [
      "[]\n"
     ]
    },
    {
     "data": {
      "text/html": [
       "<pre style=\"white-space:pre;overflow-x:auto;line-height:normal;font-family:Menlo,'DejaVu Sans Mono',consolas,'Courier New',monospace\">\n",
       "<span style=\"color: #008000; text-decoration-color: #008000; font-weight: bold\"> Columnas numéricas:</span>\n",
       "</pre>\n"
      ],
      "text/plain": [
       "\n",
       "\u001b[1;32m Columnas numéricas:\u001b[0m\n"
      ]
     },
     "metadata": {},
     "output_type": "display_data"
    },
    {
     "name": "stdout",
     "output_type": "stream",
     "text": [
      "['crim', 'zn', 'indus', 'chas', 'nox', 'rm', 'age', 'dis', 'rad', 'tax', 'ptratio', 'b', 'lstat']\n"
     ]
    }
   ],
   "source": [
    "col_categoricas, columnas_numericas = data_preprocessor.obtener_tipos_columnas()"
   ]
  },
  {
   "cell_type": "markdown",
   "id": "eed5ed10",
   "metadata": {},
   "source": [
    "## 2. Limpieza\n",
    "\n",
    "No hay valores nulos pero si valores atípicos"
   ]
  },
  {
   "cell_type": "code",
   "execution_count": 8,
   "id": "51a2884d",
   "metadata": {},
   "outputs": [
    {
     "data": {
      "text/html": [
       "<pre style=\"white-space:pre;overflow-x:auto;line-height:normal;font-family:Menlo,'DejaVu Sans Mono',consolas,'Courier New',monospace\">\n",
       "<span style=\"color: #800080; text-decoration-color: #800080; font-weight: bold\"> Outliers en </span><span style=\"color: #800080; text-decoration-color: #800080; font-weight: bold\">'zn'</span><span style=\"color: #800080; text-decoration-color: #800080; font-weight: bold\">: </span><span style=\"color: #800080; text-decoration-color: #800080; font-weight: bold\">68</span><span style=\"color: #800080; text-decoration-color: #800080; font-weight: bold\"> reemplazados por </span><span style=\"color: #800080; text-decoration-color: #800080; font-weight: bold\">0.0</span>\n",
       "</pre>\n"
      ],
      "text/plain": [
       "\n",
       "\u001b[1;35m Outliers en \u001b[0m\u001b[1;35m'zn'\u001b[0m\u001b[1;35m: \u001b[0m\u001b[1;35m68\u001b[0m\u001b[1;35m reemplazados por \u001b[0m\u001b[1;35m0.0\u001b[0m\n"
      ]
     },
     "metadata": {},
     "output_type": "display_data"
    },
    {
     "data": {
      "text/html": [
       "<pre style=\"white-space:pre;overflow-x:auto;line-height:normal;font-family:Menlo,'DejaVu Sans Mono',consolas,'Courier New',monospace\"> Valores fuera de rango: <span style=\"font-weight: bold\">[</span> <span style=\"color: #008080; text-decoration-color: #008080; font-weight: bold\">75</span>.   <span style=\"color: #008080; text-decoration-color: #008080; font-weight: bold\">75</span>.   <span style=\"color: #008080; text-decoration-color: #008080; font-weight: bold\">75</span>.   <span style=\"color: #008080; text-decoration-color: #008080; font-weight: bold\">90</span>.   <span style=\"color: #008080; text-decoration-color: #008080; font-weight: bold\">85</span>.  <span style=\"color: #008080; text-decoration-color: #008080; font-weight: bold\">100</span>.   <span style=\"color: #008080; text-decoration-color: #008080; font-weight: bold\">80</span>.   <span style=\"color: #008080; text-decoration-color: #008080; font-weight: bold\">80</span>.   <span style=\"color: #008080; text-decoration-color: #008080; font-weight: bold\">45</span>.   <span style=\"color: #008080; text-decoration-color: #008080; font-weight: bold\">45</span>.   <span style=\"color: #008080; text-decoration-color: #008080; font-weight: bold\">45</span>.   <span style=\"color: #008080; text-decoration-color: #008080; font-weight: bold\">45</span>.\n",
       "  <span style=\"color: #008080; text-decoration-color: #008080; font-weight: bold\">45</span>.   <span style=\"color: #008080; text-decoration-color: #008080; font-weight: bold\">45</span>.   <span style=\"color: #008080; text-decoration-color: #008080; font-weight: bold\">60</span>.   <span style=\"color: #008080; text-decoration-color: #008080; font-weight: bold\">60</span>.   <span style=\"color: #008080; text-decoration-color: #008080; font-weight: bold\">80</span>.   <span style=\"color: #008080; text-decoration-color: #008080; font-weight: bold\">80</span>.   <span style=\"color: #008080; text-decoration-color: #008080; font-weight: bold\">80</span>.   <span style=\"color: #008080; text-decoration-color: #008080; font-weight: bold\">80</span>.   <span style=\"color: #008080; text-decoration-color: #008080; font-weight: bold\">95</span>.   <span style=\"color: #008080; text-decoration-color: #008080; font-weight: bold\">95</span>.   <span style=\"color: #008080; text-decoration-color: #008080; font-weight: bold\">82.5</span>  <span style=\"color: #008080; text-decoration-color: #008080; font-weight: bold\">82.5</span>\n",
       "  <span style=\"color: #008080; text-decoration-color: #008080; font-weight: bold\">95</span>.   <span style=\"color: #008080; text-decoration-color: #008080; font-weight: bold\">95</span>.   <span style=\"color: #008080; text-decoration-color: #008080; font-weight: bold\">80</span>.   <span style=\"color: #008080; text-decoration-color: #008080; font-weight: bold\">80</span>.   <span style=\"color: #008080; text-decoration-color: #008080; font-weight: bold\">90</span>.   <span style=\"color: #008080; text-decoration-color: #008080; font-weight: bold\">40</span>.   <span style=\"color: #008080; text-decoration-color: #008080; font-weight: bold\">40</span>.   <span style=\"color: #008080; text-decoration-color: #008080; font-weight: bold\">40</span>.   <span style=\"color: #008080; text-decoration-color: #008080; font-weight: bold\">40</span>.   <span style=\"color: #008080; text-decoration-color: #008080; font-weight: bold\">40</span>.   <span style=\"color: #008080; text-decoration-color: #008080; font-weight: bold\">90</span>.   <span style=\"color: #008080; text-decoration-color: #008080; font-weight: bold\">90</span>.\n",
       "  <span style=\"color: #008080; text-decoration-color: #008080; font-weight: bold\">55</span>.   <span style=\"color: #008080; text-decoration-color: #008080; font-weight: bold\">80</span>.   <span style=\"color: #008080; text-decoration-color: #008080; font-weight: bold\">52.5</span>  <span style=\"color: #008080; text-decoration-color: #008080; font-weight: bold\">52.5</span>  <span style=\"color: #008080; text-decoration-color: #008080; font-weight: bold\">52.5</span>  <span style=\"color: #008080; text-decoration-color: #008080; font-weight: bold\">80</span>.   <span style=\"color: #008080; text-decoration-color: #008080; font-weight: bold\">80</span>.   <span style=\"color: #008080; text-decoration-color: #008080; font-weight: bold\">80</span>.   <span style=\"color: #008080; text-decoration-color: #008080; font-weight: bold\">70</span>.   <span style=\"color: #008080; text-decoration-color: #008080; font-weight: bold\">70</span>.   <span style=\"color: #008080; text-decoration-color: #008080; font-weight: bold\">70</span>.   <span style=\"color: #008080; text-decoration-color: #008080; font-weight: bold\">34</span>.\n",
       "  <span style=\"color: #008080; text-decoration-color: #008080; font-weight: bold\">34</span>.   <span style=\"color: #008080; text-decoration-color: #008080; font-weight: bold\">34</span>.   <span style=\"color: #008080; text-decoration-color: #008080; font-weight: bold\">33</span>.   <span style=\"color: #008080; text-decoration-color: #008080; font-weight: bold\">33</span>.   <span style=\"color: #008080; text-decoration-color: #008080; font-weight: bold\">33</span>.   <span style=\"color: #008080; text-decoration-color: #008080; font-weight: bold\">33</span>.   <span style=\"color: #008080; text-decoration-color: #008080; font-weight: bold\">35</span>.   <span style=\"color: #008080; text-decoration-color: #008080; font-weight: bold\">35</span>.   <span style=\"color: #008080; text-decoration-color: #008080; font-weight: bold\">35</span>.   <span style=\"color: #008080; text-decoration-color: #008080; font-weight: bold\">55</span>.   <span style=\"color: #008080; text-decoration-color: #008080; font-weight: bold\">55</span>.   <span style=\"color: #008080; text-decoration-color: #008080; font-weight: bold\">85</span>.\n",
       "  <span style=\"color: #008080; text-decoration-color: #008080; font-weight: bold\">80</span>.   <span style=\"color: #008080; text-decoration-color: #008080; font-weight: bold\">40</span>.   <span style=\"color: #008080; text-decoration-color: #008080; font-weight: bold\">40</span>.   <span style=\"color: #008080; text-decoration-color: #008080; font-weight: bold\">60</span>.   <span style=\"color: #008080; text-decoration-color: #008080; font-weight: bold\">60</span>.   <span style=\"color: #008080; text-decoration-color: #008080; font-weight: bold\">90</span>.   <span style=\"color: #008080; text-decoration-color: #008080; font-weight: bold\">80</span>.   <span style=\"color: #008080; text-decoration-color: #008080; font-weight: bold\">80</span>. <span style=\"font-weight: bold\">]</span>\n",
       "</pre>\n"
      ],
      "text/plain": [
       " Valores fuera de rango: \u001b[1m[\u001b[0m \u001b[1;36m75\u001b[0m.   \u001b[1;36m75\u001b[0m.   \u001b[1;36m75\u001b[0m.   \u001b[1;36m90\u001b[0m.   \u001b[1;36m85\u001b[0m.  \u001b[1;36m100\u001b[0m.   \u001b[1;36m80\u001b[0m.   \u001b[1;36m80\u001b[0m.   \u001b[1;36m45\u001b[0m.   \u001b[1;36m45\u001b[0m.   \u001b[1;36m45\u001b[0m.   \u001b[1;36m45\u001b[0m.\n",
       "  \u001b[1;36m45\u001b[0m.   \u001b[1;36m45\u001b[0m.   \u001b[1;36m60\u001b[0m.   \u001b[1;36m60\u001b[0m.   \u001b[1;36m80\u001b[0m.   \u001b[1;36m80\u001b[0m.   \u001b[1;36m80\u001b[0m.   \u001b[1;36m80\u001b[0m.   \u001b[1;36m95\u001b[0m.   \u001b[1;36m95\u001b[0m.   \u001b[1;36m82.5\u001b[0m  \u001b[1;36m82.5\u001b[0m\n",
       "  \u001b[1;36m95\u001b[0m.   \u001b[1;36m95\u001b[0m.   \u001b[1;36m80\u001b[0m.   \u001b[1;36m80\u001b[0m.   \u001b[1;36m90\u001b[0m.   \u001b[1;36m40\u001b[0m.   \u001b[1;36m40\u001b[0m.   \u001b[1;36m40\u001b[0m.   \u001b[1;36m40\u001b[0m.   \u001b[1;36m40\u001b[0m.   \u001b[1;36m90\u001b[0m.   \u001b[1;36m90\u001b[0m.\n",
       "  \u001b[1;36m55\u001b[0m.   \u001b[1;36m80\u001b[0m.   \u001b[1;36m52.5\u001b[0m  \u001b[1;36m52.5\u001b[0m  \u001b[1;36m52.5\u001b[0m  \u001b[1;36m80\u001b[0m.   \u001b[1;36m80\u001b[0m.   \u001b[1;36m80\u001b[0m.   \u001b[1;36m70\u001b[0m.   \u001b[1;36m70\u001b[0m.   \u001b[1;36m70\u001b[0m.   \u001b[1;36m34\u001b[0m.\n",
       "  \u001b[1;36m34\u001b[0m.   \u001b[1;36m34\u001b[0m.   \u001b[1;36m33\u001b[0m.   \u001b[1;36m33\u001b[0m.   \u001b[1;36m33\u001b[0m.   \u001b[1;36m33\u001b[0m.   \u001b[1;36m35\u001b[0m.   \u001b[1;36m35\u001b[0m.   \u001b[1;36m35\u001b[0m.   \u001b[1;36m55\u001b[0m.   \u001b[1;36m55\u001b[0m.   \u001b[1;36m85\u001b[0m.\n",
       "  \u001b[1;36m80\u001b[0m.   \u001b[1;36m40\u001b[0m.   \u001b[1;36m40\u001b[0m.   \u001b[1;36m60\u001b[0m.   \u001b[1;36m60\u001b[0m.   \u001b[1;36m90\u001b[0m.   \u001b[1;36m80\u001b[0m.   \u001b[1;36m80\u001b[0m. \u001b[1m]\u001b[0m\n"
      ]
     },
     "metadata": {},
     "output_type": "display_data"
    },
    {
     "name": "stdout",
     "output_type": "stream",
     "text": [
      "  Rango: [-18.75, 31.25]\n",
      "  Reemplazando outliers por mediana (0.0)\n"
     ]
    },
    {
     "data": {
      "text/html": [
       "<pre style=\"white-space:pre;overflow-x:auto;line-height:normal;font-family:Menlo,'DejaVu Sans Mono',consolas,'Courier New',monospace\">\n",
       "<span style=\"color: #800080; text-decoration-color: #800080; font-weight: bold\"> Outliers en </span><span style=\"color: #800080; text-decoration-color: #800080; font-weight: bold\">'chas'</span><span style=\"color: #800080; text-decoration-color: #800080; font-weight: bold\">: </span><span style=\"color: #800080; text-decoration-color: #800080; font-weight: bold\">35</span><span style=\"color: #800080; text-decoration-color: #800080; font-weight: bold\"> reemplazados por </span><span style=\"color: #800080; text-decoration-color: #800080; font-weight: bold\">0.0</span>\n",
       "</pre>\n"
      ],
      "text/plain": [
       "\n",
       "\u001b[1;35m Outliers en \u001b[0m\u001b[1;35m'chas'\u001b[0m\u001b[1;35m: \u001b[0m\u001b[1;35m35\u001b[0m\u001b[1;35m reemplazados por \u001b[0m\u001b[1;35m0.0\u001b[0m\n"
      ]
     },
     "metadata": {},
     "output_type": "display_data"
    },
    {
     "data": {
      "text/html": [
       "<pre style=\"white-space:pre;overflow-x:auto;line-height:normal;font-family:Menlo,'DejaVu Sans Mono',consolas,'Courier New',monospace\"> Valores fuera de rango: <span style=\"font-weight: bold\">[</span><span style=\"color: #008080; text-decoration-color: #008080; font-weight: bold\">1</span> <span style=\"color: #008080; text-decoration-color: #008080; font-weight: bold\">1</span> <span style=\"color: #008080; text-decoration-color: #008080; font-weight: bold\">1</span> <span style=\"color: #008080; text-decoration-color: #008080; font-weight: bold\">1</span> <span style=\"color: #008080; text-decoration-color: #008080; font-weight: bold\">1</span> <span style=\"color: #008080; text-decoration-color: #008080; font-weight: bold\">1</span> <span style=\"color: #008080; text-decoration-color: #008080; font-weight: bold\">1</span> <span style=\"color: #008080; text-decoration-color: #008080; font-weight: bold\">1</span> <span style=\"color: #008080; text-decoration-color: #008080; font-weight: bold\">1</span> <span style=\"color: #008080; text-decoration-color: #008080; font-weight: bold\">1</span> <span style=\"color: #008080; text-decoration-color: #008080; font-weight: bold\">1</span> <span style=\"color: #008080; text-decoration-color: #008080; font-weight: bold\">1</span> <span style=\"color: #008080; text-decoration-color: #008080; font-weight: bold\">1</span> <span style=\"color: #008080; text-decoration-color: #008080; font-weight: bold\">1</span> <span style=\"color: #008080; text-decoration-color: #008080; font-weight: bold\">1</span> <span style=\"color: #008080; text-decoration-color: #008080; font-weight: bold\">1</span> <span style=\"color: #008080; text-decoration-color: #008080; font-weight: bold\">1</span> <span style=\"color: #008080; text-decoration-color: #008080; font-weight: bold\">1</span> <span style=\"color: #008080; text-decoration-color: #008080; font-weight: bold\">1</span> <span style=\"color: #008080; text-decoration-color: #008080; font-weight: bold\">1</span> <span style=\"color: #008080; text-decoration-color: #008080; font-weight: bold\">1</span> <span style=\"color: #008080; text-decoration-color: #008080; font-weight: bold\">1</span> <span style=\"color: #008080; text-decoration-color: #008080; font-weight: bold\">1</span> <span style=\"color: #008080; text-decoration-color: #008080; font-weight: bold\">1</span> <span style=\"color: #008080; text-decoration-color: #008080; font-weight: bold\">1</span> <span style=\"color: #008080; text-decoration-color: #008080; font-weight: bold\">1</span> <span style=\"color: #008080; text-decoration-color: #008080; font-weight: bold\">1</span> <span style=\"color: #008080; text-decoration-color: #008080; font-weight: bold\">1</span> <span style=\"color: #008080; text-decoration-color: #008080; font-weight: bold\">1</span> <span style=\"color: #008080; text-decoration-color: #008080; font-weight: bold\">1</span> <span style=\"color: #008080; text-decoration-color: #008080; font-weight: bold\">1</span> <span style=\"color: #008080; text-decoration-color: #008080; font-weight: bold\">1</span> <span style=\"color: #008080; text-decoration-color: #008080; font-weight: bold\">1</span> <span style=\"color: #008080; text-decoration-color: #008080; font-weight: bold\">1</span> <span style=\"color: #008080; text-decoration-color: #008080; font-weight: bold\">1</span><span style=\"font-weight: bold\">]</span>\n",
       "</pre>\n"
      ],
      "text/plain": [
       " Valores fuera de rango: \u001b[1m[\u001b[0m\u001b[1;36m1\u001b[0m \u001b[1;36m1\u001b[0m \u001b[1;36m1\u001b[0m \u001b[1;36m1\u001b[0m \u001b[1;36m1\u001b[0m \u001b[1;36m1\u001b[0m \u001b[1;36m1\u001b[0m \u001b[1;36m1\u001b[0m \u001b[1;36m1\u001b[0m \u001b[1;36m1\u001b[0m \u001b[1;36m1\u001b[0m \u001b[1;36m1\u001b[0m \u001b[1;36m1\u001b[0m \u001b[1;36m1\u001b[0m \u001b[1;36m1\u001b[0m \u001b[1;36m1\u001b[0m \u001b[1;36m1\u001b[0m \u001b[1;36m1\u001b[0m \u001b[1;36m1\u001b[0m \u001b[1;36m1\u001b[0m \u001b[1;36m1\u001b[0m \u001b[1;36m1\u001b[0m \u001b[1;36m1\u001b[0m \u001b[1;36m1\u001b[0m \u001b[1;36m1\u001b[0m \u001b[1;36m1\u001b[0m \u001b[1;36m1\u001b[0m \u001b[1;36m1\u001b[0m \u001b[1;36m1\u001b[0m \u001b[1;36m1\u001b[0m \u001b[1;36m1\u001b[0m \u001b[1;36m1\u001b[0m \u001b[1;36m1\u001b[0m \u001b[1;36m1\u001b[0m \u001b[1;36m1\u001b[0m\u001b[1m]\u001b[0m\n"
      ]
     },
     "metadata": {},
     "output_type": "display_data"
    },
    {
     "name": "stdout",
     "output_type": "stream",
     "text": [
      "  Rango: [0.0, 0.0]\n",
      "  Reemplazando outliers por mediana (0.0)\n"
     ]
    },
    {
     "data": {
      "text/html": [
       "<pre style=\"white-space:pre;overflow-x:auto;line-height:normal;font-family:Menlo,'DejaVu Sans Mono',consolas,'Courier New',monospace\">\n",
       "<span style=\"color: #800080; text-decoration-color: #800080; font-weight: bold\"> Outliers en </span><span style=\"color: #800080; text-decoration-color: #800080; font-weight: bold\">'crim'</span><span style=\"color: #800080; text-decoration-color: #800080; font-weight: bold\">: </span><span style=\"color: #800080; text-decoration-color: #800080; font-weight: bold\">66</span><span style=\"color: #800080; text-decoration-color: #800080; font-weight: bold\"> reemplazados por </span><span style=\"color: #800080; text-decoration-color: #800080; font-weight: bold\">0.25651</span>\n",
       "</pre>\n"
      ],
      "text/plain": [
       "\n",
       "\u001b[1;35m Outliers en \u001b[0m\u001b[1;35m'crim'\u001b[0m\u001b[1;35m: \u001b[0m\u001b[1;35m66\u001b[0m\u001b[1;35m reemplazados por \u001b[0m\u001b[1;35m0.25651\u001b[0m\n"
      ]
     },
     "metadata": {},
     "output_type": "display_data"
    },
    {
     "data": {
      "text/html": [
       "<pre style=\"white-space:pre;overflow-x:auto;line-height:normal;font-family:Menlo,'DejaVu Sans Mono',consolas,'Courier New',monospace\"> Valores fuera de rango: <span style=\"font-weight: bold\">[</span><span style=\"color: #008080; text-decoration-color: #008080; font-weight: bold\">13.5222</span>   <span style=\"color: #008080; text-decoration-color: #008080; font-weight: bold\">9.2323</span>  <span style=\"color: #008080; text-decoration-color: #008080; font-weight: bold\">11.1081</span>  <span style=\"color: #008080; text-decoration-color: #008080; font-weight: bold\">18.4982</span>  <span style=\"color: #008080; text-decoration-color: #008080; font-weight: bold\">19.6091</span>  <span style=\"color: #008080; text-decoration-color: #008080; font-weight: bold\">15.288</span>    <span style=\"color: #008080; text-decoration-color: #008080; font-weight: bold\">9.82349</span> <span style=\"color: #008080; text-decoration-color: #008080; font-weight: bold\">23.6482</span>\n",
       " <span style=\"color: #008080; text-decoration-color: #008080; font-weight: bold\">17.8667</span>  <span style=\"color: #008080; text-decoration-color: #008080; font-weight: bold\">88.9762</span>  <span style=\"color: #008080; text-decoration-color: #008080; font-weight: bold\">15.8744</span>   <span style=\"color: #008080; text-decoration-color: #008080; font-weight: bold\">9.18702</span> <span style=\"color: #008080; text-decoration-color: #008080; font-weight: bold\">20.0849</span>  <span style=\"color: #008080; text-decoration-color: #008080; font-weight: bold\">16.8118</span>  <span style=\"color: #008080; text-decoration-color: #008080; font-weight: bold\">24.3938</span>  <span style=\"color: #008080; text-decoration-color: #008080; font-weight: bold\">22.5971</span>\n",
       " <span style=\"color: #008080; text-decoration-color: #008080; font-weight: bold\">14.3337</span>  <span style=\"color: #008080; text-decoration-color: #008080; font-weight: bold\">11.5779</span>  <span style=\"color: #008080; text-decoration-color: #008080; font-weight: bold\">13.3598</span>  <span style=\"color: #008080; text-decoration-color: #008080; font-weight: bold\">38.3518</span>   <span style=\"color: #008080; text-decoration-color: #008080; font-weight: bold\">9.91655</span> <span style=\"color: #008080; text-decoration-color: #008080; font-weight: bold\">25.0461</span>  <span style=\"color: #008080; text-decoration-color: #008080; font-weight: bold\">14.2362</span>   <span style=\"color: #008080; text-decoration-color: #008080; font-weight: bold\">9.59571</span>\n",
       " <span style=\"color: #008080; text-decoration-color: #008080; font-weight: bold\">24.8017</span>  <span style=\"color: #008080; text-decoration-color: #008080; font-weight: bold\">41.5292</span>  <span style=\"color: #008080; text-decoration-color: #008080; font-weight: bold\">67.9208</span>  <span style=\"color: #008080; text-decoration-color: #008080; font-weight: bold\">20.7162</span>  <span style=\"color: #008080; text-decoration-color: #008080; font-weight: bold\">11.9511</span>  <span style=\"color: #008080; text-decoration-color: #008080; font-weight: bold\">14.4383</span>  <span style=\"color: #008080; text-decoration-color: #008080; font-weight: bold\">51.1358</span>  <span style=\"color: #008080; text-decoration-color: #008080; font-weight: bold\">14.0507</span>\n",
       " <span style=\"color: #008080; text-decoration-color: #008080; font-weight: bold\">18.811</span>   <span style=\"color: #008080; text-decoration-color: #008080; font-weight: bold\">28.6558</span>  <span style=\"color: #008080; text-decoration-color: #008080; font-weight: bold\">45.7461</span>  <span style=\"color: #008080; text-decoration-color: #008080; font-weight: bold\">18.0846</span>  <span style=\"color: #008080; text-decoration-color: #008080; font-weight: bold\">10.8342</span>  <span style=\"color: #008080; text-decoration-color: #008080; font-weight: bold\">25.9406</span>  <span style=\"color: #008080; text-decoration-color: #008080; font-weight: bold\">73.5341</span>  <span style=\"color: #008080; text-decoration-color: #008080; font-weight: bold\">11.8123</span>\n",
       " <span style=\"color: #008080; text-decoration-color: #008080; font-weight: bold\">11.0874</span>  <span style=\"color: #008080; text-decoration-color: #008080; font-weight: bold\">12.0482</span>  <span style=\"color: #008080; text-decoration-color: #008080; font-weight: bold\">15.8603</span>  <span style=\"color: #008080; text-decoration-color: #008080; font-weight: bold\">12.2472</span>  <span style=\"color: #008080; text-decoration-color: #008080; font-weight: bold\">37.6619</span>   <span style=\"color: #008080; text-decoration-color: #008080; font-weight: bold\">9.33889</span> <span style=\"color: #008080; text-decoration-color: #008080; font-weight: bold\">10.0623</span>  <span style=\"color: #008080; text-decoration-color: #008080; font-weight: bold\">13.9134</span>\n",
       " <span style=\"color: #008080; text-decoration-color: #008080; font-weight: bold\">11.1604</span>  <span style=\"color: #008080; text-decoration-color: #008080; font-weight: bold\">14.4208</span>  <span style=\"color: #008080; text-decoration-color: #008080; font-weight: bold\">15.1772</span>  <span style=\"color: #008080; text-decoration-color: #008080; font-weight: bold\">13.6781</span>   <span style=\"color: #008080; text-decoration-color: #008080; font-weight: bold\">9.39063</span> <span style=\"color: #008080; text-decoration-color: #008080; font-weight: bold\">22.0511</span>   <span style=\"color: #008080; text-decoration-color: #008080; font-weight: bold\">9.72418</span>  <span style=\"color: #008080; text-decoration-color: #008080; font-weight: bold\">9.96654</span>\n",
       " <span style=\"color: #008080; text-decoration-color: #008080; font-weight: bold\">12.8023</span>  <span style=\"color: #008080; text-decoration-color: #008080; font-weight: bold\">10.6718</span>   <span style=\"color: #008080; text-decoration-color: #008080; font-weight: bold\">9.92485</span>  <span style=\"color: #008080; text-decoration-color: #008080; font-weight: bold\">9.32909</span>  <span style=\"color: #008080; text-decoration-color: #008080; font-weight: bold\">9.51363</span> <span style=\"color: #008080; text-decoration-color: #008080; font-weight: bold\">15.5757</span>  <span style=\"color: #008080; text-decoration-color: #008080; font-weight: bold\">13.0751</span>  <span style=\"color: #008080; text-decoration-color: #008080; font-weight: bold\">15.0234</span>\n",
       " <span style=\"color: #008080; text-decoration-color: #008080; font-weight: bold\">10.233</span>   <span style=\"color: #008080; text-decoration-color: #008080; font-weight: bold\">14.3337</span> <span style=\"font-weight: bold\">]</span>\n",
       "</pre>\n"
      ],
      "text/plain": [
       " Valores fuera de rango: \u001b[1m[\u001b[0m\u001b[1;36m13.5222\u001b[0m   \u001b[1;36m9.2323\u001b[0m  \u001b[1;36m11.1081\u001b[0m  \u001b[1;36m18.4982\u001b[0m  \u001b[1;36m19.6091\u001b[0m  \u001b[1;36m15.288\u001b[0m    \u001b[1;36m9.82349\u001b[0m \u001b[1;36m23.6482\u001b[0m\n",
       " \u001b[1;36m17.8667\u001b[0m  \u001b[1;36m88.9762\u001b[0m  \u001b[1;36m15.8744\u001b[0m   \u001b[1;36m9.18702\u001b[0m \u001b[1;36m20.0849\u001b[0m  \u001b[1;36m16.8118\u001b[0m  \u001b[1;36m24.3938\u001b[0m  \u001b[1;36m22.5971\u001b[0m\n",
       " \u001b[1;36m14.3337\u001b[0m  \u001b[1;36m11.5779\u001b[0m  \u001b[1;36m13.3598\u001b[0m  \u001b[1;36m38.3518\u001b[0m   \u001b[1;36m9.91655\u001b[0m \u001b[1;36m25.0461\u001b[0m  \u001b[1;36m14.2362\u001b[0m   \u001b[1;36m9.59571\u001b[0m\n",
       " \u001b[1;36m24.8017\u001b[0m  \u001b[1;36m41.5292\u001b[0m  \u001b[1;36m67.9208\u001b[0m  \u001b[1;36m20.7162\u001b[0m  \u001b[1;36m11.9511\u001b[0m  \u001b[1;36m14.4383\u001b[0m  \u001b[1;36m51.1358\u001b[0m  \u001b[1;36m14.0507\u001b[0m\n",
       " \u001b[1;36m18.811\u001b[0m   \u001b[1;36m28.6558\u001b[0m  \u001b[1;36m45.7461\u001b[0m  \u001b[1;36m18.0846\u001b[0m  \u001b[1;36m10.8342\u001b[0m  \u001b[1;36m25.9406\u001b[0m  \u001b[1;36m73.5341\u001b[0m  \u001b[1;36m11.8123\u001b[0m\n",
       " \u001b[1;36m11.0874\u001b[0m  \u001b[1;36m12.0482\u001b[0m  \u001b[1;36m15.8603\u001b[0m  \u001b[1;36m12.2472\u001b[0m  \u001b[1;36m37.6619\u001b[0m   \u001b[1;36m9.33889\u001b[0m \u001b[1;36m10.0623\u001b[0m  \u001b[1;36m13.9134\u001b[0m\n",
       " \u001b[1;36m11.1604\u001b[0m  \u001b[1;36m14.4208\u001b[0m  \u001b[1;36m15.1772\u001b[0m  \u001b[1;36m13.6781\u001b[0m   \u001b[1;36m9.39063\u001b[0m \u001b[1;36m22.0511\u001b[0m   \u001b[1;36m9.72418\u001b[0m  \u001b[1;36m9.96654\u001b[0m\n",
       " \u001b[1;36m12.8023\u001b[0m  \u001b[1;36m10.6718\u001b[0m   \u001b[1;36m9.92485\u001b[0m  \u001b[1;36m9.32909\u001b[0m  \u001b[1;36m9.51363\u001b[0m \u001b[1;36m15.5757\u001b[0m  \u001b[1;36m13.0751\u001b[0m  \u001b[1;36m15.0234\u001b[0m\n",
       " \u001b[1;36m10.233\u001b[0m   \u001b[1;36m14.3337\u001b[0m \u001b[1m]\u001b[0m\n"
      ]
     },
     "metadata": {},
     "output_type": "display_data"
    },
    {
     "name": "stdout",
     "output_type": "stream",
     "text": [
      "  Rango: [-5.31051125, 9.06963875]\n",
      "  Reemplazando outliers por mediana (0.25651)\n"
     ]
    },
    {
     "data": {
      "text/html": [
       "<pre style=\"white-space:pre;overflow-x:auto;line-height:normal;font-family:Menlo,'DejaVu Sans Mono',consolas,'Courier New',monospace\">\n",
       "<span style=\"color: #800080; text-decoration-color: #800080; font-weight: bold\"> Outliers en </span><span style=\"color: #800080; text-decoration-color: #800080; font-weight: bold\">'b'</span><span style=\"color: #800080; text-decoration-color: #800080; font-weight: bold\">: </span><span style=\"color: #800080; text-decoration-color: #800080; font-weight: bold\">77</span><span style=\"color: #800080; text-decoration-color: #800080; font-weight: bold\"> reemplazados por </span><span style=\"color: #800080; text-decoration-color: #800080; font-weight: bold\">391.44</span>\n",
       "</pre>\n"
      ],
      "text/plain": [
       "\n",
       "\u001b[1;35m Outliers en \u001b[0m\u001b[1;35m'b'\u001b[0m\u001b[1;35m: \u001b[0m\u001b[1;35m77\u001b[0m\u001b[1;35m reemplazados por \u001b[0m\u001b[1;35m391.44\u001b[0m\n"
      ]
     },
     "metadata": {},
     "output_type": "display_data"
    },
    {
     "data": {
      "text/html": [
       "<pre style=\"white-space:pre;overflow-x:auto;line-height:normal;font-family:Menlo,'DejaVu Sans Mono',consolas,'Courier New',monospace\"> Valores fuera de rango: <span style=\"font-weight: bold\">[</span><span style=\"color: #008080; text-decoration-color: #008080; font-weight: bold\">2.8899e+02</span> <span style=\"color: #008080; text-decoration-color: #008080; font-weight: bold\">3.0342e+02</span> <span style=\"color: #008080; text-decoration-color: #008080; font-weight: bold\">3.0638e+02</span> <span style=\"color: #008080; text-decoration-color: #008080; font-weight: bold\">2.3260e+02</span> <span style=\"color: #008080; text-decoration-color: #008080; font-weight: bold\">2.4831e+02</span> <span style=\"color: #008080; text-decoration-color: #008080; font-weight: bold\">7.0800e+01</span>\n",
       " <span style=\"color: #008080; text-decoration-color: #008080; font-weight: bold\">3.3863e+02</span> <span style=\"color: #008080; text-decoration-color: #008080; font-weight: bold\">2.6276e+02</span> <span style=\"color: #008080; text-decoration-color: #008080; font-weight: bold\">1.7291e+02</span> <span style=\"color: #008080; text-decoration-color: #008080; font-weight: bold\">1.6927e+02</span> <span style=\"color: #008080; text-decoration-color: #008080; font-weight: bold\">3.4160e+02</span> <span style=\"color: #008080; text-decoration-color: #008080; font-weight: bold\">3.4328e+02</span>\n",
       " <span style=\"color: #008080; text-decoration-color: #008080; font-weight: bold\">2.6195e+02</span> <span style=\"color: #008080; text-decoration-color: #008080; font-weight: bold\">3.2102e+02</span> <span style=\"color: #008080; text-decoration-color: #008080; font-weight: bold\">8.8010e+01</span> <span style=\"color: #008080; text-decoration-color: #008080; font-weight: bold\">8.8630e+01</span> <span style=\"color: #008080; text-decoration-color: #008080; font-weight: bold\">3.3892e+02</span> <span style=\"color: #008080; text-decoration-color: #008080; font-weight: bold\">2.4016e+02</span>\n",
       " <span style=\"color: #008080; text-decoration-color: #008080; font-weight: bold\">2.2761e+02</span> <span style=\"color: #008080; text-decoration-color: #008080; font-weight: bold\">2.9709e+02</span> <span style=\"color: #008080; text-decoration-color: #008080; font-weight: bold\">3.3004e+02</span> <span style=\"color: #008080; text-decoration-color: #008080; font-weight: bold\">2.9229e+02</span> <span style=\"color: #008080; text-decoration-color: #008080; font-weight: bold\">3.4160e+02</span> <span style=\"color: #008080; text-decoration-color: #008080; font-weight: bold\">3.1603e+02</span>\n",
       " <span style=\"color: #008080; text-decoration-color: #008080; font-weight: bold\">1.3142e+02</span> <span style=\"color: #008080; text-decoration-color: #008080; font-weight: bold\">2.8583e+02</span> <span style=\"color: #008080; text-decoration-color: #008080; font-weight: bold\">3.3816e+02</span> <span style=\"color: #008080; text-decoration-color: #008080; font-weight: bold\">3.2946e+02</span> <span style=\"color: #008080; text-decoration-color: #008080; font-weight: bold\">3.3209e+02</span> <span style=\"color: #008080; text-decoration-color: #008080; font-weight: bold\">3.1464e+02</span>\n",
       " <span style=\"color: #008080; text-decoration-color: #008080; font-weight: bold\">1.7936e+02</span> <span style=\"color: #008080; text-decoration-color: #008080; font-weight: bold\">2.6000e+00</span> <span style=\"color: #008080; text-decoration-color: #008080; font-weight: bold\">3.5050e+01</span> <span style=\"color: #008080; text-decoration-color: #008080; font-weight: bold\">2.8790e+01</span> <span style=\"color: #008080; text-decoration-color: #008080; font-weight: bold\">2.1097e+02</span> <span style=\"color: #008080; text-decoration-color: #008080; font-weight: bold\">8.8270e+01</span>\n",
       " <span style=\"color: #008080; text-decoration-color: #008080; font-weight: bold\">2.7250e+01</span> <span style=\"color: #008080; text-decoration-color: #008080; font-weight: bold\">2.1570e+01</span> <span style=\"color: #008080; text-decoration-color: #008080; font-weight: bold\">1.2736e+02</span> <span style=\"color: #008080; text-decoration-color: #008080; font-weight: bold\">1.6450e+01</span> <span style=\"color: #008080; text-decoration-color: #008080; font-weight: bold\">4.8450e+01</span> <span style=\"color: #008080; text-decoration-color: #008080; font-weight: bold\">3.1875e+02</span>\n",
       " <span style=\"color: #008080; text-decoration-color: #008080; font-weight: bold\">3.1998e+02</span> <span style=\"color: #008080; text-decoration-color: #008080; font-weight: bold\">2.9155e+02</span> <span style=\"color: #008080; text-decoration-color: #008080; font-weight: bold\">2.5200e+00</span> <span style=\"color: #008080; text-decoration-color: #008080; font-weight: bold\">3.6500e+00</span> <span style=\"color: #008080; text-decoration-color: #008080; font-weight: bold\">7.6800e+00</span> <span style=\"color: #008080; text-decoration-color: #008080; font-weight: bold\">2.4650e+01</span>\n",
       " <span style=\"color: #008080; text-decoration-color: #008080; font-weight: bold\">1.8820e+01</span> <span style=\"color: #008080; text-decoration-color: #008080; font-weight: bold\">9.6730e+01</span> <span style=\"color: #008080; text-decoration-color: #008080; font-weight: bold\">6.0720e+01</span> <span style=\"color: #008080; text-decoration-color: #008080; font-weight: bold\">8.3450e+01</span> <span style=\"color: #008080; text-decoration-color: #008080; font-weight: bold\">8.1330e+01</span> <span style=\"color: #008080; text-decoration-color: #008080; font-weight: bold\">9.7950e+01</span>\n",
       " <span style=\"color: #008080; text-decoration-color: #008080; font-weight: bold\">1.0019e+02</span> <span style=\"color: #008080; text-decoration-color: #008080; font-weight: bold\">1.0063e+02</span> <span style=\"color: #008080; text-decoration-color: #008080; font-weight: bold\">1.0985e+02</span> <span style=\"color: #008080; text-decoration-color: #008080; font-weight: bold\">2.7490e+01</span> <span style=\"color: #008080; text-decoration-color: #008080; font-weight: bold\">9.3200e+00</span> <span style=\"color: #008080; text-decoration-color: #008080; font-weight: bold\">6.8950e+01</span>\n",
       " <span style=\"color: #008080; text-decoration-color: #008080; font-weight: bold\">2.4052e+02</span> <span style=\"color: #008080; text-decoration-color: #008080; font-weight: bold\">4.3060e+01</span> <span style=\"color: #008080; text-decoration-color: #008080; font-weight: bold\">3.1801e+02</span> <span style=\"color: #008080; text-decoration-color: #008080; font-weight: bold\">3.0421e+02</span> <span style=\"color: #008080; text-decoration-color: #008080; font-weight: bold\">3.2000e-01</span> <span style=\"color: #008080; text-decoration-color: #008080; font-weight: bold\">6.6800e+00</span>\n",
       " <span style=\"color: #008080; text-decoration-color: #008080; font-weight: bold\">5.0920e+01</span> <span style=\"color: #008080; text-decoration-color: #008080; font-weight: bold\">1.0480e+01</span> <span style=\"color: #008080; text-decoration-color: #008080; font-weight: bold\">3.5000e+00</span> <span style=\"color: #008080; text-decoration-color: #008080; font-weight: bold\">2.7221e+02</span> <span style=\"color: #008080; text-decoration-color: #008080; font-weight: bold\">2.5523e+02</span> <span style=\"color: #008080; text-decoration-color: #008080; font-weight: bold\">3.3440e+02</span>\n",
       " <span style=\"color: #008080; text-decoration-color: #008080; font-weight: bold\">2.2010e+01</span> <span style=\"color: #008080; text-decoration-color: #008080; font-weight: bold\">3.3129e+02</span> <span style=\"color: #008080; text-decoration-color: #008080; font-weight: bold\">3.0276e+02</span> <span style=\"color: #008080; text-decoration-color: #008080; font-weight: bold\">3.4405e+02</span> <span style=\"color: #008080; text-decoration-color: #008080; font-weight: bold\">3.1843e+02</span><span style=\"font-weight: bold\">]</span>\n",
       "</pre>\n"
      ],
      "text/plain": [
       " Valores fuera de rango: \u001b[1m[\u001b[0m\u001b[1;36m2.8899e+02\u001b[0m \u001b[1;36m3.0342e+02\u001b[0m \u001b[1;36m3.0638e+02\u001b[0m \u001b[1;36m2.3260e+02\u001b[0m \u001b[1;36m2.4831e+02\u001b[0m \u001b[1;36m7.0800e+01\u001b[0m\n",
       " \u001b[1;36m3.3863e+02\u001b[0m \u001b[1;36m2.6276e+02\u001b[0m \u001b[1;36m1.7291e+02\u001b[0m \u001b[1;36m1.6927e+02\u001b[0m \u001b[1;36m3.4160e+02\u001b[0m \u001b[1;36m3.4328e+02\u001b[0m\n",
       " \u001b[1;36m2.6195e+02\u001b[0m \u001b[1;36m3.2102e+02\u001b[0m \u001b[1;36m8.8010e+01\u001b[0m \u001b[1;36m8.8630e+01\u001b[0m \u001b[1;36m3.3892e+02\u001b[0m \u001b[1;36m2.4016e+02\u001b[0m\n",
       " \u001b[1;36m2.2761e+02\u001b[0m \u001b[1;36m2.9709e+02\u001b[0m \u001b[1;36m3.3004e+02\u001b[0m \u001b[1;36m2.9229e+02\u001b[0m \u001b[1;36m3.4160e+02\u001b[0m \u001b[1;36m3.1603e+02\u001b[0m\n",
       " \u001b[1;36m1.3142e+02\u001b[0m \u001b[1;36m2.8583e+02\u001b[0m \u001b[1;36m3.3816e+02\u001b[0m \u001b[1;36m3.2946e+02\u001b[0m \u001b[1;36m3.3209e+02\u001b[0m \u001b[1;36m3.1464e+02\u001b[0m\n",
       " \u001b[1;36m1.7936e+02\u001b[0m \u001b[1;36m2.6000e+00\u001b[0m \u001b[1;36m3.5050e+01\u001b[0m \u001b[1;36m2.8790e+01\u001b[0m \u001b[1;36m2.1097e+02\u001b[0m \u001b[1;36m8.8270e+01\u001b[0m\n",
       " \u001b[1;36m2.7250e+01\u001b[0m \u001b[1;36m2.1570e+01\u001b[0m \u001b[1;36m1.2736e+02\u001b[0m \u001b[1;36m1.6450e+01\u001b[0m \u001b[1;36m4.8450e+01\u001b[0m \u001b[1;36m3.1875e+02\u001b[0m\n",
       " \u001b[1;36m3.1998e+02\u001b[0m \u001b[1;36m2.9155e+02\u001b[0m \u001b[1;36m2.5200e+00\u001b[0m \u001b[1;36m3.6500e+00\u001b[0m \u001b[1;36m7.6800e+00\u001b[0m \u001b[1;36m2.4650e+01\u001b[0m\n",
       " \u001b[1;36m1.8820e+01\u001b[0m \u001b[1;36m9.6730e+01\u001b[0m \u001b[1;36m6.0720e+01\u001b[0m \u001b[1;36m8.3450e+01\u001b[0m \u001b[1;36m8.1330e+01\u001b[0m \u001b[1;36m9.7950e+01\u001b[0m\n",
       " \u001b[1;36m1.0019e+02\u001b[0m \u001b[1;36m1.0063e+02\u001b[0m \u001b[1;36m1.0985e+02\u001b[0m \u001b[1;36m2.7490e+01\u001b[0m \u001b[1;36m9.3200e+00\u001b[0m \u001b[1;36m6.8950e+01\u001b[0m\n",
       " \u001b[1;36m2.4052e+02\u001b[0m \u001b[1;36m4.3060e+01\u001b[0m \u001b[1;36m3.1801e+02\u001b[0m \u001b[1;36m3.0421e+02\u001b[0m \u001b[1;36m3.2000e-01\u001b[0m \u001b[1;36m6.6800e+00\u001b[0m\n",
       " \u001b[1;36m5.0920e+01\u001b[0m \u001b[1;36m1.0480e+01\u001b[0m \u001b[1;36m3.5000e+00\u001b[0m \u001b[1;36m2.7221e+02\u001b[0m \u001b[1;36m2.5523e+02\u001b[0m \u001b[1;36m3.3440e+02\u001b[0m\n",
       " \u001b[1;36m2.2010e+01\u001b[0m \u001b[1;36m3.3129e+02\u001b[0m \u001b[1;36m3.0276e+02\u001b[0m \u001b[1;36m3.4405e+02\u001b[0m \u001b[1;36m3.1843e+02\u001b[0m\u001b[1m]\u001b[0m\n"
      ]
     },
     "metadata": {},
     "output_type": "display_data"
    },
    {
     "name": "stdout",
     "output_type": "stream",
     "text": [
      "  Rango: [344.10624999999993, 427.49625000000003]\n",
      "  Reemplazando outliers por mediana (391.44)\n"
     ]
    },
    {
     "data": {
      "text/html": [
       "<pre style=\"white-space:pre;overflow-x:auto;line-height:normal;font-family:Menlo,'DejaVu Sans Mono',consolas,'Courier New',monospace\">\n",
       "<span style=\"color: #800080; text-decoration-color: #800080; font-weight: bold\"> Outliers en </span><span style=\"color: #800080; text-decoration-color: #800080; font-weight: bold\">'lstat'</span><span style=\"color: #800080; text-decoration-color: #800080; font-weight: bold\">: </span><span style=\"color: #800080; text-decoration-color: #800080; font-weight: bold\">7</span><span style=\"color: #800080; text-decoration-color: #800080; font-weight: bold\"> reemplazados por </span><span style=\"color: #800080; text-decoration-color: #800080; font-weight: bold\">11.36</span>\n",
       "</pre>\n"
      ],
      "text/plain": [
       "\n",
       "\u001b[1;35m Outliers en \u001b[0m\u001b[1;35m'lstat'\u001b[0m\u001b[1;35m: \u001b[0m\u001b[1;35m7\u001b[0m\u001b[1;35m reemplazados por \u001b[0m\u001b[1;35m11.36\u001b[0m\n"
      ]
     },
     "metadata": {},
     "output_type": "display_data"
    },
    {
     "data": {
      "text/html": [
       "<pre style=\"white-space:pre;overflow-x:auto;line-height:normal;font-family:Menlo,'DejaVu Sans Mono',consolas,'Courier New',monospace\"> Valores fuera de rango: <span style=\"font-weight: bold\">[</span><span style=\"color: #008080; text-decoration-color: #008080; font-weight: bold\">34.41</span> <span style=\"color: #008080; text-decoration-color: #008080; font-weight: bold\">34.77</span> <span style=\"color: #008080; text-decoration-color: #008080; font-weight: bold\">37.97</span> <span style=\"color: #008080; text-decoration-color: #008080; font-weight: bold\">31.99</span> <span style=\"color: #008080; text-decoration-color: #008080; font-weight: bold\">34.37</span> <span style=\"color: #008080; text-decoration-color: #008080; font-weight: bold\">36.98</span> <span style=\"color: #008080; text-decoration-color: #008080; font-weight: bold\">34.02</span><span style=\"font-weight: bold\">]</span>\n",
       "</pre>\n"
      ],
      "text/plain": [
       " Valores fuera de rango: \u001b[1m[\u001b[0m\u001b[1;36m34.41\u001b[0m \u001b[1;36m34.77\u001b[0m \u001b[1;36m37.97\u001b[0m \u001b[1;36m31.99\u001b[0m \u001b[1;36m34.37\u001b[0m \u001b[1;36m36.98\u001b[0m \u001b[1;36m34.02\u001b[0m\u001b[1m]\u001b[0m\n"
      ]
     },
     "metadata": {},
     "output_type": "display_data"
    },
    {
     "name": "stdout",
     "output_type": "stream",
     "text": [
      "  Rango: [-8.057500000000005, 31.962500000000006]\n",
      "  Reemplazando outliers por mediana (11.36)\n"
     ]
    }
   ],
   "source": [
    "data_preprocessor.manejar_outliers(['zn', 'chas', 'crim', 'b', 'lstat'])"
   ]
  },
  {
   "cell_type": "markdown",
   "id": "a4b0307d",
   "metadata": {},
   "source": [
    "## 3. Normalización y Estandarización"
   ]
  },
  {
   "cell_type": "code",
   "execution_count": 9,
   "id": "e8f5fcdf",
   "metadata": {},
   "outputs": [
    {
     "data": {
      "image/png": "[encoded data removed]",
      "text/plain": [
       "<Figure size 1200x600 with 1 Axes>"
      ]
     },
     "metadata": {},
     "output_type": "display_data"
    }
   ],
   "source": [
    "data_preprocessor.plot_boxplot()"
   ]
  },
  {
   "cell_type": "code",
   "execution_count": 10,
   "id": "6c007d4e",
   "metadata": {},
   "outputs": [],
   "source": [
    "df_boston = data_preprocessor.normalizar()"
   ]
  },
  {
   "cell_type": "code",
   "execution_count": 11,
   "id": "ce1e58da",
   "metadata": {},
   "outputs": [
    {
     "data": {
      "text/html": [
       "<pre style=\"white-space:pre;overflow-x:auto;line-height:normal;font-family:Menlo,'DejaVu Sans Mono',consolas,'Courier New',monospace\">\n",
       "<span style=\"color: #800080; text-decoration-color: #800080; font-weight: bold\"> Outliers en </span><span style=\"color: #800080; text-decoration-color: #800080; font-weight: bold\">'zn'</span><span style=\"color: #800080; text-decoration-color: #800080; font-weight: bold\">: </span><span style=\"color: #800080; text-decoration-color: #800080; font-weight: bold\">66</span><span style=\"color: #800080; text-decoration-color: #800080; font-weight: bold\"> reemplazados por </span><span style=\"color: #800080; text-decoration-color: #800080; font-weight: bold\">-0.3760446078545245</span>\n",
       "</pre>\n"
      ],
      "text/plain": [
       "\n",
       "\u001b[1;35m Outliers en \u001b[0m\u001b[1;35m'zn'\u001b[0m\u001b[1;35m: \u001b[0m\u001b[1;35m66\u001b[0m\u001b[1;35m reemplazados por \u001b[0m\u001b[1;35m-0.3760446078545245\u001b[0m\n"
      ]
     },
     "metadata": {},
     "output_type": "display_data"
    },
    {
     "data": {
      "text/html": [
       "<pre style=\"white-space:pre;overflow-x:auto;line-height:normal;font-family:Menlo,'DejaVu Sans Mono',consolas,'Courier New',monospace\"> Valores fuera de rango: <span style=\"font-weight: bold\">[</span><span style=\"color: #008080; text-decoration-color: #008080; font-weight: bold\">2.07301817</span> <span style=\"color: #008080; text-decoration-color: #008080; font-weight: bold\">1.32469343</span> <span style=\"color: #008080; text-decoration-color: #008080; font-weight: bold\">1.32469343</span> <span style=\"color: #008080; text-decoration-color: #008080; font-weight: bold\">1.32469343</span> <span style=\"color: #008080; text-decoration-color: #008080; font-weight: bold\">1.32469343</span> <span style=\"color: #008080; text-decoration-color: #008080; font-weight: bold\">1.32469343</span>\n",
       " <span style=\"color: #008080; text-decoration-color: #008080; font-weight: bold\">1.32469343</span> <span style=\"color: #008080; text-decoration-color: #008080; font-weight: bold\">1.32469343</span> <span style=\"color: #008080; text-decoration-color: #008080; font-weight: bold\">2.48119529</span> <span style=\"color: #008080; text-decoration-color: #008080; font-weight: bold\">2.48119529</span> <span style=\"color: #008080; text-decoration-color: #008080; font-weight: bold\">2.48119529</span> <span style=\"color: #008080; text-decoration-color: #008080; font-weight: bold\">2.48119529</span>\n",
       " <span style=\"color: #008080; text-decoration-color: #008080; font-weight: bold\">3.02543147</span> <span style=\"color: #008080; text-decoration-color: #008080; font-weight: bold\">3.02543147</span> <span style=\"color: #008080; text-decoration-color: #008080; font-weight: bold\">3.02543147</span> <span style=\"color: #008080; text-decoration-color: #008080; font-weight: bold\">3.02543147</span> <span style=\"color: #008080; text-decoration-color: #008080; font-weight: bold\">3.02543147</span> <span style=\"color: #008080; text-decoration-color: #008080; font-weight: bold\">3.02543147</span>\n",
       " <span style=\"color: #008080; text-decoration-color: #008080; font-weight: bold\">2.00498864</span> <span style=\"color: #008080; text-decoration-color: #008080; font-weight: bold\">1.32469343</span> <span style=\"color: #008080; text-decoration-color: #008080; font-weight: bold\">1.32469343</span> <span style=\"color: #008080; text-decoration-color: #008080; font-weight: bold\">1.32469343</span> <span style=\"color: #008080; text-decoration-color: #008080; font-weight: bold\">3.02543147</span> <span style=\"color: #008080; text-decoration-color: #008080; font-weight: bold\">3.02543147</span>\n",
       " <span style=\"color: #008080; text-decoration-color: #008080; font-weight: bold\">3.02543147</span> <span style=\"color: #008080; text-decoration-color: #008080; font-weight: bold\">3.02543147</span> <span style=\"color: #008080; text-decoration-color: #008080; font-weight: bold\">3.43360859</span> <span style=\"color: #008080; text-decoration-color: #008080; font-weight: bold\">3.43360859</span> <span style=\"color: #008080; text-decoration-color: #008080; font-weight: bold\">3.43360859</span> <span style=\"color: #008080; text-decoration-color: #008080; font-weight: bold\">3.70572668</span>\n",
       " <span style=\"color: #008080; text-decoration-color: #008080; font-weight: bold\">3.70572668</span> <span style=\"color: #008080; text-decoration-color: #008080; font-weight: bold\">3.70572668</span> <span style=\"color: #008080; text-decoration-color: #008080; font-weight: bold\">3.70572668</span> <span style=\"color: #008080; text-decoration-color: #008080; font-weight: bold\">3.70572668</span> <span style=\"color: #008080; text-decoration-color: #008080; font-weight: bold\">3.70572668</span> <span style=\"color: #008080; text-decoration-color: #008080; font-weight: bold\">2.61725434</span>\n",
       " <span style=\"color: #008080; text-decoration-color: #008080; font-weight: bold\">2.61725434</span> <span style=\"color: #008080; text-decoration-color: #008080; font-weight: bold\">2.61725434</span> <span style=\"color: #008080; text-decoration-color: #008080; font-weight: bold\">2.61725434</span> <span style=\"color: #008080; text-decoration-color: #008080; font-weight: bold\">2.61725434</span> <span style=\"color: #008080; text-decoration-color: #008080; font-weight: bold\">2.61725434</span> <span style=\"color: #008080; text-decoration-color: #008080; font-weight: bold\">2.61725434</span>\n",
       " <span style=\"color: #008080; text-decoration-color: #008080; font-weight: bold\">2.61725434</span> <span style=\"color: #008080; text-decoration-color: #008080; font-weight: bold\">2.61725434</span> <span style=\"color: #008080; text-decoration-color: #008080; font-weight: bold\">2.61725434</span> <span style=\"color: #008080; text-decoration-color: #008080; font-weight: bold\">2.34513625</span> <span style=\"color: #008080; text-decoration-color: #008080; font-weight: bold\">2.34513625</span> <span style=\"color: #008080; text-decoration-color: #008080; font-weight: bold\">2.34513625</span>\n",
       " <span style=\"color: #008080; text-decoration-color: #008080; font-weight: bold\">2.34513625</span> <span style=\"color: #008080; text-decoration-color: #008080; font-weight: bold\">2.34513625</span> <span style=\"color: #008080; text-decoration-color: #008080; font-weight: bold\">2.34513625</span> <span style=\"color: #008080; text-decoration-color: #008080; font-weight: bold\">2.34513625</span> <span style=\"color: #008080; text-decoration-color: #008080; font-weight: bold\">2.34513625</span> <span style=\"color: #008080; text-decoration-color: #008080; font-weight: bold\">2.34513625</span>\n",
       " <span style=\"color: #008080; text-decoration-color: #008080; font-weight: bold\">2.34513625</span> <span style=\"color: #008080; text-decoration-color: #008080; font-weight: bold\">2.34513625</span> <span style=\"color: #008080; text-decoration-color: #008080; font-weight: bold\">2.34513625</span> <span style=\"color: #008080; text-decoration-color: #008080; font-weight: bold\">2.34513625</span> <span style=\"color: #008080; text-decoration-color: #008080; font-weight: bold\">2.34513625</span> <span style=\"color: #008080; text-decoration-color: #008080; font-weight: bold\">2.34513625</span>\n",
       " <span style=\"color: #008080; text-decoration-color: #008080; font-weight: bold\">2.34513625</span> <span style=\"color: #008080; text-decoration-color: #008080; font-weight: bold\">2.34513625</span> <span style=\"color: #008080; text-decoration-color: #008080; font-weight: bold\">2.34513625</span> <span style=\"color: #008080; text-decoration-color: #008080; font-weight: bold\">2.34513625</span> <span style=\"color: #008080; text-decoration-color: #008080; font-weight: bold\">2.34513625</span> <span style=\"color: #008080; text-decoration-color: #008080; font-weight: bold\">2.34513625</span><span style=\"font-weight: bold\">]</span>\n",
       "</pre>\n"
      ],
      "text/plain": [
       " Valores fuera de rango: \u001b[1m[\u001b[0m\u001b[1;36m2.07301817\u001b[0m \u001b[1;36m1.32469343\u001b[0m \u001b[1;36m1.32469343\u001b[0m \u001b[1;36m1.32469343\u001b[0m \u001b[1;36m1.32469343\u001b[0m \u001b[1;36m1.32469343\u001b[0m\n",
       " \u001b[1;36m1.32469343\u001b[0m \u001b[1;36m1.32469343\u001b[0m \u001b[1;36m2.48119529\u001b[0m \u001b[1;36m2.48119529\u001b[0m \u001b[1;36m2.48119529\u001b[0m \u001b[1;36m2.48119529\u001b[0m\n",
       " \u001b[1;36m3.02543147\u001b[0m \u001b[1;36m3.02543147\u001b[0m \u001b[1;36m3.02543147\u001b[0m \u001b[1;36m3.02543147\u001b[0m \u001b[1;36m3.02543147\u001b[0m \u001b[1;36m3.02543147\u001b[0m\n",
       " \u001b[1;36m2.00498864\u001b[0m \u001b[1;36m1.32469343\u001b[0m \u001b[1;36m1.32469343\u001b[0m \u001b[1;36m1.32469343\u001b[0m \u001b[1;36m3.02543147\u001b[0m \u001b[1;36m3.02543147\u001b[0m\n",
       " \u001b[1;36m3.02543147\u001b[0m \u001b[1;36m3.02543147\u001b[0m \u001b[1;36m3.43360859\u001b[0m \u001b[1;36m3.43360859\u001b[0m \u001b[1;36m3.43360859\u001b[0m \u001b[1;36m3.70572668\u001b[0m\n",
       " \u001b[1;36m3.70572668\u001b[0m \u001b[1;36m3.70572668\u001b[0m \u001b[1;36m3.70572668\u001b[0m \u001b[1;36m3.70572668\u001b[0m \u001b[1;36m3.70572668\u001b[0m \u001b[1;36m2.61725434\u001b[0m\n",
       " \u001b[1;36m2.61725434\u001b[0m \u001b[1;36m2.61725434\u001b[0m \u001b[1;36m2.61725434\u001b[0m \u001b[1;36m2.61725434\u001b[0m \u001b[1;36m2.61725434\u001b[0m \u001b[1;36m2.61725434\u001b[0m\n",
       " \u001b[1;36m2.61725434\u001b[0m \u001b[1;36m2.61725434\u001b[0m \u001b[1;36m2.61725434\u001b[0m \u001b[1;36m2.34513625\u001b[0m \u001b[1;36m2.34513625\u001b[0m \u001b[1;36m2.34513625\u001b[0m\n",
       " \u001b[1;36m2.34513625\u001b[0m \u001b[1;36m2.34513625\u001b[0m \u001b[1;36m2.34513625\u001b[0m \u001b[1;36m2.34513625\u001b[0m \u001b[1;36m2.34513625\u001b[0m \u001b[1;36m2.34513625\u001b[0m\n",
       " \u001b[1;36m2.34513625\u001b[0m \u001b[1;36m2.34513625\u001b[0m \u001b[1;36m2.34513625\u001b[0m \u001b[1;36m2.34513625\u001b[0m \u001b[1;36m2.34513625\u001b[0m \u001b[1;36m2.34513625\u001b[0m\n",
       " \u001b[1;36m2.34513625\u001b[0m \u001b[1;36m2.34513625\u001b[0m \u001b[1;36m2.34513625\u001b[0m \u001b[1;36m2.34513625\u001b[0m \u001b[1;36m2.34513625\u001b[0m \u001b[1;36m2.34513625\u001b[0m\u001b[1m]\u001b[0m\n"
      ]
     },
     "metadata": {},
     "output_type": "display_data"
    },
    {
     "name": "stdout",
     "output_type": "stream",
     "text": [
      "  Rango: [-0.3760446078545245, -0.3760446078545245]\n",
      "  Reemplazando outliers por mediana (-0.3760446078545245)\n"
     ]
    },
    {
     "data": {
      "text/html": [
       "<pre style=\"white-space:pre;overflow-x:auto;line-height:normal;font-family:Menlo,'DejaVu Sans Mono',consolas,'Courier New',monospace\">\n",
       "<span style=\"color: #800080; text-decoration-color: #800080; font-weight: bold\"> Outliers en </span><span style=\"color: #800080; text-decoration-color: #800080; font-weight: bold\">'crim'</span><span style=\"color: #800080; text-decoration-color: #800080; font-weight: bold\">: </span><span style=\"color: #800080; text-decoration-color: #800080; font-weight: bold\">91</span><span style=\"color: #800080; text-decoration-color: #800080; font-weight: bold\"> reemplazados por </span><span style=\"color: #800080; text-decoration-color: #800080; font-weight: bold\">-0.4086259083280427</span>\n",
       "</pre>\n"
      ],
      "text/plain": [
       "\n",
       "\u001b[1;35m Outliers en \u001b[0m\u001b[1;35m'crim'\u001b[0m\u001b[1;35m: \u001b[0m\u001b[1;35m91\u001b[0m\u001b[1;35m reemplazados por \u001b[0m\u001b[1;35m-0.4086259083280427\u001b[0m\n"
      ]
     },
     "metadata": {},
     "output_type": "display_data"
    },
    {
     "data": {
      "text/html": [
       "<pre style=\"white-space:pre;overflow-x:auto;line-height:normal;font-family:Menlo,'DejaVu Sans Mono',consolas,'Courier New',monospace\"> Valores fuera de rango: <span style=\"font-weight: bold\">[</span><span style=\"color: #008080; text-decoration-color: #008080; font-weight: bold\">0.26766379</span> <span style=\"color: #008080; text-decoration-color: #008080; font-weight: bold\">0.27554436</span> <span style=\"color: #008080; text-decoration-color: #008080; font-weight: bold\">1.11860134</span> <span style=\"color: #008080; text-decoration-color: #008080; font-weight: bold\">1.50533227</span> <span style=\"color: #008080; text-decoration-color: #008080; font-weight: bold\">0.84895322</span> <span style=\"color: #008080; text-decoration-color: #008080; font-weight: bold\">0.649498</span>\n",
       " <span style=\"color: #008080; text-decoration-color: #008080; font-weight: bold\">0.5377702</span>  <span style=\"color: #008080; text-decoration-color: #008080; font-weight: bold\">0.64415794</span> <span style=\"color: #008080; text-decoration-color: #008080; font-weight: bold\">0.62541294</span> <span style=\"color: #008080; text-decoration-color: #008080; font-weight: bold\">0.82615336</span> <span style=\"color: #008080; text-decoration-color: #008080; font-weight: bold\">0.28947236</span> <span style=\"color: #008080; text-decoration-color: #008080; font-weight: bold\">0.20963049</span>\n",
       " <span style=\"color: #008080; text-decoration-color: #008080; font-weight: bold\">0.53484612</span> <span style=\"color: #008080; text-decoration-color: #008080; font-weight: bold\">1.22518336</span> <span style=\"color: #008080; text-decoration-color: #008080; font-weight: bold\">0.68304274</span> <span style=\"color: #008080; text-decoration-color: #008080; font-weight: bold\">0.37772781</span> <span style=\"color: #008080; text-decoration-color: #008080; font-weight: bold\">0.22093827</span> <span style=\"color: #008080; text-decoration-color: #008080; font-weight: bold\">0.58126279</span>\n",
       " <span style=\"color: #008080; text-decoration-color: #008080; font-weight: bold\">0.92081489</span> <span style=\"color: #008080; text-decoration-color: #008080; font-weight: bold\">0.46560965</span> <span style=\"color: #008080; text-decoration-color: #008080; font-weight: bold\">0.3610451</span>  <span style=\"color: #008080; text-decoration-color: #008080; font-weight: bold\">0.61017484</span> <span style=\"color: #008080; text-decoration-color: #008080; font-weight: bold\">0.68446244</span> <span style=\"color: #008080; text-decoration-color: #008080; font-weight: bold\">0.61689972</span>\n",
       " <span style=\"color: #008080; text-decoration-color: #008080; font-weight: bold\">0.77709156</span> <span style=\"color: #008080; text-decoration-color: #008080; font-weight: bold\">3.93902473</span> <span style=\"color: #008080; text-decoration-color: #008080; font-weight: bold\">1.38194301</span> <span style=\"color: #008080; text-decoration-color: #008080; font-weight: bold\">2.05546305</span> <span style=\"color: #008080; text-decoration-color: #008080; font-weight: bold\">1.58698238</span> <span style=\"color: #008080; text-decoration-color: #008080; font-weight: bold\">1.72676543</span>\n",
       " <span style=\"color: #008080; text-decoration-color: #008080; font-weight: bold\">1.37553693</span> <span style=\"color: #008080; text-decoration-color: #008080; font-weight: bold\">1.29652198</span> <span style=\"color: #008080; text-decoration-color: #008080; font-weight: bold\">1.56759478</span> <span style=\"color: #008080; text-decoration-color: #008080; font-weight: bold\">1.19493132</span> <span style=\"color: #008080; text-decoration-color: #008080; font-weight: bold\">1.73371448</span> <span style=\"color: #008080; text-decoration-color: #008080; font-weight: bold\">1.30585214</span>\n",
       " <span style=\"color: #008080; text-decoration-color: #008080; font-weight: bold\">1.90425268</span> <span style=\"color: #008080; text-decoration-color: #008080; font-weight: bold\">2.28869714</span> <span style=\"color: #008080; text-decoration-color: #008080; font-weight: bold\">2.72147114</span> <span style=\"color: #008080; text-decoration-color: #008080; font-weight: bold\">3.58250101</span> <span style=\"color: #008080; text-decoration-color: #008080; font-weight: bold\">3.44562711</span> <span style=\"color: #008080; text-decoration-color: #008080; font-weight: bold\">3.52496087</span>\n",
       " <span style=\"color: #008080; text-decoration-color: #008080; font-weight: bold\">2.9323786</span>  <span style=\"color: #008080; text-decoration-color: #008080; font-weight: bold\">2.10093326</span> <span style=\"color: #008080; text-decoration-color: #008080; font-weight: bold\">3.77055381</span> <span style=\"color: #008080; text-decoration-color: #008080; font-weight: bold\">3.80641491</span> <span style=\"color: #008080; text-decoration-color: #008080; font-weight: bold\">2.38935628</span> <span style=\"color: #008080; text-decoration-color: #008080; font-weight: bold\">3.28599319</span>\n",
       " <span style=\"color: #008080; text-decoration-color: #008080; font-weight: bold\">3.15242693</span> <span style=\"color: #008080; text-decoration-color: #008080; font-weight: bold\">2.96248618</span> <span style=\"color: #008080; text-decoration-color: #008080; font-weight: bold\">2.97634941</span> <span style=\"color: #008080; text-decoration-color: #008080; font-weight: bold\">3.84395971</span> <span style=\"color: #008080; text-decoration-color: #008080; font-weight: bold\">3.13410535</span> <span style=\"color: #008080; text-decoration-color: #008080; font-weight: bold\">3.69452272</span>\n",
       " <span style=\"color: #008080; text-decoration-color: #008080; font-weight: bold\">2.67429231</span> <span style=\"color: #008080; text-decoration-color: #008080; font-weight: bold\">2.24440752</span> <span style=\"color: #008080; text-decoration-color: #008080; font-weight: bold\">2.28689886</span> <span style=\"color: #008080; text-decoration-color: #008080; font-weight: bold\">2.59659245</span> <span style=\"color: #008080; text-decoration-color: #008080; font-weight: bold\">3.21325978</span> <span style=\"color: #008080; text-decoration-color: #008080; font-weight: bold\">2.81061826</span>\n",
       " <span style=\"color: #008080; text-decoration-color: #008080; font-weight: bold\">2.17470281</span> <span style=\"color: #008080; text-decoration-color: #008080; font-weight: bold\">1.99987064</span> <span style=\"color: #008080; text-decoration-color: #008080; font-weight: bold\">3.57295665</span> <span style=\"color: #008080; text-decoration-color: #008080; font-weight: bold\">1.83159897</span> <span style=\"color: #008080; text-decoration-color: #008080; font-weight: bold\">1.78998436</span> <span style=\"color: #008080; text-decoration-color: #008080; font-weight: bold\">3.54929002</span>\n",
       " <span style=\"color: #008080; text-decoration-color: #008080; font-weight: bold\">3.32594899</span> <span style=\"color: #008080; text-decoration-color: #008080; font-weight: bold\">2.85218804</span> <span style=\"color: #008080; text-decoration-color: #008080; font-weight: bold\">1.86136781</span> <span style=\"color: #008080; text-decoration-color: #008080; font-weight: bold\">1.30393928</span> <span style=\"color: #008080; text-decoration-color: #008080; font-weight: bold\">2.77933508</span> <span style=\"color: #008080; text-decoration-color: #008080; font-weight: bold\">2.36400096</span>\n",
       " <span style=\"color: #008080; text-decoration-color: #008080; font-weight: bold\">3.369332</span>   <span style=\"color: #008080; text-decoration-color: #008080; font-weight: bold\">1.04016921</span> <span style=\"color: #008080; text-decoration-color: #008080; font-weight: bold\">1.344722</span>   <span style=\"color: #008080; text-decoration-color: #008080; font-weight: bold\">1.66716797</span> <span style=\"color: #008080; text-decoration-color: #008080; font-weight: bold\">1.63055966</span> <span style=\"color: #008080; text-decoration-color: #008080; font-weight: bold\">1.475947</span>\n",
       " <span style=\"color: #008080; text-decoration-color: #008080; font-weight: bold\">1.24195573</span> <span style=\"color: #008080; text-decoration-color: #008080; font-weight: bold\">1.77905517</span> <span style=\"color: #008080; text-decoration-color: #008080; font-weight: bold\">3.47716434</span> <span style=\"color: #008080; text-decoration-color: #008080; font-weight: bold\">2.64892205</span> <span style=\"color: #008080; text-decoration-color: #008080; font-weight: bold\">1.89089755</span> <span style=\"color: #008080; text-decoration-color: #008080; font-weight: bold\">2.36542564</span>\n",
       " <span style=\"color: #008080; text-decoration-color: #008080; font-weight: bold\">2.30772609</span> <span style=\"color: #008080; text-decoration-color: #008080; font-weight: bold\">2.31917334</span> <span style=\"color: #008080; text-decoration-color: #008080; font-weight: bold\">0.86820135</span> <span style=\"color: #008080; text-decoration-color: #008080; font-weight: bold\">0.64911443</span> <span style=\"color: #008080; text-decoration-color: #008080; font-weight: bold\">1.29425544</span> <span style=\"color: #008080; text-decoration-color: #008080; font-weight: bold\">2.29954165</span>\n",
       " <span style=\"color: #008080; text-decoration-color: #008080; font-weight: bold\">1.87309403</span><span style=\"font-weight: bold\">]</span>\n",
       "</pre>\n"
      ],
      "text/plain": [
       " Valores fuera de rango: \u001b[1m[\u001b[0m\u001b[1;36m0.26766379\u001b[0m \u001b[1;36m0.27554436\u001b[0m \u001b[1;36m1.11860134\u001b[0m \u001b[1;36m1.50533227\u001b[0m \u001b[1;36m0.84895322\u001b[0m \u001b[1;36m0.649498\u001b[0m\n",
       " \u001b[1;36m0.5377702\u001b[0m  \u001b[1;36m0.64415794\u001b[0m \u001b[1;36m0.62541294\u001b[0m \u001b[1;36m0.82615336\u001b[0m \u001b[1;36m0.28947236\u001b[0m \u001b[1;36m0.20963049\u001b[0m\n",
       " \u001b[1;36m0.53484612\u001b[0m \u001b[1;36m1.22518336\u001b[0m \u001b[1;36m0.68304274\u001b[0m \u001b[1;36m0.37772781\u001b[0m \u001b[1;36m0.22093827\u001b[0m \u001b[1;36m0.58126279\u001b[0m\n",
       " \u001b[1;36m0.92081489\u001b[0m \u001b[1;36m0.46560965\u001b[0m \u001b[1;36m0.3610451\u001b[0m  \u001b[1;36m0.61017484\u001b[0m \u001b[1;36m0.68446244\u001b[0m \u001b[1;36m0.61689972\u001b[0m\n",
       " \u001b[1;36m0.77709156\u001b[0m \u001b[1;36m3.93902473\u001b[0m \u001b[1;36m1.38194301\u001b[0m \u001b[1;36m2.05546305\u001b[0m \u001b[1;36m1.58698238\u001b[0m \u001b[1;36m1.72676543\u001b[0m\n",
       " \u001b[1;36m1.37553693\u001b[0m \u001b[1;36m1.29652198\u001b[0m \u001b[1;36m1.56759478\u001b[0m \u001b[1;36m1.19493132\u001b[0m \u001b[1;36m1.73371448\u001b[0m \u001b[1;36m1.30585214\u001b[0m\n",
       " \u001b[1;36m1.90425268\u001b[0m \u001b[1;36m2.28869714\u001b[0m \u001b[1;36m2.72147114\u001b[0m \u001b[1;36m3.58250101\u001b[0m \u001b[1;36m3.44562711\u001b[0m \u001b[1;36m3.52496087\u001b[0m\n",
       " \u001b[1;36m2.9323786\u001b[0m  \u001b[1;36m2.10093326\u001b[0m \u001b[1;36m3.77055381\u001b[0m \u001b[1;36m3.80641491\u001b[0m \u001b[1;36m2.38935628\u001b[0m \u001b[1;36m3.28599319\u001b[0m\n",
       " \u001b[1;36m3.15242693\u001b[0m \u001b[1;36m2.96248618\u001b[0m \u001b[1;36m2.97634941\u001b[0m \u001b[1;36m3.84395971\u001b[0m \u001b[1;36m3.13410535\u001b[0m \u001b[1;36m3.69452272\u001b[0m\n",
       " \u001b[1;36m2.67429231\u001b[0m \u001b[1;36m2.24440752\u001b[0m \u001b[1;36m2.28689886\u001b[0m \u001b[1;36m2.59659245\u001b[0m \u001b[1;36m3.21325978\u001b[0m \u001b[1;36m2.81061826\u001b[0m\n",
       " \u001b[1;36m2.17470281\u001b[0m \u001b[1;36m1.99987064\u001b[0m \u001b[1;36m3.57295665\u001b[0m \u001b[1;36m1.83159897\u001b[0m \u001b[1;36m1.78998436\u001b[0m \u001b[1;36m3.54929002\u001b[0m\n",
       " \u001b[1;36m3.32594899\u001b[0m \u001b[1;36m2.85218804\u001b[0m \u001b[1;36m1.86136781\u001b[0m \u001b[1;36m1.30393928\u001b[0m \u001b[1;36m2.77933508\u001b[0m \u001b[1;36m2.36400096\u001b[0m\n",
       " \u001b[1;36m3.369332\u001b[0m   \u001b[1;36m1.04016921\u001b[0m \u001b[1;36m1.344722\u001b[0m   \u001b[1;36m1.66716797\u001b[0m \u001b[1;36m1.63055966\u001b[0m \u001b[1;36m1.475947\u001b[0m\n",
       " \u001b[1;36m1.24195573\u001b[0m \u001b[1;36m1.77905517\u001b[0m \u001b[1;36m3.47716434\u001b[0m \u001b[1;36m2.64892205\u001b[0m \u001b[1;36m1.89089755\u001b[0m \u001b[1;36m2.36542564\u001b[0m\n",
       " \u001b[1;36m2.30772609\u001b[0m \u001b[1;36m2.31917334\u001b[0m \u001b[1;36m0.86820135\u001b[0m \u001b[1;36m0.64911443\u001b[0m \u001b[1;36m1.29425544\u001b[0m \u001b[1;36m2.29954165\u001b[0m\n",
       " \u001b[1;36m1.87309403\u001b[0m\u001b[1m]\u001b[0m\n"
      ]
     },
     "metadata": {},
     "output_type": "display_data"
    },
    {
     "name": "stdout",
     "output_type": "stream",
     "text": [
      "  Rango: [-0.9087297440954735, 0.19487932115409218]\n",
      "  Reemplazando outliers por mediana (-0.4086259083280427)\n"
     ]
    },
    {
     "data": {
      "text/html": [
       "<pre style=\"white-space:pre;overflow-x:auto;line-height:normal;font-family:Menlo,'DejaVu Sans Mono',consolas,'Courier New',monospace\">\n",
       "<span style=\"color: #800080; text-decoration-color: #800080; font-weight: bold\"> Outliers en </span><span style=\"color: #800080; text-decoration-color: #800080; font-weight: bold\">'b'</span><span style=\"color: #800080; text-decoration-color: #800080; font-weight: bold\">: </span><span style=\"color: #800080; text-decoration-color: #800080; font-weight: bold\">52</span><span style=\"color: #800080; text-decoration-color: #800080; font-weight: bold\"> reemplazados por </span><span style=\"color: #800080; text-decoration-color: #800080; font-weight: bold\">0.22490005628006116</span>\n",
       "</pre>\n"
      ],
      "text/plain": [
       "\n",
       "\u001b[1;35m Outliers en \u001b[0m\u001b[1;35m'b'\u001b[0m\u001b[1;35m: \u001b[0m\u001b[1;35m52\u001b[0m\u001b[1;35m reemplazados por \u001b[0m\u001b[1;35m0.22490005628006116\u001b[0m\n"
      ]
     },
     "metadata": {},
     "output_type": "display_data"
    },
    {
     "data": {
      "text/html": [
       "<pre style=\"white-space:pre;overflow-x:auto;line-height:normal;font-family:Menlo,'DejaVu Sans Mono',consolas,'Courier New',monospace\"> Valores fuera de rango: <span style=\"font-weight: bold\">[</span><span style=\"color: #008080; text-decoration-color: #008080; font-weight: bold\">-2.80271034</span> <span style=\"color: #008080; text-decoration-color: #008080; font-weight: bold\">-2.93823886</span> <span style=\"color: #008080; text-decoration-color: #008080; font-weight: bold\">-1.49679622</span> <span style=\"color: #008080; text-decoration-color: #008080; font-weight: bold\">-3.01471567</span> <span style=\"color: #008080; text-decoration-color: #008080; font-weight: bold\">-4.27997124</span> <span style=\"color: #008080; text-decoration-color: #008080; font-weight: bold\">-1.82109661</span>\n",
       " <span style=\"color: #008080; text-decoration-color: #008080; font-weight: bold\">-2.8878997</span>  <span style=\"color: #008080; text-decoration-color: #008080; font-weight: bold\">-3.1105537</span>  <span style=\"color: #008080; text-decoration-color: #008080; font-weight: bold\">-3.60813699</span> <span style=\"color: #008080; text-decoration-color: #008080; font-weight: bold\">-1.58004945</span> <span style=\"color: #008080; text-decoration-color: #008080; font-weight: bold\">-2.48712249</span> <span style=\"color: #008080; text-decoration-color: #008080; font-weight: bold\">-3.41065257</span>\n",
       " <span style=\"color: #008080; text-decoration-color: #008080; font-weight: bold\">-2.40193314</span> <span style=\"color: #008080; text-decoration-color: #008080; font-weight: bold\">-1.42225553</span> <span style=\"color: #008080; text-decoration-color: #008080; font-weight: bold\">-1.91887076</span> <span style=\"color: #008080; text-decoration-color: #008080; font-weight: bold\">-3.96825564</span> <span style=\"color: #008080; text-decoration-color: #008080; font-weight: bold\">-3.36999401</span> <span style=\"color: #008080; text-decoration-color: #008080; font-weight: bold\">-3.89081077</span>\n",
       " <span style=\"color: #008080; text-decoration-color: #008080; font-weight: bold\">-1.64974983</span> <span style=\"color: #008080; text-decoration-color: #008080; font-weight: bold\">-2.79980616</span> <span style=\"color: #008080; text-decoration-color: #008080; font-weight: bold\">-1.58488976</span> <span style=\"color: #008080; text-decoration-color: #008080; font-weight: bold\">-1.39514982</span> <span style=\"color: #008080; text-decoration-color: #008080; font-weight: bold\">-1.61005934</span> <span style=\"color: #008080; text-decoration-color: #008080; font-weight: bold\">-1.39514982</span>\n",
       " <span style=\"color: #008080; text-decoration-color: #008080; font-weight: bold\">-1.68460003</span> <span style=\"color: #008080; text-decoration-color: #008080; font-weight: bold\">-2.02148521</span> <span style=\"color: #008080; text-decoration-color: #008080; font-weight: bold\">-1.69815288</span> <span style=\"color: #008080; text-decoration-color: #008080; font-weight: bold\">-3.74366551</span> <span style=\"color: #008080; text-decoration-color: #008080; font-weight: bold\">-1.34674678</span> <span style=\"color: #008080; text-decoration-color: #008080; font-weight: bold\">-1.9895392</span>\n",
       " <span style=\"color: #008080; text-decoration-color: #008080; font-weight: bold\">-2.60135368</span> <span style=\"color: #008080; text-decoration-color: #008080; font-weight: bold\">-2.37289131</span> <span style=\"color: #008080; text-decoration-color: #008080; font-weight: bold\">-1.77559775</span> <span style=\"color: #008080; text-decoration-color: #008080; font-weight: bold\">-1.40967074</span> <span style=\"color: #008080; text-decoration-color: #008080; font-weight: bold\">-3.7243043</span>  <span style=\"color: #008080; text-decoration-color: #008080; font-weight: bold\">-3.49293775</span>\n",
       " <span style=\"color: #008080; text-decoration-color: #008080; font-weight: bold\">-3.34676055</span> <span style=\"color: #008080; text-decoration-color: #008080; font-weight: bold\">-3.33223964</span> <span style=\"color: #008080; text-decoration-color: #008080; font-weight: bold\">-1.31673689</span> <span style=\"color: #008080; text-decoration-color: #008080; font-weight: bold\">-1.33513005</span> <span style=\"color: #008080; text-decoration-color: #008080; font-weight: bold\">-2.22380994</span> <span style=\"color: #008080; text-decoration-color: #008080; font-weight: bold\">-3.99245716</span>\n",
       " <span style=\"color: #008080; text-decoration-color: #008080; font-weight: bold\">-2.52681299</span> <span style=\"color: #008080; text-decoration-color: #008080; font-weight: bold\">-1.56843272</span> <span style=\"color: #008080; text-decoration-color: #008080; font-weight: bold\">-1.82980916</span> <span style=\"color: #008080; text-decoration-color: #008080; font-weight: bold\">-3.27512405</span> <span style=\"color: #008080; text-decoration-color: #008080; font-weight: bold\">-1.28285476</span> <span style=\"color: #008080; text-decoration-color: #008080; font-weight: bold\">-1.97308217</span>\n",
       " <span style=\"color: #008080; text-decoration-color: #008080; font-weight: bold\">-1.39805401</span> <span style=\"color: #008080; text-decoration-color: #008080; font-weight: bold\">-3.53746855</span> <span style=\"color: #008080; text-decoration-color: #008080; font-weight: bold\">-3.83756742</span> <span style=\"color: #008080; text-decoration-color: #008080; font-weight: bold\">-1.78043805</span><span style=\"font-weight: bold\">]</span>\n",
       "</pre>\n"
      ],
      "text/plain": [
       " Valores fuera de rango: \u001b[1m[\u001b[0m\u001b[1;36m-2.80271034\u001b[0m \u001b[1;36m-2.93823886\u001b[0m \u001b[1;36m-1.49679622\u001b[0m \u001b[1;36m-3.01471567\u001b[0m \u001b[1;36m-4.27997124\u001b[0m \u001b[1;36m-1.82109661\u001b[0m\n",
       " \u001b[1;36m-2.8878997\u001b[0m  \u001b[1;36m-3.1105537\u001b[0m  \u001b[1;36m-3.60813699\u001b[0m \u001b[1;36m-1.58004945\u001b[0m \u001b[1;36m-2.48712249\u001b[0m \u001b[1;36m-3.41065257\u001b[0m\n",
       " \u001b[1;36m-2.40193314\u001b[0m \u001b[1;36m-1.42225553\u001b[0m \u001b[1;36m-1.91887076\u001b[0m \u001b[1;36m-3.96825564\u001b[0m \u001b[1;36m-3.36999401\u001b[0m \u001b[1;36m-3.89081077\u001b[0m\n",
       " \u001b[1;36m-1.64974983\u001b[0m \u001b[1;36m-2.79980616\u001b[0m \u001b[1;36m-1.58488976\u001b[0m \u001b[1;36m-1.39514982\u001b[0m \u001b[1;36m-1.61005934\u001b[0m \u001b[1;36m-1.39514982\u001b[0m\n",
       " \u001b[1;36m-1.68460003\u001b[0m \u001b[1;36m-2.02148521\u001b[0m \u001b[1;36m-1.69815288\u001b[0m \u001b[1;36m-3.74366551\u001b[0m \u001b[1;36m-1.34674678\u001b[0m \u001b[1;36m-1.9895392\u001b[0m\n",
       " \u001b[1;36m-2.60135368\u001b[0m \u001b[1;36m-2.37289131\u001b[0m \u001b[1;36m-1.77559775\u001b[0m \u001b[1;36m-1.40967074\u001b[0m \u001b[1;36m-3.7243043\u001b[0m  \u001b[1;36m-3.49293775\u001b[0m\n",
       " \u001b[1;36m-3.34676055\u001b[0m \u001b[1;36m-3.33223964\u001b[0m \u001b[1;36m-1.31673689\u001b[0m \u001b[1;36m-1.33513005\u001b[0m \u001b[1;36m-2.22380994\u001b[0m \u001b[1;36m-3.99245716\u001b[0m\n",
       " \u001b[1;36m-2.52681299\u001b[0m \u001b[1;36m-1.56843272\u001b[0m \u001b[1;36m-1.82980916\u001b[0m \u001b[1;36m-3.27512405\u001b[0m \u001b[1;36m-1.28285476\u001b[0m \u001b[1;36m-1.97308217\u001b[0m\n",
       " \u001b[1;36m-1.39805401\u001b[0m \u001b[1;36m-3.53746855\u001b[0m \u001b[1;36m-3.83756742\u001b[0m \u001b[1;36m-1.78043805\u001b[0m\u001b[1m]\u001b[0m\n"
      ]
     },
     "metadata": {},
     "output_type": "display_data"
    },
    {
     "name": "stdout",
     "output_type": "stream",
     "text": [
      "  Rango: [-1.2751102745144152, 1.8652792144157453]\n",
      "  Reemplazando outliers por mediana (0.22490005628006116)\n"
     ]
    },
    {
     "data": {
      "text/html": [
       "<pre style=\"white-space:pre;overflow-x:auto;line-height:normal;font-family:Menlo,'DejaVu Sans Mono',consolas,'Courier New',monospace\">\n",
       "<span style=\"color: #800080; text-decoration-color: #800080; font-weight: bold\"> Outliers en </span><span style=\"color: #800080; text-decoration-color: #800080; font-weight: bold\">'lstat'</span><span style=\"color: #800080; text-decoration-color: #800080; font-weight: bold\">: </span><span style=\"color: #800080; text-decoration-color: #800080; font-weight: bold\">2</span><span style=\"color: #800080; text-decoration-color: #800080; font-weight: bold\"> reemplazados por </span><span style=\"color: #800080; text-decoration-color: #800080; font-weight: bold\">-0.14745701029860347</span>\n",
       "</pre>\n"
      ],
      "text/plain": [
       "\n",
       "\u001b[1;35m Outliers en \u001b[0m\u001b[1;35m'lstat'\u001b[0m\u001b[1;35m: \u001b[0m\u001b[1;35m2\u001b[0m\u001b[1;35m reemplazados por \u001b[0m\u001b[1;35m-0.14745701029860347\u001b[0m\n"
      ]
     },
     "metadata": {},
     "output_type": "display_data"
    },
    {
     "data": {
      "text/html": [
       "<pre style=\"white-space:pre;overflow-x:auto;line-height:normal;font-family:Menlo,'DejaVu Sans Mono',consolas,'Courier New',monospace\"> Valores fuera de rango: <span style=\"font-weight: bold\">[</span><span style=\"color: #008080; text-decoration-color: #008080; font-weight: bold\">2.78962081</span> <span style=\"color: #008080; text-decoration-color: #008080; font-weight: bold\">2.78962081</span><span style=\"font-weight: bold\">]</span>\n",
       "</pre>\n"
      ],
      "text/plain": [
       " Valores fuera de rango: \u001b[1m[\u001b[0m\u001b[1;36m2.78962081\u001b[0m \u001b[1;36m2.78962081\u001b[0m\u001b[1m]\u001b[0m\n"
      ]
     },
     "metadata": {},
     "output_type": "display_data"
    },
    {
     "name": "stdout",
     "output_type": "stream",
     "text": [
      "  Rango: [-2.9651122794791562, 2.77773515231569]\n",
      "  Reemplazando outliers por mediana (-0.14745701029860347)\n"
     ]
    }
   ],
   "source": [
    "data_preprocessor.manejar_outliers(['zn', 'chas', 'crim', 'b', 'lstat'])"
   ]
  },
  {
   "cell_type": "code",
   "execution_count": 12,
   "id": "3c465e1c",
   "metadata": {},
   "outputs": [
    {
     "data": {
      "image/png": "[encoded data removed]",
      "text/plain": [
       "<Figure size 1200x600 with 1 Axes>"
      ]
     },
     "metadata": {},
     "output_type": "display_data"
    }
   ],
   "source": [
    "data_preprocessor.plot_boxplot()"
   ]
  },
  {
   "cell_type": "markdown",
   "id": "ce85123b",
   "metadata": {},
   "source": [
    "## 4. Codificación de Variables Categóricas\n",
    "\n",
    "Este dataset no contiene variables categóricas"
   ]
  },
  {
   "cell_type": "markdown",
   "id": "38a8c259",
   "metadata": {},
   "source": [
    "## 5. Reducción de Dimensionalidad\n",
    "\n",
    "Como este problema es de regresión, para predecir el precio de las viviendas no aplica reducir dimensaionalidad porque no tenemos clases para separar"
   ]
  },
  {
   "cell_type": "markdown",
   "id": "c4db1acf",
   "metadata": {},
   "source": [
    "## 6. Manejo de Datos Desbalanceados\n",
    "\n",
    "Como este problema es de regresión no aplica revisar datos desbalanceados"
   ]
  },
  {
   "cell_type": "markdown",
   "id": "4c56eb27",
   "metadata": {},
   "source": [
    "## 7.  División del Dataset"
   ]
  },
  {
   "cell_type": "code",
   "execution_count": 13,
   "id": "21d68b30",
   "metadata": {},
   "outputs": [
    {
     "name": "stdout",
     "output_type": "stream",
     "text": [
      "Train: (404, 13), Test: (102, 13)\n"
     ]
    }
   ],
   "source": [
    "X_train, X_test, y_train, y_test = data_preprocessor.dividir_datos()"
   ]
  },
  {
   "cell_type": "markdown",
   "id": "c4bd53f3",
   "metadata": {},
   "source": [
    "## 8. Ingeniería de Características"
   ]
  },
  {
   "cell_type": "code",
   "execution_count": 14,
   "id": "dfdf0865",
   "metadata": {},
   "outputs": [
    {
     "data": {
      "application/vnd.microsoft.datawrangler.viewer.v0+json": {
       "columns": [
        {
         "name": "index",
         "rawType": "int64",
         "type": "integer"
        },
        {
         "name": "crim",
         "rawType": "float64",
         "type": "float"
        },
        {
         "name": "zn",
         "rawType": "float64",
         "type": "float"
        },
        {
         "name": "indus",
         "rawType": "float64",
         "type": "float"
        },
        {
         "name": "chas",
         "rawType": "float64",
         "type": "float"
        },
        {
         "name": "nox",
         "rawType": "float64",
         "type": "float"
        },
        {
         "name": "rm",
         "rawType": "float64",
         "type": "float"
        },
        {
         "name": "age",
         "rawType": "float64",
         "type": "float"
        },
        {
         "name": "dis",
         "rawType": "float64",
         "type": "float"
        },
        {
         "name": "rad",
         "rawType": "float64",
         "type": "float"
        },
        {
         "name": "tax",
         "rawType": "float64",
         "type": "float"
        },
        {
         "name": "ptratio",
         "rawType": "float64",
         "type": "float"
        },
        {
         "name": "b",
         "rawType": "float64",
         "type": "float"
        },
        {
         "name": "lstat",
         "rawType": "float64",
         "type": "float"
        },
        {
         "name": "medv",
         "rawType": "float64",
         "type": "float"
        }
       ],
       "conversionMethod": "pd.DataFrame",
       "ref": "b504f353-2c2a-4137-a4f3-c2cdb10af158",
       "rows": [
        [
         "0",
         "-0.5325979900034777",
         "-0.3760446078545245",
         "-1.287909498957745",
         "0.0",
         "-0.14421743255530314",
         "0.4136718893017581",
         "-0.12001341619804987",
         "0.14021360349292905",
         "-0.9828428567665056",
         "-0.6666082090210984",
         "-1.4590003802772022",
         "0.7529772653464589",
         "-1.108874569839554",
         "24.0"
        ],
        [
         "1",
         "-0.5221420331008082",
         "-0.3760446078545245",
         "-0.5933810131002402",
         "0.0",
         "-0.7402622069004932",
         "0.19427445318162764",
         "0.36716641853177445",
         "0.5571598750882428",
         "-0.8678825041257632",
         "-0.9873294849630003",
         "-0.30309414801650153",
         "0.7529772653464589",
         "-0.4810100411597495",
         "21.6"
        ],
        [
         "2",
         "-0.5221519958991909",
         "-0.3760446078545245",
         "-0.5933810131002402",
         "0.0",
         "-0.7402622069004932",
         "1.282713681725651",
         "-0.2658117608982163",
         "0.5571598750882428",
         "-0.8678825041257632",
         "-0.9873294849630003",
         "-0.30309414801650153",
         "0.35897648791286746",
         "-1.2522570944178748",
         "34.7"
        ],
        [
         "3",
         "-0.5196214451099789",
         "-0.3760446078545245",
         "-1.3068777139076349",
         "0.0",
         "-0.8352838375932041",
         "1.0163025092940647",
         "-0.8098885106329836",
         "1.0777366189304816",
         "-0.7529221514850207",
         "-1.1061151427192604",
         "0.11303209559735014",
         "0.5332274459916071",
         "-1.4167696752498429",
         "33.4"
        ],
        [
         "4",
         "-0.5013496728760617",
         "-0.3760446078545245",
         "-1.3068777139076349",
         "0.0",
         "-0.8352838375932041",
         "1.2285766520336716",
         "-0.5111797068570327",
         "1.0777366189304816",
         "-0.7529221514850207",
         "-1.1061151427192604",
         "0.11303209559735014",
         "0.7529772653464589",
         "-1.0560494292054359",
         "36.2"
        ],
        [
         "5",
         "-0.5208767577062022",
         "-0.3760446078545245",
         "-1.3068777139076349",
         "0.0",
         "-0.8352838375932041",
         "0.20709638126656957",
         "-0.3511571334056307",
         "1.0777366189304816",
         "-0.7529221514850207",
         "-1.1061151427192604",
         "0.11303209559735014",
         "0.48385634120263205",
         "-1.0741609059942765",
         "28.7"
        ],
        [
         "6",
         "-0.49176546083188055",
         "-0.3760446078545245",
         "-0.47665353648553344",
         "0.0",
         "-0.26515405343693593",
         "-0.3884109453452136",
         "-0.07022861556872506",
         "0.839243922020929",
         "-0.5230014462035358",
         "-0.5775189657039035",
         "-1.505236629567631",
         "0.6271293511784856",
         "0.015546280800961189",
         "22.9"
        ],
        [
         "7",
         "-0.46374010898127593",
         "-0.3760446078545245",
         "-0.47665353648553344",
         "0.0",
         "-0.26515405343693593",
         "-0.16046555716845437",
         "0.978808254834911",
         "1.024637886132401",
         "-0.5230014462035358",
         "-0.5775189657039035",
         "-1.505236629567631",
         "0.7529772653464589",
         "1.0297889809760299",
         "27.1"
        ],
        [
         "8",
         "-0.43051915777408034",
         "-0.3760446078545245",
         "-0.47665353648553344",
         "0.0",
         "-0.26515405343693593",
         "-0.9312059009411201",
         "1.1174944851594597",
         "1.0871964647915542",
         "-0.5230014462035358",
         "-0.5775189657039035",
         "-1.505236629567631",
         "-0.24122125658056429",
         "2.6568033125068693",
         "16.5"
        ],
        [
         "9",
         "-0.45104252244249327",
         "-0.3760446078545245",
         "-0.47665353648553344",
         "0.0",
         "-0.26515405343693593",
         "-0.39980821475405154",
         "0.6160904216783999",
         "1.3296347255527103",
         "-0.5230014462035358",
         "-0.5775189657039035",
         "-1.505236629567631",
         "-0.23347676955484412",
         "0.7203845858333382",
         "18.9"
        ],
        [
         "10",
         "-0.42371954787787064",
         "-0.3760446078545245",
         "-0.47665353648553344",
         "0.0",
         "-0.26515405343693593",
         "0.13158947143301822",
         "0.9147992254543502",
         "1.2129791389041071",
         "-0.5230014462035358",
         "-0.5775189657039035",
         "-1.505236629567631",
         "0.32896660068819555",
         "1.2259966461884688",
         "15.0"
        ],
        [
         "11",
         "-0.47722973799148516",
         "-0.3760446078545245",
         "-0.47665353648553344",
         "0.0",
         "-0.26515405343693593",
         "-0.39268492137352673",
         "0.5094087060441319",
         "1.1559348422544233",
         "-0.5230014462035358",
         "-0.5775189657039035",
         "-1.505236629567631",
         "0.7529772653464589",
         "0.14232661832284477",
         "18.9"
        ],
        [
         "12",
         "-0.4890306726758226",
         "-0.3760446078545245",
         "-0.47665353648553344",
         "0.0",
         "-0.26515405343693593",
         "-0.5636439625060962",
         "-1.051700399403991",
         "0.7871434644142177",
         "-0.5230014462035358",
         "-0.5775189657039035",
         "-1.505236629567631",
         "0.13341830328872406",
         "0.5105933130292688",
         "21.7"
        ],
        [
         "13",
         "-0.2220376388171828",
         "-0.3760446078545245",
         "-0.4372580131280699",
         "0.0",
         "-0.14421743255530314",
         "-0.47816444193981206",
         "-0.24091936058355387",
         "0.4337540466694266",
         "-0.6379617988442783",
         "-0.6012760972551554",
         "1.1764658292771952",
         "0.7529772653464589",
         "-0.6138275376112466",
         "20.4"
        ],
        [
         "14",
         "-0.21795289148026567",
         "-0.3760446078545245",
         "-0.4372580131280699",
         "0.0",
         "-0.14421743255530314",
         "-0.26873961655241435",
         "0.5663056210490747",
         "0.317003386193074",
         "-0.6379617988442783",
         "-0.6012760972551554",
         "1.1764658292771952",
         "-0.8811094970808222",
         "-0.31196959113057143",
         "18.2"
        ],
        [
         "15",
         "-0.22321823042553568",
         "-0.3760446078545245",
         "-0.4372580131280699",
         "0.0",
         "-0.14421743255530314",
         "-0.6420001896918579",
         "-0.42939039153742736",
         "0.3344494335851022",
         "-0.6379617988442783",
         "-0.6012760972551554",
         "1.1764658292771952",
         "0.6290654729349142",
         "-0.5821324532307757",
         "19.9"
        ],
        [
         "16",
         "-0.010741629317165553",
         "-0.3760446078545245",
         "-0.4372580131280699",
         "0.0",
         "-0.14421743255530314",
         "-0.49810966340527885",
         "-1.396637946621458",
         "0.3344494335851022",
         "-0.6379617988442783",
         "-0.6012760972551554",
         "1.1764658292771952",
         "-0.21992391725982693",
         "-0.8673882126550139",
         "23.1"
        ],
        [
         "17",
         "-0.14510490970578252",
         "-0.3760446078545245",
         "-0.4372580131280699",
         "0.0",
         "-0.14421743255530314",
         "-0.41975343621951705",
         "0.4667360197904245",
         "0.22002808188861175",
         "-0.6379617988442783",
         "-0.6012760972551554",
         "1.1764658292771952",
         "-0.22960452604198128",
         "0.3536271808593175",
         "17.5"
        ],
        [
         "18",
         "-0.13588433980257075",
         "-0.3760446078545245",
         "-0.4372580131280699",
         "0.0",
         "-0.14421743255530314",
         "-1.18052116925945",
         "-1.1370457719114055",
         "0.0006927612705775703",
         "-0.6379617988442783",
         "-0.6012760972551554",
         "1.1764658292771952",
         "0.22441602584095396",
         "-0.09614115939688869",
         "20.2"
        ],
        [
         "19",
         "-0.1741962809833387",
         "-0.3760446078545245",
         "-0.4372580131280699",
         "0.0",
         "-0.14421743255530314",
         "-0.7944386680350646",
         "0.032897042877734275",
         "0.0006927612705775703",
         "-0.6379617988442783",
         "-0.6012760972551554",
         "1.1764658292771952",
         "0.1769810428084076",
         "-0.15802203842542714",
         "18.2"
        ],
        [
         "20",
         "0.08782033508313007",
         "-0.3760446078545245",
         "-0.4372580131280699",
         "0.0",
         "-0.14421743255530314",
         "-1.0181100801835095",
         "1.0499293985910896",
         "0.0013582780648238077",
         "-0.6379617988442783",
         "-0.6012760972551554",
         "1.1764658292771952",
         "-1.21509050006507",
         "1.3120261609354613",
         "13.6"
        ],
        [
         "21",
         "-0.11131109759158025",
         "-0.3760446078545245",
         "-0.4372580131280699",
         "0.0",
         "-0.14421743255530314",
         "-0.45536990312213615",
         "0.7334403088760947",
         "0.10327742141225876",
         "-0.6379617988442783",
         "-0.6012760972551554",
         "1.1764658292771952",
         "0.3299346615664099",
         "0.2268468433374339",
         "19.6"
        ],
        [
         "22",
         "0.07819627184541798",
         "-0.3760446078545245",
         "-0.4372580131280699",
         "0.0",
         "-0.14421743255530314",
         "-0.20320531745159578",
         "0.8223417385713181",
         "0.08644935390060221",
         "-0.6379617988442783",
         "-0.6012760972551554",
         "1.1764658292771952",
         "0.7529772653464589",
         "0.9648895224826847",
         "15.2"
        ],
        [
         "23",
         "-0.04336979402058901",
         "-0.3760446078545245",
         "-0.4372580131280699",
         "0.0",
         "-0.14421743255530314",
         "-0.6719180218900574",
         "1.1174944851594597",
         "0.14268552301441548",
         "-0.6379617988442783",
         "-0.6012760972551554",
         "1.1764658292771952",
         "0.5245148980876726",
         "1.1399671314414763",
         "14.5"
        ],
        [
         "24",
         "-0.16201177856126633",
         "-0.3760446078545245",
         "-0.4372580131280699",
         "0.0",
         "-0.14421743255530314",
         "-0.5137809088424299",
         "0.9076871110787322",
         "0.2873878888491134",
         "-0.6379617988442783",
         "-0.6012760972551554",
         "1.1764658292771952",
         "0.5041856196451495",
         "0.599641407241068",
         "15.6"
        ],
        [
         "25",
         "-0.117039706661647",
         "-0.3760446078545245",
         "-0.4372580131280699",
         "0.0",
         "-0.14421743255530314",
         "-0.9767949785764719",
         "0.6089783073027819",
         "0.31353319148021835",
         "-0.6379617988442783",
         "-0.6012760972551554",
         "1.1764658292771952",
         "0.22441602584095396",
         "0.6313364916215389",
         "13.9"
        ],
        [
         "26",
         "-0.20104104122559044",
         "-0.3760446078545245",
         "-0.4372580131280699",
         "0.0",
         "-0.14421743255530314",
         "-0.6719180218900574",
         "0.7725569379419928",
         "0.4216321336313692",
         "-0.6379617988442783",
         "-0.6012760972551554",
         "1.1764658292771952",
         "-1.1850806128403981",
         "0.3747572371129649",
         "16.6"
        ],
        [
         "27",
         "-0.059639043779578495",
         "-0.3760446078545245",
         "-0.4372580131280699",
         "0.0",
         "-0.14421743255530314",
         "-0.33854789168154736",
         "0.7192160801248587",
         "0.3129627485137216",
         "-0.6379617988442783",
         "-0.6012760972551554",
         "1.1764658292771952",
         "0.22441602584095396",
         "0.7475518010165989",
         "14.8"
        ],
        [
         "28",
         "-0.15068905819929973",
         "-0.3760446078545245",
         "-0.4372580131280699",
         "0.0",
         "-0.14421743255530314",
         "0.29969919521337846",
         "0.9183552826421595",
         "0.31358072839409296",
         "-0.6379617988442783",
         "-0.6012760972551554",
         "1.1764658292771952",
         "-0.114405281534371",
         "0.07139000089988626",
         "18.4"
        ],
        [
         "29",
         "-0.036385872354298965",
         "-0.3760446078545245",
         "-0.4372580131280699",
         "0.0",
         "-0.14421743255530314",
         "0.554713098236128",
         "0.6658752223077247",
         "0.2110436051662864",
         "-0.6379617988442783",
         "-0.6012760972551554",
         "1.1764658292771952",
         "-0.8607802186382992",
         "-0.05237175715719063",
         "21.0"
        ],
        [
         "30",
         "0.027555367666028303",
         "-0.3760446078545245",
         "-0.4372580131280699",
         "0.0",
         "-0.14421743255530314",
         "-0.8143838895005313",
         "0.9076871110787322",
         "0.2081913903338021",
         "-0.6379617988442783",
         "-0.6012760972551554",
         "1.1764658292771952",
         "0.22490005628006116",
         "1.550493938655195",
         "12.7"
        ],
        [
         "31",
         "0.13909387695982284",
         "-0.3760446078545245",
         "-0.4372580131280699",
         "0.0",
         "-0.14421743255530314",
         "-0.30293142477892826",
         "1.1174944851594597",
         "0.180619980286455",
         "-0.6379617988442783",
         "-0.6012760972551554",
         "1.1764658292771952",
         "-1.1996015260136241",
         "0.10761295447756705",
         "14.5"
        ],
        [
         "32",
         "0.15566699206948548",
         "-0.3760446078545245",
         "-0.4372580131280699",
         "0.0",
         "-0.14421743255530314",
         "-0.47673978326370686",
         "0.47740419135385126",
         "0.09267668961819274",
         "-0.6379617988442783",
         "-0.6012760972551554",
         "1.1764658292771952",
         "0.22441602584095396",
         "2.32174099191332",
         "13.2"
        ],
        [
         "33",
         "0.03797147337516699",
         "-0.3760446078545245",
         "-0.4372580131280699",
         "0.0",
         "-0.14421743255530314",
         "-0.8314797936137889",
         "0.9396916257690129",
         "-0.003728171719772962",
         "-0.6379617988442783",
         "-0.6012760972551554",
         "1.1764658292771952",
         "0.22490005628006116",
         "0.9090458023837602",
         "13.1"
        ],
        [
         "34",
         "-0.4086259083280427",
         "-0.3760446078545245",
         "-0.4372580131280699",
         "0.0",
         "-0.14421743255530314",
         "-0.26873961655241435",
         "1.0072567123373828",
         "-0.016753286121450797",
         "-0.6379617988442783",
         "-0.6012760972551554",
         "1.1764658292771952",
         "0.22441602584095396",
         "1.2093944591320318",
         "13.5"
        ],
        [
         "35",
         "-0.5037805956814465",
         "-0.3760446078545245",
         "-0.7553403869031458",
         "0.0",
         "-0.4811123050112801",
         "-0.500958980757488",
         "-0.01333170056378179",
         "-0.20666325705102287",
         "-0.5230014462035358",
         "-0.7675760181139194",
         "0.34421334204949033",
         "0.7529772653464589",
         "-0.39950839560996726",
         "18.9"
        ],
        [
         "36",
         "-0.487207480571784",
         "-0.3760446078545245",
         "-0.7553403869031458",
         "0.0",
         "-0.4811123050112801",
         "-0.6320275789591239",
         "-0.2551435893347896",
         "-0.19829676020906933",
         "-0.5230014462035358",
         "-0.7675760181139194",
         "0.34421334204949033",
         "-1.119252473121763",
         "-0.13840127190418314",
         "20.0"
        ],
        [
         "37",
         "-0.49582530117284085",
         "-0.3760446078545245",
         "-0.7553403869031458",
         "0.0",
         "-0.4811123050112801",
         "-0.619205650874182",
         "-0.9627989697087678",
         "0.06615109167608976",
         "-0.5230014462035358",
         "-0.7675760181139194",
         "0.34421334204949033",
         "0.7529772653464589",
         "-0.5368537612586746",
         "21.0"
        ],
        [
         "38",
         "-0.4485468414476207",
         "-0.3760446078545245",
         "-0.7553403869031458",
         "0.0",
         "-0.4811123050112801",
         "-0.4539452444460309",
         "-1.3646334319311773",
         "0.02484151351894378",
         "-0.5230014462035358",
         "-0.7675760181139194",
         "0.34421334204949033",
         "0.4170601406057825",
         "-0.3315903576518152",
         "24.7"
        ],
        [
         "39",
         "-0.5219826283266846",
         "-0.3760446078545245",
         "-1.1945275176659798",
         "0.0",
         "-1.0944337394824173",
         "0.4421650628238524",
         "-1.6633422357071281",
         "0.7634700813045987",
         "-0.7529221514850207",
         "-0.9279366560848703",
         "-0.07191290156436134",
         "0.6300335338131285",
         "-1.2084876921781769",
         "30.8"
        ],
        [
         "40",
         "-0.5190137144086326",
         "-0.3760446078545245",
         "-1.1945275176659798",
         "0.0",
         "-1.0944337394824173",
         "1.0533436348727878",
         "-1.8767056669756643",
         "0.7634700813045987",
         "-0.7529221514850207",
         "-0.9279366560848703",
         "-0.07191290156436134",
         "0.6290654729349142",
         "-1.561661489560567",
         "34.9"
        ],
        [
         "41",
         "-0.4722632829976969",
         "-0.3760446078545245",
         "-0.6167265084231814",
         "0.0",
         "-0.9216671382229419",
         "0.6914803311421823",
         "-2.3354370442030166",
         "0.9154931318760063",
         "-0.7529221514850207",
         "-1.0407830309533173",
         "-0.25685789872607445",
         "-0.35932468372281756",
         "-1.1300046260932013",
         "26.6"
        ],
        [
         "42",
         "-0.4652594357346414",
         "-0.3760446078545245",
         "-0.6167265084231814",
         "0.0",
         "-0.9216671382229419",
         "-0.16473953319676876",
         "-2.203862928254086",
         "0.9154931318760063",
         "-0.7529221514850207",
         "-1.0407830309533173",
         "-0.25685789872607445",
         "-0.5568091028787232",
         "-0.983603522050074",
         "25.3"
        ],
        [
         "43",
         "-0.4563626567788683",
         "-0.3760446078545245",
         "-0.6167265084231814",
         "0.0",
         "-0.9216671382229419",
         "-0.10490386880036852",
         "-2.2074189854418953",
         "0.9154931318760063",
         "-0.7529221514850207",
         "-1.0407830309533173",
         "-0.25685789872607445",
         "0.5167704110619469",
         "-0.7375892956683234",
         "24.7"
        ],
        [
         "44",
         "-0.47462944761359405",
         "-0.3760446078545245",
         "-0.6167265084231814",
         "0.0",
         "-0.9216671382229419",
         "-0.3072054008072427",
         "-1.0161398275259017",
         "0.9154931318760063",
         "-0.7529221514850207",
         "-1.0407830309533173",
         "-0.25685789872607445",
         "0.02596354580683396",
         "-0.41912916213121104",
         "21.2"
        ],
        [
         "45",
         "-0.4503550893540852",
         "-0.3760446078545245",
         "-0.6167265084231814",
         "0.0",
         "-0.9216671382229419",
         "-0.8585483084597779",
         "-1.2366153731700558",
         "0.6205265812832662",
         "-0.7529221514850207",
         "-1.0407830309533173",
         "-0.25685789872607445",
         "0.7529772653464589",
         "-0.3195160397925882",
         "19.3"
        ],
        [
         "46",
         "-0.4419165991239174",
         "-0.3760446078545245",
         "-0.6167265084231814",
         "0.0",
         "-0.9216671382229419",
         "-0.7103838061448857",
         "-1.2543956591091006",
         "0.6205265812832662",
         "-0.7529221514850207",
         "-1.0407830309533173",
         "-0.25685789872607445",
         "0.7529772653464589",
         "0.275144114774342",
         "20.0"
        ],
        [
         "47",
         "-0.42153769503205396",
         "-0.3760446078545245",
         "-0.6167265084231814",
         "0.0",
         "-0.9216671382229419",
         "-0.36276708917532724",
         "0.601866192927164",
         "0.9005190040054641",
         "-0.7529221514850207",
         "-1.0407830309533173",
         "-0.25685789872607445",
         "0.3502639400089329",
         "0.976963840341912",
         "16.6"
        ],
        [
         "48",
         "-0.40928345302130253",
         "-0.3760446078545245",
         "-0.6167265084231814",
         "0.0",
         "-0.9216671382229419",
         "-1.2617267137974209",
         "0.9503597973324396",
         "0.9863706704632383",
         "-0.7529221514850207",
         "-1.0407830309533173",
         "-0.25685789872607445",
         "0.7529772653464589",
         "-0.14745701029860347",
         "14.4"
        ],
        [
         "49",
         "-0.4262700242638482",
         "-0.3760446078545245",
         "-0.6167265084231814",
         "0.0",
         "-0.9216671382229419",
         "-0.9725210025481575",
         "-0.23380724620793591",
         "1.0898585319685394",
         "-0.7529221514850207",
         "-1.0407830309533173",
         "-0.25685789872607445",
         "0.7529772653464589",
         "0.584548509917034",
         "19.4"
        ]
       ],
       "shape": {
        "columns": 14,
        "rows": 506
       }
      },
      "text/html": [
       "<div>\n",
       "<style scoped>\n",
       "    .dataframe tbody tr th:only-of-type {\n",
       "        vertical-align: middle;\n",
       "    }\n",
       "\n",
       "    .dataframe tbody tr th {\n",
       "        vertical-align: top;\n",
       "    }\n",
       "\n",
       "    .dataframe thead th {\n",
       "        text-align: right;\n",
       "    }\n",
       "</style>\n",
       "<table border=\"1\" class=\"dataframe\">\n",
       "  <thead>\n",
       "    <tr style=\"text-align: right;\">\n",
       "      <th></th>\n",
       "      <th>crim</th>\n",
       "      <th>zn</th>\n",
       "      <th>indus</th>\n",
       "      <th>chas</th>\n",
       "      <th>nox</th>\n",
       "      <th>rm</th>\n",
       "      <th>age</th>\n",
       "      <th>dis</th>\n",
       "      <th>rad</th>\n",
       "      <th>tax</th>\n",
       "      <th>ptratio</th>\n",
       "      <th>b</th>\n",
       "      <th>lstat</th>\n",
       "      <th>medv</th>\n",
       "    </tr>\n",
       "  </thead>\n",
       "  <tbody>\n",
       "    <tr>\n",
       "      <th>0</th>\n",
       "      <td>-0.532598</td>\n",
       "      <td>-0.376045</td>\n",
       "      <td>-1.287909</td>\n",
       "      <td>0.0</td>\n",
       "      <td>-0.144217</td>\n",
       "      <td>0.413672</td>\n",
       "      <td>-0.120013</td>\n",
       "      <td>0.140214</td>\n",
       "      <td>-0.982843</td>\n",
       "      <td>-0.666608</td>\n",
       "      <td>-1.459000</td>\n",
       "      <td>0.752977</td>\n",
       "      <td>-1.108875</td>\n",
       "      <td>24.0</td>\n",
       "    </tr>\n",
       "    <tr>\n",
       "      <th>1</th>\n",
       "      <td>-0.522142</td>\n",
       "      <td>-0.376045</td>\n",
       "      <td>-0.593381</td>\n",
       "      <td>0.0</td>\n",
       "      <td>-0.740262</td>\n",
       "      <td>0.194274</td>\n",
       "      <td>0.367166</td>\n",
       "      <td>0.557160</td>\n",
       "      <td>-0.867883</td>\n",
       "      <td>-0.987329</td>\n",
       "      <td>-0.303094</td>\n",
       "      <td>0.752977</td>\n",
       "      <td>-0.481010</td>\n",
       "      <td>21.6</td>\n",
       "    </tr>\n",
       "    <tr>\n",
       "      <th>2</th>\n",
       "      <td>-0.522152</td>\n",
       "      <td>-0.376045</td>\n",
       "      <td>-0.593381</td>\n",
       "      <td>0.0</td>\n",
       "      <td>-0.740262</td>\n",
       "      <td>1.282714</td>\n",
       "      <td>-0.265812</td>\n",
       "      <td>0.557160</td>\n",
       "      <td>-0.867883</td>\n",
       "      <td>-0.987329</td>\n",
       "      <td>-0.303094</td>\n",
       "      <td>0.358976</td>\n",
       "      <td>-1.252257</td>\n",
       "      <td>34.7</td>\n",
       "    </tr>\n",
       "    <tr>\n",
       "      <th>3</th>\n",
       "      <td>-0.519621</td>\n",
       "      <td>-0.376045</td>\n",
       "      <td>-1.306878</td>\n",
       "      <td>0.0</td>\n",
       "      <td>-0.835284</td>\n",
       "      <td>1.016303</td>\n",
       "      <td>-0.809889</td>\n",
       "      <td>1.077737</td>\n",
       "      <td>-0.752922</td>\n",
       "      <td>-1.106115</td>\n",
       "      <td>0.113032</td>\n",
       "      <td>0.533227</td>\n",
       "      <td>-1.416770</td>\n",
       "      <td>33.4</td>\n",
       "    </tr>\n",
       "    <tr>\n",
       "      <th>4</th>\n",
       "      <td>-0.501350</td>\n",
       "      <td>-0.376045</td>\n",
       "      <td>-1.306878</td>\n",
       "      <td>0.0</td>\n",
       "      <td>-0.835284</td>\n",
       "      <td>1.228577</td>\n",
       "      <td>-0.511180</td>\n",
       "      <td>1.077737</td>\n",
       "      <td>-0.752922</td>\n",
       "      <td>-1.106115</td>\n",
       "      <td>0.113032</td>\n",
       "      <td>0.752977</td>\n",
       "      <td>-1.056049</td>\n",
       "      <td>36.2</td>\n",
       "    </tr>\n",
       "    <tr>\n",
       "      <th>...</th>\n",
       "      <td>...</td>\n",
       "      <td>...</td>\n",
       "      <td>...</td>\n",
       "      <td>...</td>\n",
       "      <td>...</td>\n",
       "      <td>...</td>\n",
       "      <td>...</td>\n",
       "      <td>...</td>\n",
       "      <td>...</td>\n",
       "      <td>...</td>\n",
       "      <td>...</td>\n",
       "      <td>...</td>\n",
       "      <td>...</td>\n",
       "      <td>...</td>\n",
       "    </tr>\n",
       "    <tr>\n",
       "      <th>501</th>\n",
       "      <td>-0.504548</td>\n",
       "      <td>-0.376045</td>\n",
       "      <td>0.115738</td>\n",
       "      <td>0.0</td>\n",
       "      <td>0.158124</td>\n",
       "      <td>0.439316</td>\n",
       "      <td>0.018673</td>\n",
       "      <td>-0.625796</td>\n",
       "      <td>-0.982843</td>\n",
       "      <td>-0.803212</td>\n",
       "      <td>1.176466</td>\n",
       "      <td>0.277659</td>\n",
       "      <td>-0.401018</td>\n",
       "      <td>22.4</td>\n",
       "    </tr>\n",
       "    <tr>\n",
       "      <th>502</th>\n",
       "      <td>-0.513195</td>\n",
       "      <td>-0.376045</td>\n",
       "      <td>0.115738</td>\n",
       "      <td>0.0</td>\n",
       "      <td>0.158124</td>\n",
       "      <td>-0.234548</td>\n",
       "      <td>0.288933</td>\n",
       "      <td>-0.716639</td>\n",
       "      <td>-0.982843</td>\n",
       "      <td>-0.803212</td>\n",
       "      <td>1.176466</td>\n",
       "      <td>0.752977</td>\n",
       "      <td>-0.490066</td>\n",
       "      <td>20.6</td>\n",
       "    </tr>\n",
       "    <tr>\n",
       "      <th>503</th>\n",
       "      <td>-0.505479</td>\n",
       "      <td>-0.376045</td>\n",
       "      <td>0.115738</td>\n",
       "      <td>0.0</td>\n",
       "      <td>0.158124</td>\n",
       "      <td>0.984960</td>\n",
       "      <td>0.797449</td>\n",
       "      <td>-0.773684</td>\n",
       "      <td>-0.982843</td>\n",
       "      <td>-0.803212</td>\n",
       "      <td>1.176466</td>\n",
       "      <td>0.752977</td>\n",
       "      <td>-1.009261</td>\n",
       "      <td>23.9</td>\n",
       "    </tr>\n",
       "    <tr>\n",
       "      <th>504</th>\n",
       "      <td>-0.481155</td>\n",
       "      <td>-0.376045</td>\n",
       "      <td>0.115738</td>\n",
       "      <td>0.0</td>\n",
       "      <td>0.158124</td>\n",
       "      <td>0.725672</td>\n",
       "      <td>0.736996</td>\n",
       "      <td>-0.668437</td>\n",
       "      <td>-0.982843</td>\n",
       "      <td>-0.803212</td>\n",
       "      <td>1.176466</td>\n",
       "      <td>0.418996</td>\n",
       "      <td>-0.882481</td>\n",
       "      <td>22.0</td>\n",
       "    </tr>\n",
       "    <tr>\n",
       "      <th>505</th>\n",
       "      <td>-0.512129</td>\n",
       "      <td>-0.376045</td>\n",
       "      <td>0.115738</td>\n",
       "      <td>0.0</td>\n",
       "      <td>0.158124</td>\n",
       "      <td>-0.362767</td>\n",
       "      <td>0.434732</td>\n",
       "      <td>-0.613246</td>\n",
       "      <td>-0.982843</td>\n",
       "      <td>-0.803212</td>\n",
       "      <td>1.176466</td>\n",
       "      <td>0.752977</td>\n",
       "      <td>-0.671181</td>\n",
       "      <td>11.9</td>\n",
       "    </tr>\n",
       "  </tbody>\n",
       "</table>\n",
       "<p>506 rows × 14 columns</p>\n",
       "</div>"
      ],
      "text/plain": [
       "         crim        zn     indus  chas       nox        rm       age  \\\n",
       "0   -0.532598 -0.376045 -1.287909   0.0 -0.144217  0.413672 -0.120013   \n",
       "1   -0.522142 -0.376045 -0.593381   0.0 -0.740262  0.194274  0.367166   \n",
       "2   -0.522152 -0.376045 -0.593381   0.0 -0.740262  1.282714 -0.265812   \n",
       "3   -0.519621 -0.376045 -1.306878   0.0 -0.835284  1.016303 -0.809889   \n",
       "4   -0.501350 -0.376045 -1.306878   0.0 -0.835284  1.228577 -0.511180   \n",
       "..        ...       ...       ...   ...       ...       ...       ...   \n",
       "501 -0.504548 -0.376045  0.115738   0.0  0.158124  0.439316  0.018673   \n",
       "502 -0.513195 -0.376045  0.115738   0.0  0.158124 -0.234548  0.288933   \n",
       "503 -0.505479 -0.376045  0.115738   0.0  0.158124  0.984960  0.797449   \n",
       "504 -0.481155 -0.376045  0.115738   0.0  0.158124  0.725672  0.736996   \n",
       "505 -0.512129 -0.376045  0.115738   0.0  0.158124 -0.362767  0.434732   \n",
       "\n",
       "          dis       rad       tax   ptratio         b     lstat  medv  \n",
       "0    0.140214 -0.982843 -0.666608 -1.459000  0.752977 -1.108875  24.0  \n",
       "1    0.557160 -0.867883 -0.987329 -0.303094  0.752977 -0.481010  21.6  \n",
       "2    0.557160 -0.867883 -0.987329 -0.303094  0.358976 -1.252257  34.7  \n",
       "3    1.077737 -0.752922 -1.106115  0.113032  0.533227 -1.416770  33.4  \n",
       "4    1.077737 -0.752922 -1.106115  0.113032  0.752977 -1.056049  36.2  \n",
       "..        ...       ...       ...       ...       ...       ...   ...  \n",
       "501 -0.625796 -0.982843 -0.803212  1.176466  0.277659 -0.401018  22.4  \n",
       "502 -0.716639 -0.982843 -0.803212  1.176466  0.752977 -0.490066  20.6  \n",
       "503 -0.773684 -0.982843 -0.803212  1.176466  0.752977 -1.009261  23.9  \n",
       "504 -0.668437 -0.982843 -0.803212  1.176466  0.418996 -0.882481  22.0  \n",
       "505 -0.613246 -0.982843 -0.803212  1.176466  0.752977 -0.671181  11.9  \n",
       "\n",
       "[506 rows x 14 columns]"
      ]
     },
     "execution_count": 14,
     "metadata": {},
     "output_type": "execute_result"
    }
   ],
   "source": [
    "df_boston = data_preprocessor.df\n",
    "df_boston"
   ]
  },
  {
   "cell_type": "code",
   "execution_count": 15,
   "id": "c05eac5f",
   "metadata": {},
   "outputs": [
    {
     "name": "stderr",
     "output_type": "stream",
     "text": [
      "/opt/miniconda3/envs/python39/lib/python3.9/site-packages/pandas/core/arraylike.py:396: RuntimeWarning: invalid value encountered in log1p\n",
      "  result = getattr(ufunc, method)(*inputs, **kwargs)\n"
     ]
    }
   ],
   "source": [
    "df_boston[\"RM_LSTAT\"] = df_boston[\"rm\"] * df_boston[\"lstat\"]\n",
    "df_boston[\"log_TAX\"] = np.log1p(df_boston[\"tax\"])\n"
   ]
  },
  {
   "cell_type": "code",
   "execution_count": 16,
   "id": "ea3a48f3",
   "metadata": {},
   "outputs": [
    {
     "data": {
      "application/vnd.microsoft.datawrangler.viewer.v0+json": {
       "columns": [
        {
         "name": "index",
         "rawType": "int64",
         "type": "integer"
        },
        {
         "name": "crim",
         "rawType": "float64",
         "type": "float"
        },
        {
         "name": "zn",
         "rawType": "float64",
         "type": "float"
        },
        {
         "name": "indus",
         "rawType": "float64",
         "type": "float"
        },
        {
         "name": "chas",
         "rawType": "float64",
         "type": "float"
        },
        {
         "name": "nox",
         "rawType": "float64",
         "type": "float"
        },
        {
         "name": "rm",
         "rawType": "float64",
         "type": "float"
        },
        {
         "name": "age",
         "rawType": "float64",
         "type": "float"
        },
        {
         "name": "dis",
         "rawType": "float64",
         "type": "float"
        },
        {
         "name": "rad",
         "rawType": "float64",
         "type": "float"
        },
        {
         "name": "tax",
         "rawType": "float64",
         "type": "float"
        },
        {
         "name": "ptratio",
         "rawType": "float64",
         "type": "float"
        },
        {
         "name": "b",
         "rawType": "float64",
         "type": "float"
        },
        {
         "name": "lstat",
         "rawType": "float64",
         "type": "float"
        },
        {
         "name": "medv",
         "rawType": "float64",
         "type": "float"
        },
        {
         "name": "RM_LSTAT",
         "rawType": "float64",
         "type": "float"
        },
        {
         "name": "log_TAX",
         "rawType": "float64",
         "type": "float"
        }
       ],
       "conversionMethod": "pd.DataFrame",
       "ref": "96598e84-f0b4-43dc-b046-1421a8a97e7f",
       "rows": [
        [
         "0",
         "-0.5325979900034777",
         "-0.3760446078545245",
         "-1.287909498957745",
         "0.0",
         "-0.14421743255530314",
         "0.4136718893017581",
         "-0.12001341619804987",
         "0.14021360349292905",
         "-0.9828428567665056",
         "-0.6666082090210984",
         "-1.4590003802772022",
         "0.7529772653464589",
         "-1.108874569839554",
         "24.0",
         "-0.45871023830420254",
         "-1.0984369311074407"
        ],
        [
         "1",
         "-0.5221420331008082",
         "-0.3760446078545245",
         "-0.5933810131002402",
         "0.0",
         "-0.7402622069004932",
         "0.19427445318162764",
         "0.36716641853177445",
         "0.5571598750882428",
         "-0.8678825041257632",
         "-0.9873294849630003",
         "-0.30309414801650153",
         "0.7529772653464589",
         "-0.4810100411597495",
         "21.6",
         "-0.09344796272118254",
         "-4.368477635356919"
        ],
        [
         "2",
         "-0.5221519958991909",
         "-0.3760446078545245",
         "-0.5933810131002402",
         "0.0",
         "-0.7402622069004932",
         "1.282713681725651",
         "-0.2658117608982163",
         "0.5571598750882428",
         "-0.8678825041257632",
         "-0.9873294849630003",
         "-0.30309414801650153",
         "0.35897648791286746",
         "-1.2522570944178748",
         "34.7",
         "-1.6062873080478184",
         "-4.368477635356919"
        ],
        [
         "3",
         "-0.5196214451099789",
         "-0.3760446078545245",
         "-1.3068777139076349",
         "0.0",
         "-0.8352838375932041",
         "1.0163025092940647",
         "-0.8098885106329836",
         "1.0777366189304816",
         "-0.7529221514850207",
         "-1.1061151427192604",
         "0.11303209559735014",
         "0.5332274459916071",
         "-1.4167696752498429",
         "33.4",
         "-1.4398665760481526",
         null
        ],
        [
         "4",
         "-0.5013496728760617",
         "-0.3760446078545245",
         "-1.3068777139076349",
         "0.0",
         "-0.8352838375932041",
         "1.2285766520336716",
         "-0.5111797068570327",
         "1.0777366189304816",
         "-0.7529221514850207",
         "-1.1061151427192604",
         "0.11303209559735014",
         "0.7529772653464589",
         "-1.0560494292054359",
         "36.2",
         "-1.2974376721152843",
         null
        ],
        [
         "5",
         "-0.5208767577062022",
         "-0.3760446078545245",
         "-1.3068777139076349",
         "0.0",
         "-0.8352838375932041",
         "0.20709638126656957",
         "-0.3511571334056307",
         "1.0777366189304816",
         "-0.7529221514850207",
         "-1.1061151427192604",
         "0.11303209559735014",
         "0.48385634120263205",
         "-1.0741609059942765",
         "28.7",
         "-0.22245483652943449",
         null
        ],
        [
         "6",
         "-0.49176546083188055",
         "-0.3760446078545245",
         "-0.47665353648553344",
         "0.0",
         "-0.26515405343693593",
         "-0.3884109453452136",
         "-0.07022861556872506",
         "0.839243922020929",
         "-0.5230014462035358",
         "-0.5775189657039035",
         "-1.505236629567631",
         "0.6271293511784856",
         "0.015546280800961189",
         "22.9",
         "-0.00603834562250348",
         "-0.8616107224324688"
        ],
        [
         "7",
         "-0.46374010898127593",
         "-0.3760446078545245",
         "-0.47665353648553344",
         "0.0",
         "-0.26515405343693593",
         "-0.16046555716845437",
         "0.978808254834911",
         "1.024637886132401",
         "-0.5230014462035358",
         "-0.5775189657039035",
         "-1.505236629567631",
         "0.7529772653464589",
         "1.0297889809760299",
         "27.1",
         "-0.1652456625982535",
         "-0.8616107224324688"
        ],
        [
         "8",
         "-0.43051915777408034",
         "-0.3760446078545245",
         "-0.47665353648553344",
         "0.0",
         "-0.26515405343693593",
         "-0.9312059009411201",
         "1.1174944851594597",
         "1.0871964647915542",
         "-0.5230014462035358",
         "-0.5775189657039035",
         "-1.505236629567631",
         "-0.24122125658056429",
         "2.6568033125068693",
         "16.5",
         "-2.4740309222463113",
         "-0.8616107224324688"
        ],
        [
         "9",
         "-0.45104252244249327",
         "-0.3760446078545245",
         "-0.47665353648553344",
         "0.0",
         "-0.26515405343693593",
         "-0.39980821475405154",
         "0.6160904216783999",
         "1.3296347255527103",
         "-0.5230014462035358",
         "-0.5775189657039035",
         "-1.505236629567631",
         "-0.23347676955484412",
         "0.7203845858333382",
         "18.9",
         "-0.28801567519836374",
         "-0.8616107224324688"
        ],
        [
         "10",
         "-0.42371954787787064",
         "-0.3760446078545245",
         "-0.47665353648553344",
         "0.0",
         "-0.26515405343693593",
         "0.13158947143301822",
         "0.9147992254543502",
         "1.2129791389041071",
         "-0.5230014462035358",
         "-0.5775189657039035",
         "-1.505236629567631",
         "0.32896660068819555",
         "1.2259966461884688",
         "15.0",
         "0.16132825065059367",
         "-0.8616107224324688"
        ],
        [
         "11",
         "-0.47722973799148516",
         "-0.3760446078545245",
         "-0.47665353648553344",
         "0.0",
         "-0.26515405343693593",
         "-0.39268492137352673",
         "0.5094087060441319",
         "1.1559348422544233",
         "-0.5230014462035358",
         "-0.5775189657039035",
         "-1.505236629567631",
         "0.7529772653464589",
         "0.14232661832284477",
         "18.9",
         "-0.055889516925466246",
         "-0.8616107224324688"
        ],
        [
         "12",
         "-0.4890306726758226",
         "-0.3760446078545245",
         "-0.47665353648553344",
         "0.0",
         "-0.26515405343693593",
         "-0.5636439625060962",
         "-1.051700399403991",
         "0.7871434644142177",
         "-0.5230014462035358",
         "-0.5775189657039035",
         "-1.505236629567631",
         "0.13341830328872406",
         "0.5105933130292688",
         "21.7",
         "-0.2877928381849326",
         "-0.8616107224324688"
        ],
        [
         "13",
         "-0.2220376388171828",
         "-0.3760446078545245",
         "-0.4372580131280699",
         "0.0",
         "-0.14421743255530314",
         "-0.47816444193981206",
         "-0.24091936058355387",
         "0.4337540466694266",
         "-0.6379617988442783",
         "-0.6012760972551554",
         "1.1764658292771952",
         "0.7529772653464589",
         "-0.6138275376112466",
         "20.4",
         "0.2935105019691707",
         "-0.9194860746867062"
        ],
        [
         "14",
         "-0.21795289148026567",
         "-0.3760446078545245",
         "-0.4372580131280699",
         "0.0",
         "-0.14421743255530314",
         "-0.26873961655241435",
         "0.5663056210490747",
         "0.317003386193074",
         "-0.6379617988442783",
         "-0.6012760972551554",
         "1.1764658292771952",
         "-0.8811094970808222",
         "-0.31196959113057143",
         "18.2",
         "0.08383858829644325",
         "-0.9194860746867062"
        ],
        [
         "15",
         "-0.22321823042553568",
         "-0.3760446078545245",
         "-0.4372580131280699",
         "0.0",
         "-0.14421743255530314",
         "-0.6420001896918579",
         "-0.42939039153742736",
         "0.3344494335851022",
         "-0.6379617988442783",
         "-0.6012760972551554",
         "1.1764658292771952",
         "0.6290654729349142",
         "-0.5821324532307757",
         "19.9",
         "0.37372914539994456",
         "-0.9194860746867062"
        ],
        [
         "16",
         "-0.010741629317165553",
         "-0.3760446078545245",
         "-0.4372580131280699",
         "0.0",
         "-0.14421743255530314",
         "-0.49810966340527885",
         "-1.396637946621458",
         "0.3344494335851022",
         "-0.6379617988442783",
         "-0.6012760972551554",
         "1.1764658292771952",
         "-0.21992391725982693",
         "-0.8673882126550139",
         "23.1",
         "0.43205445064729536",
         "-0.9194860746867062"
        ],
        [
         "17",
         "-0.14510490970578252",
         "-0.3760446078545245",
         "-0.4372580131280699",
         "0.0",
         "-0.14421743255530314",
         "-0.41975343621951705",
         "0.4667360197904245",
         "0.22002808188861175",
         "-0.6379617988442783",
         "-0.6012760972551554",
         "1.1764658292771952",
         "-0.22960452604198128",
         "0.3536271808593175",
         "17.5",
         "-0.14843622430631914",
         "-0.9194860746867062"
        ],
        [
         "18",
         "-0.13588433980257075",
         "-0.3760446078545245",
         "-0.4372580131280699",
         "0.0",
         "-0.14421743255530314",
         "-1.18052116925945",
         "-1.1370457719114055",
         "0.0006927612705775703",
         "-0.6379617988442783",
         "-0.6012760972551554",
         "1.1764658292771952",
         "0.22441602584095396",
         "-0.09614115939688869",
         "20.2",
         "0.11349667390517419",
         "-0.9194860746867062"
        ],
        [
         "19",
         "-0.1741962809833387",
         "-0.3760446078545245",
         "-0.4372580131280699",
         "0.0",
         "-0.14421743255530314",
         "-0.7944386680350646",
         "0.032897042877734275",
         "0.0006927612705775703",
         "-0.6379617988442783",
         "-0.6012760972551554",
         "1.1764658292771952",
         "0.1769810428084076",
         "-0.15802203842542714",
         "18.2",
         "0.12553881772688213",
         "-0.9194860746867062"
        ],
        [
         "20",
         "0.08782033508313007",
         "-0.3760446078545245",
         "-0.4372580131280699",
         "0.0",
         "-0.14421743255530314",
         "-1.0181100801835095",
         "1.0499293985910896",
         "0.0013582780648238077",
         "-0.6379617988442783",
         "-0.6012760972551554",
         "1.1764658292771952",
         "-1.21509050006507",
         "1.3120261609354613",
         "13.6",
         "-1.3357870599128645",
         "-0.9194860746867062"
        ],
        [
         "21",
         "-0.11131109759158025",
         "-0.3760446078545245",
         "-0.4372580131280699",
         "0.0",
         "-0.14421743255530314",
         "-0.45536990312213615",
         "0.7334403088760947",
         "0.10327742141225876",
         "-0.6379617988442783",
         "-0.6012760972551554",
         "1.1764658292771952",
         "0.3299346615664099",
         "0.2268468433374339",
         "19.6",
         "-0.10329922507412967",
         "-0.9194860746867062"
        ],
        [
         "22",
         "0.07819627184541798",
         "-0.3760446078545245",
         "-0.4372580131280699",
         "0.0",
         "-0.14421743255530314",
         "-0.20320531745159578",
         "0.8223417385713181",
         "0.08644935390060221",
         "-0.6379617988442783",
         "-0.6012760972551554",
         "1.1764658292771952",
         "0.7529772653464589",
         "0.9648895224826847",
         "15.2",
         "-0.1960706817218126",
         "-0.9194860746867062"
        ],
        [
         "23",
         "-0.04336979402058901",
         "-0.3760446078545245",
         "-0.4372580131280699",
         "0.0",
         "-0.14421743255530314",
         "-0.6719180218900574",
         "1.1174944851594597",
         "0.14268552301441548",
         "-0.6379617988442783",
         "-0.6012760972551554",
         "1.1764658292771952",
         "0.5245148980876726",
         "1.1399671314414763",
         "14.5",
         "-0.7659644599778399",
         "-0.9194860746867062"
        ],
        [
         "24",
         "-0.16201177856126633",
         "-0.3760446078545245",
         "-0.4372580131280699",
         "0.0",
         "-0.14421743255530314",
         "-0.5137809088424299",
         "0.9076871110787322",
         "0.2873878888491134",
         "-0.6379617988442783",
         "-0.6012760972551554",
         "1.1764658292771952",
         "0.5041856196451495",
         "0.599641407241068",
         "15.6",
         "-0.3080843071918695",
         "-0.9194860746867062"
        ],
        [
         "25",
         "-0.117039706661647",
         "-0.3760446078545245",
         "-0.4372580131280699",
         "0.0",
         "-0.14421743255530314",
         "-0.9767949785764719",
         "0.6089783073027819",
         "0.31353319148021835",
         "-0.6379617988442783",
         "-0.6012760972551554",
         "1.1764658292771952",
         "0.22441602584095396",
         "0.6313364916215389",
         "13.9",
         "-0.6166863148080061",
         "-0.9194860746867062"
        ],
        [
         "26",
         "-0.20104104122559044",
         "-0.3760446078545245",
         "-0.4372580131280699",
         "0.0",
         "-0.14421743255530314",
         "-0.6719180218900574",
         "0.7725569379419928",
         "0.4216321336313692",
         "-0.6379617988442783",
         "-0.6012760972551554",
         "1.1764658292771952",
         "-1.1850806128403981",
         "0.3747572371129649",
         "16.6",
         "-0.2518061414499266",
         "-0.9194860746867062"
        ],
        [
         "27",
         "-0.059639043779578495",
         "-0.3760446078545245",
         "-0.4372580131280699",
         "0.0",
         "-0.14421743255530314",
         "-0.33854789168154736",
         "0.7192160801248587",
         "0.3129627485137216",
         "-0.6379617988442783",
         "-0.6012760972551554",
         "1.1764658292771952",
         "0.22441602584095396",
         "0.7475518010165989",
         "14.8",
         "-0.2530820861569132",
         "-0.9194860746867062"
        ],
        [
         "28",
         "-0.15068905819929973",
         "-0.3760446078545245",
         "-0.4372580131280699",
         "0.0",
         "-0.14421743255530314",
         "0.29969919521337846",
         "0.9183552826421595",
         "0.31358072839409296",
         "-0.6379617988442783",
         "-0.6012760972551554",
         "1.1764658292771952",
         "-0.114405281534371",
         "0.07139000089988626",
         "18.4",
         "0.021395525815978277",
         "-0.9194860746867062"
        ],
        [
         "29",
         "-0.036385872354298965",
         "-0.3760446078545245",
         "-0.4372580131280699",
         "0.0",
         "-0.14421743255530314",
         "0.554713098236128",
         "0.6658752223077247",
         "0.2110436051662864",
         "-0.6379617988442783",
         "-0.6012760972551554",
         "1.1764658292771952",
         "-0.8607802186382992",
         "-0.05237175715719063",
         "21.0",
         "-0.02905129967273533",
         "-0.9194860746867062"
        ],
        [
         "30",
         "0.027555367666028303",
         "-0.3760446078545245",
         "-0.4372580131280699",
         "0.0",
         "-0.14421743255530314",
         "-0.8143838895005313",
         "0.9076871110787322",
         "0.2081913903338021",
         "-0.6379617988442783",
         "-0.6012760972551554",
         "1.1764658292771952",
         "0.22490005628006116",
         "1.550493938655195",
         "12.7",
         "-1.2626972844090159",
         "-0.9194860746867062"
        ],
        [
         "31",
         "0.13909387695982284",
         "-0.3760446078545245",
         "-0.4372580131280699",
         "0.0",
         "-0.14421743255530314",
         "-0.30293142477892826",
         "1.1174944851594597",
         "0.180619980286455",
         "-0.6379617988442783",
         "-0.6012760972551554",
         "1.1764658292771952",
         "-1.1996015260136241",
         "0.10761295447756705",
         "14.5",
         "-0.03259934562455934",
         "-0.9194860746867062"
        ],
        [
         "32",
         "0.15566699206948548",
         "-0.3760446078545245",
         "-0.4372580131280699",
         "0.0",
         "-0.14421743255530314",
         "-0.47673978326370686",
         "0.47740419135385126",
         "0.09267668961819274",
         "-0.6379617988442783",
         "-0.6012760972551554",
         "1.1764658292771952",
         "0.22441602584095396",
         "2.32174099191332",
         "13.2",
         "-1.10686629727922",
         "-0.9194860746867062"
        ],
        [
         "33",
         "0.03797147337516699",
         "-0.3760446078545245",
         "-0.4372580131280699",
         "0.0",
         "-0.14421743255530314",
         "-0.8314797936137889",
         "0.9396916257690129",
         "-0.003728171719772962",
         "-0.6379617988442783",
         "-0.6012760972551554",
         "1.1764658292771952",
         "0.22490005628006116",
         "0.9090458023837602",
         "13.1",
         "-0.75585321615153",
         "-0.9194860746867062"
        ],
        [
         "34",
         "-0.4086259083280427",
         "-0.3760446078545245",
         "-0.4372580131280699",
         "0.0",
         "-0.14421743255530314",
         "-0.26873961655241435",
         "1.0072567123373828",
         "-0.016753286121450797",
         "-0.6379617988442783",
         "-0.6012760972551554",
         "1.1764658292771952",
         "0.22441602584095396",
         "1.2093944591320318",
         "13.5",
         "-0.32501220320775676",
         "-0.9194860746867062"
        ],
        [
         "35",
         "-0.5037805956814465",
         "-0.3760446078545245",
         "-0.7553403869031458",
         "0.0",
         "-0.4811123050112801",
         "-0.500958980757488",
         "-0.01333170056378179",
         "-0.20666325705102287",
         "-0.5230014462035358",
         "-0.7675760181139194",
         "0.34421334204949033",
         "0.7529772653464589",
         "-0.39950839560996726",
         "18.9",
         "0.2001373186688285",
         "-1.4591920670474405"
        ],
        [
         "36",
         "-0.487207480571784",
         "-0.3760446078545245",
         "-0.7553403869031458",
         "0.0",
         "-0.4811123050112801",
         "-0.6320275789591239",
         "-0.2551435893347896",
         "-0.19829676020906933",
         "-0.5230014462035358",
         "-0.7675760181139194",
         "0.34421334204949033",
         "-1.119252473121763",
         "-0.13840127190418314",
         "20.0",
         "0.08747342080646428",
         "-1.4591920670474405"
        ],
        [
         "37",
         "-0.49582530117284085",
         "-0.3760446078545245",
         "-0.7553403869031458",
         "0.0",
         "-0.4811123050112801",
         "-0.619205650874182",
         "-0.9627989697087678",
         "0.06615109167608976",
         "-0.5230014462035358",
         "-0.7675760181139194",
         "0.34421334204949033",
         "0.7529772653464589",
         "-0.5368537612586746",
         "21.0",
         "0.3324228826644303",
         "-1.4591920670474405"
        ],
        [
         "38",
         "-0.4485468414476207",
         "-0.3760446078545245",
         "-0.7553403869031458",
         "0.0",
         "-0.4811123050112801",
         "-0.4539452444460309",
         "-1.3646334319311773",
         "0.02484151351894378",
         "-0.5230014462035358",
         "-0.7675760181139194",
         "0.34421334204949033",
         "0.4170601406057825",
         "-0.3315903576518152",
         "24.7",
         "0.15052386596020007",
         "-1.4591920670474405"
        ],
        [
         "39",
         "-0.5219826283266846",
         "-0.3760446078545245",
         "-1.1945275176659798",
         "0.0",
         "-1.0944337394824173",
         "0.4421650628238524",
         "-1.6633422357071281",
         "0.7634700813045987",
         "-0.7529221514850207",
         "-0.9279366560848703",
         "-0.07191290156436134",
         "0.6300335338131285",
         "-1.2084876921781769",
         "30.8",
         "-0.534351036333816",
         "-2.6302097701436558"
        ],
        [
         "40",
         "-0.5190137144086326",
         "-0.3760446078545245",
         "-1.1945275176659798",
         "0.0",
         "-1.0944337394824173",
         "1.0533436348727878",
         "-1.8767056669756643",
         "0.7634700813045987",
         "-0.7529221514850207",
         "-0.9279366560848703",
         "-0.07191290156436134",
         "0.6290654729349142",
         "-1.561661489560567",
         "34.9",
         "-1.6449661898545798",
         "-2.6302097701436558"
        ],
        [
         "41",
         "-0.4722632829976969",
         "-0.3760446078545245",
         "-0.6167265084231814",
         "0.0",
         "-0.9216671382229419",
         "0.6914803311421823",
         "-2.3354370442030166",
         "0.9154931318760063",
         "-0.7529221514850207",
         "-1.0407830309533173",
         "-0.25685789872607445",
         "-0.35932468372281756",
         "-1.1300046260932013",
         "26.6",
         "-0.7813759730431248",
         null
        ],
        [
         "42",
         "-0.4652594357346414",
         "-0.3760446078545245",
         "-0.6167265084231814",
         "0.0",
         "-0.9216671382229419",
         "-0.16473953319676876",
         "-2.203862928254086",
         "0.9154931318760063",
         "-0.7529221514850207",
         "-1.0407830309533173",
         "-0.25685789872607445",
         "-0.5568091028787232",
         "-0.983603522050074",
         "25.3",
         "0.16203838507322682",
         null
        ],
        [
         "43",
         "-0.4563626567788683",
         "-0.3760446078545245",
         "-0.6167265084231814",
         "0.0",
         "-0.9216671382229419",
         "-0.10490386880036852",
         "-2.2074189854418953",
         "0.9154931318760063",
         "-0.7529221514850207",
         "-1.0407830309533173",
         "-0.25685789872607445",
         "0.5167704110619469",
         "-0.7375892956683234",
         "24.7",
         "0.07737597070134603",
         null
        ],
        [
         "44",
         "-0.47462944761359405",
         "-0.3760446078545245",
         "-0.6167265084231814",
         "0.0",
         "-0.9216671382229419",
         "-0.3072054008072427",
         "-1.0161398275259017",
         "0.9154931318760063",
         "-0.7529221514850207",
         "-1.0407830309533173",
         "-0.25685789872607445",
         "0.02596354580683396",
         "-0.41912916213121104",
         "21.2",
         "0.12875874224252248",
         null
        ],
        [
         "45",
         "-0.4503550893540852",
         "-0.3760446078545245",
         "-0.6167265084231814",
         "0.0",
         "-0.9216671382229419",
         "-0.8585483084597779",
         "-1.2366153731700558",
         "0.6205265812832662",
         "-0.7529221514850207",
         "-1.0407830309533173",
         "-0.25685789872607445",
         "0.7529772653464589",
         "-0.3195160397925882",
         "19.3",
         "0.2743199554896937",
         null
        ],
        [
         "46",
         "-0.4419165991239174",
         "-0.3760446078545245",
         "-0.6167265084231814",
         "0.0",
         "-0.9216671382229419",
         "-0.7103838061448857",
         "-1.2543956591091006",
         "0.6205265812832662",
         "-0.7529221514850207",
         "-1.0407830309533173",
         "-0.25685789872607445",
         "0.7529772653464589",
         "0.275144114774342",
         "20.0",
         "-0.19545792349176233",
         null
        ],
        [
         "47",
         "-0.42153769503205396",
         "-0.3760446078545245",
         "-0.6167265084231814",
         "0.0",
         "-0.9216671382229419",
         "-0.36276708917532724",
         "0.601866192927164",
         "0.9005190040054641",
         "-0.7529221514850207",
         "-1.0407830309533173",
         "-0.25685789872607445",
         "0.3502639400089329",
         "0.976963840341912",
         "16.6",
         "-0.35441032859038457",
         null
        ],
        [
         "48",
         "-0.40928345302130253",
         "-0.3760446078545245",
         "-0.6167265084231814",
         "0.0",
         "-0.9216671382229419",
         "-1.2617267137974209",
         "0.9503597973324396",
         "0.9863706704632383",
         "-0.7529221514850207",
         "-1.0407830309533173",
         "-0.25685789872607445",
         "0.7529772653464589",
         "-0.14745701029860347",
         "14.4",
         "0.1860504490304494",
         null
        ],
        [
         "49",
         "-0.4262700242638482",
         "-0.3760446078545245",
         "-0.6167265084231814",
         "0.0",
         "-0.9216671382229419",
         "-0.9725210025481575",
         "-0.23380724620793591",
         "1.0898585319685394",
         "-0.7529221514850207",
         "-1.0407830309533173",
         "-0.25685789872607445",
         "0.7529772653464589",
         "0.584548509917034",
         "19.4",
         "-0.5684857029025455",
         null
        ]
       ],
       "shape": {
        "columns": 16,
        "rows": 506
       }
      },
      "text/html": [
       "<div>\n",
       "<style scoped>\n",
       "    .dataframe tbody tr th:only-of-type {\n",
       "        vertical-align: middle;\n",
       "    }\n",
       "\n",
       "    .dataframe tbody tr th {\n",
       "        vertical-align: top;\n",
       "    }\n",
       "\n",
       "    .dataframe thead th {\n",
       "        text-align: right;\n",
       "    }\n",
       "</style>\n",
       "<table border=\"1\" class=\"dataframe\">\n",
       "  <thead>\n",
       "    <tr style=\"text-align: right;\">\n",
       "      <th></th>\n",
       "      <th>crim</th>\n",
       "      <th>zn</th>\n",
       "      <th>indus</th>\n",
       "      <th>chas</th>\n",
       "      <th>nox</th>\n",
       "      <th>rm</th>\n",
       "      <th>age</th>\n",
       "      <th>dis</th>\n",
       "      <th>rad</th>\n",
       "      <th>tax</th>\n",
       "      <th>ptratio</th>\n",
       "      <th>b</th>\n",
       "      <th>lstat</th>\n",
       "      <th>medv</th>\n",
       "      <th>RM_LSTAT</th>\n",
       "      <th>log_TAX</th>\n",
       "    </tr>\n",
       "  </thead>\n",
       "  <tbody>\n",
       "    <tr>\n",
       "      <th>0</th>\n",
       "      <td>-0.532598</td>\n",
       "      <td>-0.376045</td>\n",
       "      <td>-1.287909</td>\n",
       "      <td>0.0</td>\n",
       "      <td>-0.144217</td>\n",
       "      <td>0.413672</td>\n",
       "      <td>-0.120013</td>\n",
       "      <td>0.140214</td>\n",
       "      <td>-0.982843</td>\n",
       "      <td>-0.666608</td>\n",
       "      <td>-1.459000</td>\n",
       "      <td>0.752977</td>\n",
       "      <td>-1.108875</td>\n",
       "      <td>24.0</td>\n",
       "      <td>-0.458710</td>\n",
       "      <td>-1.098437</td>\n",
       "    </tr>\n",
       "    <tr>\n",
       "      <th>1</th>\n",
       "      <td>-0.522142</td>\n",
       "      <td>-0.376045</td>\n",
       "      <td>-0.593381</td>\n",
       "      <td>0.0</td>\n",
       "      <td>-0.740262</td>\n",
       "      <td>0.194274</td>\n",
       "      <td>0.367166</td>\n",
       "      <td>0.557160</td>\n",
       "      <td>-0.867883</td>\n",
       "      <td>-0.987329</td>\n",
       "      <td>-0.303094</td>\n",
       "      <td>0.752977</td>\n",
       "      <td>-0.481010</td>\n",
       "      <td>21.6</td>\n",
       "      <td>-0.093448</td>\n",
       "      <td>-4.368478</td>\n",
       "    </tr>\n",
       "    <tr>\n",
       "      <th>2</th>\n",
       "      <td>-0.522152</td>\n",
       "      <td>-0.376045</td>\n",
       "      <td>-0.593381</td>\n",
       "      <td>0.0</td>\n",
       "      <td>-0.740262</td>\n",
       "      <td>1.282714</td>\n",
       "      <td>-0.265812</td>\n",
       "      <td>0.557160</td>\n",
       "      <td>-0.867883</td>\n",
       "      <td>-0.987329</td>\n",
       "      <td>-0.303094</td>\n",
       "      <td>0.358976</td>\n",
       "      <td>-1.252257</td>\n",
       "      <td>34.7</td>\n",
       "      <td>-1.606287</td>\n",
       "      <td>-4.368478</td>\n",
       "    </tr>\n",
       "    <tr>\n",
       "      <th>3</th>\n",
       "      <td>-0.519621</td>\n",
       "      <td>-0.376045</td>\n",
       "      <td>-1.306878</td>\n",
       "      <td>0.0</td>\n",
       "      <td>-0.835284</td>\n",
       "      <td>1.016303</td>\n",
       "      <td>-0.809889</td>\n",
       "      <td>1.077737</td>\n",
       "      <td>-0.752922</td>\n",
       "      <td>-1.106115</td>\n",
       "      <td>0.113032</td>\n",
       "      <td>0.533227</td>\n",
       "      <td>-1.416770</td>\n",
       "      <td>33.4</td>\n",
       "      <td>-1.439867</td>\n",
       "      <td>NaN</td>\n",
       "    </tr>\n",
       "    <tr>\n",
       "      <th>4</th>\n",
       "      <td>-0.501350</td>\n",
       "      <td>-0.376045</td>\n",
       "      <td>-1.306878</td>\n",
       "      <td>0.0</td>\n",
       "      <td>-0.835284</td>\n",
       "      <td>1.228577</td>\n",
       "      <td>-0.511180</td>\n",
       "      <td>1.077737</td>\n",
       "      <td>-0.752922</td>\n",
       "      <td>-1.106115</td>\n",
       "      <td>0.113032</td>\n",
       "      <td>0.752977</td>\n",
       "      <td>-1.056049</td>\n",
       "      <td>36.2</td>\n",
       "      <td>-1.297438</td>\n",
       "      <td>NaN</td>\n",
       "    </tr>\n",
       "    <tr>\n",
       "      <th>...</th>\n",
       "      <td>...</td>\n",
       "      <td>...</td>\n",
       "      <td>...</td>\n",
       "      <td>...</td>\n",
       "      <td>...</td>\n",
       "      <td>...</td>\n",
       "      <td>...</td>\n",
       "      <td>...</td>\n",
       "      <td>...</td>\n",
       "      <td>...</td>\n",
       "      <td>...</td>\n",
       "      <td>...</td>\n",
       "      <td>...</td>\n",
       "      <td>...</td>\n",
       "      <td>...</td>\n",
       "      <td>...</td>\n",
       "    </tr>\n",
       "    <tr>\n",
       "      <th>501</th>\n",
       "      <td>-0.504548</td>\n",
       "      <td>-0.376045</td>\n",
       "      <td>0.115738</td>\n",
       "      <td>0.0</td>\n",
       "      <td>0.158124</td>\n",
       "      <td>0.439316</td>\n",
       "      <td>0.018673</td>\n",
       "      <td>-0.625796</td>\n",
       "      <td>-0.982843</td>\n",
       "      <td>-0.803212</td>\n",
       "      <td>1.176466</td>\n",
       "      <td>0.277659</td>\n",
       "      <td>-0.401018</td>\n",
       "      <td>22.4</td>\n",
       "      <td>-0.176173</td>\n",
       "      <td>-1.625627</td>\n",
       "    </tr>\n",
       "    <tr>\n",
       "      <th>502</th>\n",
       "      <td>-0.513195</td>\n",
       "      <td>-0.376045</td>\n",
       "      <td>0.115738</td>\n",
       "      <td>0.0</td>\n",
       "      <td>0.158124</td>\n",
       "      <td>-0.234548</td>\n",
       "      <td>0.288933</td>\n",
       "      <td>-0.716639</td>\n",
       "      <td>-0.982843</td>\n",
       "      <td>-0.803212</td>\n",
       "      <td>1.176466</td>\n",
       "      <td>0.752977</td>\n",
       "      <td>-0.490066</td>\n",
       "      <td>20.6</td>\n",
       "      <td>0.114944</td>\n",
       "      <td>-1.625627</td>\n",
       "    </tr>\n",
       "    <tr>\n",
       "      <th>503</th>\n",
       "      <td>-0.505479</td>\n",
       "      <td>-0.376045</td>\n",
       "      <td>0.115738</td>\n",
       "      <td>0.0</td>\n",
       "      <td>0.158124</td>\n",
       "      <td>0.984960</td>\n",
       "      <td>0.797449</td>\n",
       "      <td>-0.773684</td>\n",
       "      <td>-0.982843</td>\n",
       "      <td>-0.803212</td>\n",
       "      <td>1.176466</td>\n",
       "      <td>0.752977</td>\n",
       "      <td>-1.009261</td>\n",
       "      <td>23.9</td>\n",
       "      <td>-0.994082</td>\n",
       "      <td>-1.625627</td>\n",
       "    </tr>\n",
       "    <tr>\n",
       "      <th>504</th>\n",
       "      <td>-0.481155</td>\n",
       "      <td>-0.376045</td>\n",
       "      <td>0.115738</td>\n",
       "      <td>0.0</td>\n",
       "      <td>0.158124</td>\n",
       "      <td>0.725672</td>\n",
       "      <td>0.736996</td>\n",
       "      <td>-0.668437</td>\n",
       "      <td>-0.982843</td>\n",
       "      <td>-0.803212</td>\n",
       "      <td>1.176466</td>\n",
       "      <td>0.418996</td>\n",
       "      <td>-0.882481</td>\n",
       "      <td>22.0</td>\n",
       "      <td>-0.640392</td>\n",
       "      <td>-1.625627</td>\n",
       "    </tr>\n",
       "    <tr>\n",
       "      <th>505</th>\n",
       "      <td>-0.512129</td>\n",
       "      <td>-0.376045</td>\n",
       "      <td>0.115738</td>\n",
       "      <td>0.0</td>\n",
       "      <td>0.158124</td>\n",
       "      <td>-0.362767</td>\n",
       "      <td>0.434732</td>\n",
       "      <td>-0.613246</td>\n",
       "      <td>-0.982843</td>\n",
       "      <td>-0.803212</td>\n",
       "      <td>1.176466</td>\n",
       "      <td>0.752977</td>\n",
       "      <td>-0.671181</td>\n",
       "      <td>11.9</td>\n",
       "      <td>0.243482</td>\n",
       "      <td>-1.625627</td>\n",
       "    </tr>\n",
       "  </tbody>\n",
       "</table>\n",
       "<p>506 rows × 16 columns</p>\n",
       "</div>"
      ],
      "text/plain": [
       "         crim        zn     indus  chas       nox        rm       age  \\\n",
       "0   -0.532598 -0.376045 -1.287909   0.0 -0.144217  0.413672 -0.120013   \n",
       "1   -0.522142 -0.376045 -0.593381   0.0 -0.740262  0.194274  0.367166   \n",
       "2   -0.522152 -0.376045 -0.593381   0.0 -0.740262  1.282714 -0.265812   \n",
       "3   -0.519621 -0.376045 -1.306878   0.0 -0.835284  1.016303 -0.809889   \n",
       "4   -0.501350 -0.376045 -1.306878   0.0 -0.835284  1.228577 -0.511180   \n",
       "..        ...       ...       ...   ...       ...       ...       ...   \n",
       "501 -0.504548 -0.376045  0.115738   0.0  0.158124  0.439316  0.018673   \n",
       "502 -0.513195 -0.376045  0.115738   0.0  0.158124 -0.234548  0.288933   \n",
       "503 -0.505479 -0.376045  0.115738   0.0  0.158124  0.984960  0.797449   \n",
       "504 -0.481155 -0.376045  0.115738   0.0  0.158124  0.725672  0.736996   \n",
       "505 -0.512129 -0.376045  0.115738   0.0  0.158124 -0.362767  0.434732   \n",
       "\n",
       "          dis       rad       tax   ptratio         b     lstat  medv  \\\n",
       "0    0.140214 -0.982843 -0.666608 -1.459000  0.752977 -1.108875  24.0   \n",
       "1    0.557160 -0.867883 -0.987329 -0.303094  0.752977 -0.481010  21.6   \n",
       "2    0.557160 -0.867883 -0.987329 -0.303094  0.358976 -1.252257  34.7   \n",
       "3    1.077737 -0.752922 -1.106115  0.113032  0.533227 -1.416770  33.4   \n",
       "4    1.077737 -0.752922 -1.106115  0.113032  0.752977 -1.056049  36.2   \n",
       "..        ...       ...       ...       ...       ...       ...   ...   \n",
       "501 -0.625796 -0.982843 -0.803212  1.176466  0.277659 -0.401018  22.4   \n",
       "502 -0.716639 -0.982843 -0.803212  1.176466  0.752977 -0.490066  20.6   \n",
       "503 -0.773684 -0.982843 -0.803212  1.176466  0.752977 -1.009261  23.9   \n",
       "504 -0.668437 -0.982843 -0.803212  1.176466  0.418996 -0.882481  22.0   \n",
       "505 -0.613246 -0.982843 -0.803212  1.176466  0.752977 -0.671181  11.9   \n",
       "\n",
       "     RM_LSTAT   log_TAX  \n",
       "0   -0.458710 -1.098437  \n",
       "1   -0.093448 -4.368478  \n",
       "2   -1.606287 -4.368478  \n",
       "3   -1.439867       NaN  \n",
       "4   -1.297438       NaN  \n",
       "..        ...       ...  \n",
       "501 -0.176173 -1.625627  \n",
       "502  0.114944 -1.625627  \n",
       "503 -0.994082 -1.625627  \n",
       "504 -0.640392 -1.625627  \n",
       "505  0.243482 -1.625627  \n",
       "\n",
       "[506 rows x 16 columns]"
      ]
     },
     "execution_count": 16,
     "metadata": {},
     "output_type": "execute_result"
    }
   ],
   "source": [
    "df_boston"
   ]
  }
 ],
 "metadata": {
  "kernelspec": {
   "display_name": "python39",
   "language": "python",
   "name": "python3"
  },
  "language_info": {
   "codemirror_mode": {
    "name": "ipython",
    "version": 3
   },
   "file_extension": ".py",
   "mimetype": "text/x-python",
   "name": "python",
   "nbconvert_exporter": "python",
   "pygments_lexer": "ipython3",
   "version": "3.9.19"
  }
 },
 "nbformat": 4,
 "nbformat_minor": 5
}
